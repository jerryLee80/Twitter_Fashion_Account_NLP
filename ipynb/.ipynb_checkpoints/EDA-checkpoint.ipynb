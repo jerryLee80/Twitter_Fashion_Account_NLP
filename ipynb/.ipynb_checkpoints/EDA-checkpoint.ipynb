{
 "cells": [
  {
   "cell_type": "markdown",
   "metadata": {},
   "source": [
    "### Importing Libraries"
   ]
  },
  {
   "cell_type": "code",
   "execution_count": 20,
   "metadata": {},
   "outputs": [],
   "source": [
    "import numpy as np\n",
    "import pandas as pd\n",
    "\n",
    "from sklearn.feature_extraction.text import ENGLISH_STOP_WORDS\n",
    "from sklearn.feature_extraction.text import CountVectorizer, TfidfVectorizer\n",
    "\n",
    "import matplotlib.pyplot as plt\n",
    "%matplotlib inline"
   ]
  },
  {
   "cell_type": "markdown",
   "metadata": {},
   "source": [
    "### Loading Data"
   ]
  },
  {
   "cell_type": "code",
   "execution_count": 2,
   "metadata": {},
   "outputs": [],
   "source": [
    "fashion = pd.read_pickle('../data/fashion.pkl')"
   ]
  },
  {
   "cell_type": "markdown",
   "metadata": {},
   "source": [
    "### EDA & Cleaning"
   ]
  },
  {
   "cell_type": "code",
   "execution_count": 3,
   "metadata": {},
   "outputs": [
    {
     "data": {
      "text/plain": [
       "(9000, 4)"
      ]
     },
     "execution_count": 3,
     "metadata": {},
     "output_type": "execute_result"
    }
   ],
   "source": [
    "fashion.shape"
   ]
  },
  {
   "cell_type": "code",
   "execution_count": 4,
   "metadata": {},
   "outputs": [
    {
     "data": {
      "text/plain": [
       "Index(['created', 'handle', 'text', 'tweet_id'], dtype='object')"
      ]
     },
     "execution_count": 4,
     "metadata": {},
     "output_type": "execute_result"
    }
   ],
   "source": [
    "fashion.columns"
   ]
  },
  {
   "cell_type": "code",
   "execution_count": 5,
   "metadata": {},
   "outputs": [
    {
     "data": {
      "text/plain": [
       "'Presenting a new chapter of #InBloom, Gucci Bloom Acqua di Fiori, a fresh green scent in a campaign featuring #DakotaJohnson, @harinef and @petracollins https://t.co/El1buBhuCU \\nPhotographer: #GlenLunchford\\nArt director: #ChristopherSimmonds\\nCreative director: #AlessandroMichele https://t.co/xkTe1Mtvlk'"
      ]
     },
     "execution_count": 5,
     "metadata": {},
     "output_type": "execute_result"
    }
   ],
   "source": [
    "fashion.text[0]"
   ]
  },
  {
   "cell_type": "code",
   "execution_count": 6,
   "metadata": {},
   "outputs": [
    {
     "data": {
      "text/plain": [
       "handle\n",
       "Acne Studios         1000\n",
       "Alexander McQueen    1000\n",
       "Jimmy Choo           1000\n",
       "PRADA                1000\n",
       "Roberto Cavalli      2000\n",
       "Stella McCartney     1000\n",
       "TOM FORD             1000\n",
       "gucci                1000\n",
       "dtype: int64"
      ]
     },
     "execution_count": 6,
     "metadata": {},
     "output_type": "execute_result"
    }
   ],
   "source": [
    "fashion.groupby(fashion.handle).size()"
   ]
  },
  {
   "cell_type": "code",
   "execution_count": 7,
   "metadata": {},
   "outputs": [
    {
     "name": "stdout",
     "output_type": "stream",
     "text": [
      "<class 'pandas.core.frame.DataFrame'>\n",
      "RangeIndex: 9000 entries, 0 to 8999\n",
      "Data columns (total 4 columns):\n",
      "created     9000 non-null object\n",
      "handle      9000 non-null object\n",
      "text        9000 non-null object\n",
      "tweet_id    9000 non-null int64\n",
      "dtypes: int64(1), object(3)\n",
      "memory usage: 281.3+ KB\n"
     ]
    }
   ],
   "source": [
    "fashion.info()"
   ]
  },
  {
   "cell_type": "code",
   "execution_count": 8,
   "metadata": {},
   "outputs": [
    {
     "data": {
      "text/plain": [
       "created     datetime64[ns]\n",
       "text                object\n",
       "tweet_id             int64\n",
       "dtype: object"
      ]
     },
     "execution_count": 8,
     "metadata": {},
     "output_type": "execute_result"
    }
   ],
   "source": [
    "#switching date of tweet dtype from object to date-time\n",
    "fashion['created'] = pd.to_datetime(fashion.created)\n",
    "\n",
    "#setting handle as index\n",
    "fashion.set_index('handle', inplace=True)\n",
    "\n",
    "fashion.dtypes"
   ]
  },
  {
   "cell_type": "code",
   "execution_count": 9,
   "metadata": {},
   "outputs": [
    {
     "data": {
      "text/html": [
       "<div>\n",
       "<style scoped>\n",
       "    .dataframe tbody tr th:only-of-type {\n",
       "        vertical-align: middle;\n",
       "    }\n",
       "\n",
       "    .dataframe tbody tr th {\n",
       "        vertical-align: top;\n",
       "    }\n",
       "\n",
       "    .dataframe thead th {\n",
       "        text-align: right;\n",
       "    }\n",
       "</style>\n",
       "<table border=\"1\" class=\"dataframe\">\n",
       "  <thead>\n",
       "    <tr style=\"text-align: right;\">\n",
       "      <th></th>\n",
       "      <th>created</th>\n",
       "      <th>text</th>\n",
       "      <th>tweet_id</th>\n",
       "    </tr>\n",
       "    <tr>\n",
       "      <th>handle</th>\n",
       "      <th></th>\n",
       "      <th></th>\n",
       "      <th></th>\n",
       "    </tr>\n",
       "  </thead>\n",
       "  <tbody>\n",
       "    <tr>\n",
       "      <th>gucci</th>\n",
       "      <td>2018-03-21 17:59:41</td>\n",
       "      <td>Presenting a new chapter of #InBloom, Gucci Bl...</td>\n",
       "      <td>976518722830716931</td>\n",
       "    </tr>\n",
       "    <tr>\n",
       "      <th>gucci</th>\n",
       "      <td>2018-03-20 19:00:35</td>\n",
       "      <td>“It was my way of surviving, to charm people o...</td>\n",
       "      <td>976171664982659073</td>\n",
       "    </tr>\n",
       "    <tr>\n",
       "      <th>gucci</th>\n",
       "      <td>2018-03-20 16:00:39</td>\n",
       "      <td>.@MichaelClarkCo reveals, \"Japan is the most a...</td>\n",
       "      <td>976126380206383104</td>\n",
       "    </tr>\n",
       "    <tr>\n",
       "      <th>gucci</th>\n",
       "      <td>2018-03-20 13:00:24</td>\n",
       "      <td>In ‘The Performers’ Act VI #Gucci and @british...</td>\n",
       "      <td>976081018347237378</td>\n",
       "    </tr>\n",
       "    <tr>\n",
       "      <th>gucci</th>\n",
       "      <td>2018-03-19 20:00:19</td>\n",
       "      <td>\"I have always been fascinated by what is acce...</td>\n",
       "      <td>975824309263454209</td>\n",
       "    </tr>\n",
       "  </tbody>\n",
       "</table>\n",
       "</div>"
      ],
      "text/plain": [
       "                   created                                               text  \\\n",
       "handle                                                                          \n",
       "gucci  2018-03-21 17:59:41  Presenting a new chapter of #InBloom, Gucci Bl...   \n",
       "gucci  2018-03-20 19:00:35  “It was my way of surviving, to charm people o...   \n",
       "gucci  2018-03-20 16:00:39  .@MichaelClarkCo reveals, \"Japan is the most a...   \n",
       "gucci  2018-03-20 13:00:24  In ‘The Performers’ Act VI #Gucci and @british...   \n",
       "gucci  2018-03-19 20:00:19  \"I have always been fascinated by what is acce...   \n",
       "\n",
       "                  tweet_id  \n",
       "handle                      \n",
       "gucci   976518722830716931  \n",
       "gucci   976171664982659073  \n",
       "gucci   976126380206383104  \n",
       "gucci   976081018347237378  \n",
       "gucci   975824309263454209  "
      ]
     },
     "execution_count": 9,
     "metadata": {},
     "output_type": "execute_result"
    }
   ],
   "source": [
    "fashion.head()"
   ]
  },
  {
   "cell_type": "code",
   "execution_count": null,
   "metadata": {},
   "outputs": [],
   "source": []
  },
  {
   "cell_type": "markdown",
   "metadata": {},
   "source": [
    "### ngrams"
   ]
  },
  {
   "cell_type": "code",
   "execution_count": null,
   "metadata": {},
   "outputs": [],
   "source": []
  },
  {
   "cell_type": "code",
   "execution_count": 10,
   "metadata": {},
   "outputs": [
    {
     "data": {
      "text/plain": [
       "(9000, 133822)"
      ]
     },
     "execution_count": 10,
     "metadata": {},
     "output_type": "execute_result"
    }
   ],
   "source": [
    "stop_words = list(ENGLISH_STOP_WORDS)\n",
    "#stop_words.append()\n",
    "\n",
    "vect = CountVectorizer(stop_words=stop_words, ngram_range=(2,3))\n",
    "X = vect.fit_transform(fashion.text)\n",
    "\n",
    "all_text = pd.DataFrame(X.toarray(), columns=vect.get_feature_names())\n",
    "all_text.index = fashion.index\n",
    "all_text.shape"
   ]
  },
  {
   "cell_type": "code",
   "execution_count": 13,
   "metadata": {},
   "outputs": [
    {
     "data": {
      "text/html": [
       "<div>\n",
       "<style scoped>\n",
       "    .dataframe tbody tr th:only-of-type {\n",
       "        vertical-align: middle;\n",
       "    }\n",
       "\n",
       "    .dataframe tbody tr th {\n",
       "        vertical-align: top;\n",
       "    }\n",
       "\n",
       "    .dataframe thead th {\n",
       "        text-align: right;\n",
       "    }\n",
       "</style>\n",
       "<table border=\"1\" class=\"dataframe\">\n",
       "  <thead>\n",
       "    <tr style=\"text-align: right;\">\n",
       "      <th></th>\n",
       "      <th>00 gmt</th>\n",
       "      <th>00 gmt https</th>\n",
       "      <th>00 gmt offwhitejimmychoo</th>\n",
       "      <th>00 milan</th>\n",
       "      <th>00 milan time</th>\n",
       "      <th>00 pm</th>\n",
       "      <th>00 pm milan</th>\n",
       "      <th>000 risk</th>\n",
       "      <th>000 risk people</th>\n",
       "      <th>000 sequins</th>\n",
       "      <th>...</th>\n",
       "      <th>第2弾はピースサインやテディベア アクネ</th>\n",
       "      <th>第2弾はピースサインやテディベア アクネ ストゥディオズのemojiコレクション</th>\n",
       "      <th>訂正 アクネ</th>\n",
       "      <th>訂正 アクネ ストゥディオズ</th>\n",
       "      <th>送吉祥 roberto</th>\n",
       "      <th>送吉祥 roberto cavalli祝您狗年旺旺旺</th>\n",
       "      <th>進化したデニムコレクションをストアでチェック acnestudiosblakonst</th>\n",
       "      <th>進化したデニムコレクションをストアでチェック acnestudiosblakonst https</th>\n",
       "      <th>１０ 進化したデニムコレクションをストアでチェック</th>\n",
       "      <th>１０ 進化したデニムコレクションをストアでチェック acnestudiosblakonst</th>\n",
       "    </tr>\n",
       "    <tr>\n",
       "      <th>handle</th>\n",
       "      <th></th>\n",
       "      <th></th>\n",
       "      <th></th>\n",
       "      <th></th>\n",
       "      <th></th>\n",
       "      <th></th>\n",
       "      <th></th>\n",
       "      <th></th>\n",
       "      <th></th>\n",
       "      <th></th>\n",
       "      <th></th>\n",
       "      <th></th>\n",
       "      <th></th>\n",
       "      <th></th>\n",
       "      <th></th>\n",
       "      <th></th>\n",
       "      <th></th>\n",
       "      <th></th>\n",
       "      <th></th>\n",
       "      <th></th>\n",
       "      <th></th>\n",
       "    </tr>\n",
       "  </thead>\n",
       "  <tbody>\n",
       "    <tr>\n",
       "      <th>gucci</th>\n",
       "      <td>0</td>\n",
       "      <td>0</td>\n",
       "      <td>0</td>\n",
       "      <td>0</td>\n",
       "      <td>0</td>\n",
       "      <td>0</td>\n",
       "      <td>0</td>\n",
       "      <td>0</td>\n",
       "      <td>0</td>\n",
       "      <td>0</td>\n",
       "      <td>...</td>\n",
       "      <td>0</td>\n",
       "      <td>0</td>\n",
       "      <td>0</td>\n",
       "      <td>0</td>\n",
       "      <td>0</td>\n",
       "      <td>0</td>\n",
       "      <td>0</td>\n",
       "      <td>0</td>\n",
       "      <td>0</td>\n",
       "      <td>0</td>\n",
       "    </tr>\n",
       "    <tr>\n",
       "      <th>gucci</th>\n",
       "      <td>0</td>\n",
       "      <td>0</td>\n",
       "      <td>0</td>\n",
       "      <td>0</td>\n",
       "      <td>0</td>\n",
       "      <td>0</td>\n",
       "      <td>0</td>\n",
       "      <td>0</td>\n",
       "      <td>0</td>\n",
       "      <td>0</td>\n",
       "      <td>...</td>\n",
       "      <td>0</td>\n",
       "      <td>0</td>\n",
       "      <td>0</td>\n",
       "      <td>0</td>\n",
       "      <td>0</td>\n",
       "      <td>0</td>\n",
       "      <td>0</td>\n",
       "      <td>0</td>\n",
       "      <td>0</td>\n",
       "      <td>0</td>\n",
       "    </tr>\n",
       "    <tr>\n",
       "      <th>gucci</th>\n",
       "      <td>0</td>\n",
       "      <td>0</td>\n",
       "      <td>0</td>\n",
       "      <td>0</td>\n",
       "      <td>0</td>\n",
       "      <td>0</td>\n",
       "      <td>0</td>\n",
       "      <td>0</td>\n",
       "      <td>0</td>\n",
       "      <td>0</td>\n",
       "      <td>...</td>\n",
       "      <td>0</td>\n",
       "      <td>0</td>\n",
       "      <td>0</td>\n",
       "      <td>0</td>\n",
       "      <td>0</td>\n",
       "      <td>0</td>\n",
       "      <td>0</td>\n",
       "      <td>0</td>\n",
       "      <td>0</td>\n",
       "      <td>0</td>\n",
       "    </tr>\n",
       "    <tr>\n",
       "      <th>gucci</th>\n",
       "      <td>0</td>\n",
       "      <td>0</td>\n",
       "      <td>0</td>\n",
       "      <td>0</td>\n",
       "      <td>0</td>\n",
       "      <td>0</td>\n",
       "      <td>0</td>\n",
       "      <td>0</td>\n",
       "      <td>0</td>\n",
       "      <td>0</td>\n",
       "      <td>...</td>\n",
       "      <td>0</td>\n",
       "      <td>0</td>\n",
       "      <td>0</td>\n",
       "      <td>0</td>\n",
       "      <td>0</td>\n",
       "      <td>0</td>\n",
       "      <td>0</td>\n",
       "      <td>0</td>\n",
       "      <td>0</td>\n",
       "      <td>0</td>\n",
       "    </tr>\n",
       "    <tr>\n",
       "      <th>gucci</th>\n",
       "      <td>0</td>\n",
       "      <td>0</td>\n",
       "      <td>0</td>\n",
       "      <td>0</td>\n",
       "      <td>0</td>\n",
       "      <td>0</td>\n",
       "      <td>0</td>\n",
       "      <td>0</td>\n",
       "      <td>0</td>\n",
       "      <td>0</td>\n",
       "      <td>...</td>\n",
       "      <td>0</td>\n",
       "      <td>0</td>\n",
       "      <td>0</td>\n",
       "      <td>0</td>\n",
       "      <td>0</td>\n",
       "      <td>0</td>\n",
       "      <td>0</td>\n",
       "      <td>0</td>\n",
       "      <td>0</td>\n",
       "      <td>0</td>\n",
       "    </tr>\n",
       "  </tbody>\n",
       "</table>\n",
       "<p>5 rows × 133822 columns</p>\n",
       "</div>"
      ],
      "text/plain": [
       "        00 gmt  00 gmt https  00 gmt offwhitejimmychoo  00 milan  \\\n",
       "handle                                                             \n",
       "gucci        0             0                         0         0   \n",
       "gucci        0             0                         0         0   \n",
       "gucci        0             0                         0         0   \n",
       "gucci        0             0                         0         0   \n",
       "gucci        0             0                         0         0   \n",
       "\n",
       "        00 milan time  00 pm  00 pm milan  000 risk  000 risk people  \\\n",
       "handle                                                                 \n",
       "gucci               0      0            0         0                0   \n",
       "gucci               0      0            0         0                0   \n",
       "gucci               0      0            0         0                0   \n",
       "gucci               0      0            0         0                0   \n",
       "gucci               0      0            0         0                0   \n",
       "\n",
       "        000 sequins                      ...                        \\\n",
       "handle                                   ...                         \n",
       "gucci             0                      ...                         \n",
       "gucci             0                      ...                         \n",
       "gucci             0                      ...                         \n",
       "gucci             0                      ...                         \n",
       "gucci             0                      ...                         \n",
       "\n",
       "        第2弾はピースサインやテディベア アクネ  第2弾はピースサインやテディベア アクネ ストゥディオズのemojiコレクション  \\\n",
       "handle                                                                   \n",
       "gucci                      0                                         0   \n",
       "gucci                      0                                         0   \n",
       "gucci                      0                                         0   \n",
       "gucci                      0                                         0   \n",
       "gucci                      0                                         0   \n",
       "\n",
       "        訂正 アクネ  訂正 アクネ ストゥディオズ  送吉祥 roberto  送吉祥 roberto cavalli祝您狗年旺旺旺  \\\n",
       "handle                                                                    \n",
       "gucci        0               0            0                           0   \n",
       "gucci        0               0            0                           0   \n",
       "gucci        0               0            0                           0   \n",
       "gucci        0               0            0                           0   \n",
       "gucci        0               0            0                           0   \n",
       "\n",
       "        進化したデニムコレクションをストアでチェック acnestudiosblakonst  \\\n",
       "handle                                               \n",
       "gucci                                            0   \n",
       "gucci                                            0   \n",
       "gucci                                            0   \n",
       "gucci                                            0   \n",
       "gucci                                            0   \n",
       "\n",
       "        進化したデニムコレクションをストアでチェック acnestudiosblakonst https  \\\n",
       "handle                                                     \n",
       "gucci                                                  0   \n",
       "gucci                                                  0   \n",
       "gucci                                                  0   \n",
       "gucci                                                  0   \n",
       "gucci                                                  0   \n",
       "\n",
       "        １０ 進化したデニムコレクションをストアでチェック  \\\n",
       "handle                              \n",
       "gucci                           0   \n",
       "gucci                           0   \n",
       "gucci                           0   \n",
       "gucci                           0   \n",
       "gucci                           0   \n",
       "\n",
       "        １０ 進化したデニムコレクションをストアでチェック acnestudiosblakonst  \n",
       "handle                                                 \n",
       "gucci                                               0  \n",
       "gucci                                               0  \n",
       "gucci                                               0  \n",
       "gucci                                               0  \n",
       "gucci                                               0  \n",
       "\n",
       "[5 rows x 133822 columns]"
      ]
     },
     "execution_count": 13,
     "metadata": {},
     "output_type": "execute_result"
    }
   ],
   "source": [
    "#pd.set_option('display.max_columns', 999)\n",
    "#pd.set_option('display.max_colwidth', 999)\n",
    "\n",
    "all_text.head()"
   ]
  },
  {
   "cell_type": "code",
   "execution_count": 33,
   "metadata": {},
   "outputs": [
    {
     "data": {
      "text/plain": [
       "alessandromichele https                  206\n",
       "mfw https                                 98\n",
       "guccicruise18 alessandromichele           85\n",
       "guccicruise18 alessandromichele https     57\n",
       "guccicruise18 https                       48\n",
       "alessandromichele mfw                     44\n",
       "gucciss18 fashion                         41\n",
       "alessandromichele mfw https               41\n",
       "house web                                 35\n",
       "gucci bloom                               34\n",
       "guccifw18 fashion                         31\n",
       "creative director                         31\n",
       "alessandromichele guccicruise18           30\n",
       "guccicruise18 campaign                    30\n",
       "guccigift alessandromichele               29\n",
       "guccifw17 https                           28\n",
       "director alessandromichele                26\n",
       "inbloom https                             25\n",
       "web stripe                                25\n",
       "creative director alessandromichele       25\n",
       "guccifw17 alessandromichele               24\n",
       "alessandromichele guccicruise18 https     24\n",
       "ignasimonreal guccigift                   24\n",
       "artandfilm gala                           24\n",
       "artist ignasimonreal                      24\n",
       "dtype: int64"
      ]
     },
     "execution_count": 33,
     "metadata": {},
     "output_type": "execute_result"
    }
   ],
   "source": [
    "gucci_ng"
   ]
  },
  {
   "cell_type": "code",
   "execution_count": 36,
   "metadata": {},
   "outputs": [],
   "source": [
    "gucci_ng = all_text[all_text.index == \"gucci\"].sum().sort_values(ascending=False).head(25)\n"
   ]
  },
  {
   "cell_type": "code",
   "execution_count": 42,
   "metadata": {},
   "outputs": [
    {
     "data": {
      "image/png": "[encoded data removed]",
      "text/plain": [
       "<matplotlib.figure.Figure at 0x1a11df7390>"
      ]
     },
     "metadata": {},
     "output_type": "display_data"
    }
   ],
   "source": [
    "gucci_ng.plot(kind='barh', figsize=(20,16));"
   ]
  },
  {
   "cell_type": "code",
   "execution_count": null,
   "metadata": {},
   "outputs": [],
   "source": []
  }
 ],
 "metadata": {
  "kernelspec": {
   "display_name": "Python 3",
   "language": "python",
   "name": "python3"
  },
  "language_info": {
   "codemirror_mode": {
    "name": "ipython",
    "version": 3
   },
   "file_extension": ".py",
   "mimetype": "text/x-python",
   "name": "python",
   "nbconvert_exporter": "python",
   "pygments_lexer": "ipython3",
   "version": "3.6.4"
  }
 },
 "nbformat": 4,
 "nbformat_minor": 2
}
