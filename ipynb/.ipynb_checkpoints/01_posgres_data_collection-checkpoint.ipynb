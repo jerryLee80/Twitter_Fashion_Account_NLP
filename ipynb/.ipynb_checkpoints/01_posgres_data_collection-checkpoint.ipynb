{
 "cells": [
  {
   "cell_type": "markdown",
   "metadata": {},
   "source": [
    "### Importing Libraries"
   ]
  },
  {
   "cell_type": "code",
   "execution_count": 1,
   "metadata": {},
   "outputs": [],
   "source": [
    "import numpy as np\n",
    "import pandas as pd\n",
    "\n",
    "import json\n",
    "\n",
    "import psycopg2 as pg2\n",
    "from psycopg2.extras import RealDictCursor, Json"
   ]
  },
  {
   "cell_type": "markdown",
   "metadata": {},
   "source": [
    "### Functions "
   ]
  },
  {
   "cell_type": "code",
   "execution_count": 2,
   "metadata": {},
   "outputs": [],
   "source": [
    "#function to connect to posgres db on ubuntu instance \n",
    "\n",
    "def con_cur_to_db():\n",
    "    con = pg2.connect(host = '13.52.0.109', \n",
    "                     dbname = 'postgres',\n",
    "                     user = 'postgres',\n",
    "                     password = 'zoolander')\n",
    "    cur = con.cursor(cursor_factory = RealDictCursor)\n",
    "    return con, cur"
   ]
  },
  {
   "cell_type": "code",
   "execution_count": 3,
   "metadata": {},
   "outputs": [],
   "source": [
    "#function to insert data into unstructured postgres db\n",
    "\n",
    "def insert_json(data):\n",
    "    con, cur = con_cur_to_db()\n",
    "    for x in data:\n",
    "        cur.execute('INSERT INTO all_data (data) VALUES ({});'.format(Json(x)))\n",
    "    con.commit()\n",
    "    con.close()"
   ]
  },
  {
   "cell_type": "code",
   "execution_count": 133,
   "metadata": {},
   "outputs": [],
   "source": [
    "#grabs data from postgres db\n",
    "\n",
    "def fetch_data(query):\n",
    "    con, cur = con_cur_to_db()\n",
    "    cur.execute(query)\n",
    "    data = cur.fetchall()\n",
    "    con.close()\n",
    "    return data"
   ]
  },
  {
   "cell_type": "code",
   "execution_count": 134,
   "metadata": {},
   "outputs": [],
   "source": [
    "#function to run sql queries in postgres db \n",
    "\n",
    "def get_handle_tweets(handle):\n",
    "    query = f\"\"\"\n",
    "    SELECT * \n",
    "    FROM all_data\n",
    "    Where data->>'handle' = \n",
    "    '{handle}'; \"\"\"\n",
    "    data = fetch_data(query)\n",
    "    return data"
   ]
  },
  {
   "cell_type": "code",
   "execution_count": 135,
   "metadata": {},
   "outputs": [],
   "source": [
    "#transforms list of dicts of dicts to list of dicts \n",
    "\n",
    "def extractor(query_result):\n",
    "    return [*map(lambda x: x['data'], query_result)]"
   ]
  },
  {
   "cell_type": "code",
   "execution_count": null,
   "metadata": {},
   "outputs": [],
   "source": []
  },
  {
   "cell_type": "code",
   "execution_count": 204,
   "metadata": {},
   "outputs": [],
   "source": []
  },
  {
   "cell_type": "code",
   "execution_count": 205,
   "metadata": {},
   "outputs": [
    {
     "data": {
      "text/plain": [
       "(17518, 4)"
      ]
     },
     "execution_count": 205,
     "metadata": {},
     "output_type": "execute_result"
    }
   ],
   "source": [
    "labels = ['Acne Studios', 'Akris', 'Alexander McQueen', 'gucci', 'Jimmy Choo', 'PRADA', 'Roberto Cavalli',\\\n",
    "'Stella McCartney', 'TOM FORD'] \n",
    "\n",
    "data = []\n",
    "\n",
    "for label in labels:\n",
    "    data.extend(get_handle_tweets(label))\n",
    "    \n",
    "extracted_data = extractor(data)\n",
    "\n",
    "fashion = pd.DataFrame(extracted_data)\n",
    "fashion.shape"
   ]
  },
  {
   "cell_type": "code",
   "execution_count": 208,
   "metadata": {},
   "outputs": [
    {
     "data": {
      "text/plain": [
       "gucci                3240\n",
       "Alexander McQueen    2000\n",
       "Roberto Cavalli      2000\n",
       "Stella McCartney     2000\n",
       "Acne Studios         2000\n",
       "Jimmy Choo           1999\n",
       "PRADA                1991\n",
       "TOM FORD             1290\n",
       "Akris                 998\n",
       "Name: handle, dtype: int64"
      ]
     },
     "execution_count": 208,
     "metadata": {},
     "output_type": "execute_result"
    }
   ],
   "source": [
    "fashion.handle.value_counts()"
   ]
  },
  {
   "cell_type": "code",
   "execution_count": null,
   "metadata": {},
   "outputs": [],
   "source": []
  },
  {
   "cell_type": "code",
   "execution_count": null,
   "metadata": {},
   "outputs": [],
   "source": []
  },
  {
   "cell_type": "code",
   "execution_count": null,
   "metadata": {},
   "outputs": [],
   "source": []
  },
  {
   "cell_type": "code",
   "execution_count": null,
   "metadata": {},
   "outputs": [],
   "source": []
  },
  {
   "cell_type": "code",
   "execution_count": null,
   "metadata": {},
   "outputs": [],
   "source": [
    "#################################### dave function \n",
    "\n",
    "items = range(1, 500)\n",
    "\n",
    "# write a function that will capture items in chunks of 10 from 5000, decending\n",
    "bucket = []\n",
    "\n",
    "def grab_10_items():\n",
    "    \n",
    "    # what is the lowest number in bucket so far?\n",
    "    #start from there\n",
    "    \n",
    "    min_bucket = min(bucket)\n",
    "    \n",
    "    if items[min_bucket:-10] in bcuket:\n",
    "        bucket.append(the stuff you find..)\n",
    "\n",
    "grab_10_items()\n"
   ]
  },
  {
   "cell_type": "code",
   "execution_count": null,
   "metadata": {},
   "outputs": [],
   "source": []
  },
  {
   "cell_type": "code",
   "execution_count": null,
   "metadata": {},
   "outputs": [],
   "source": []
  },
  {
   "cell_type": "markdown",
   "metadata": {},
   "source": [
    "### Collecting Fashion House Tweets"
   ]
  },
  {
   "cell_type": "code",
   "execution_count": 5,
   "metadata": {},
   "outputs": [],
   "source": [
    "#Reading in application keys \n",
    "\n",
    "with open('../data/twitter_keys.txt') as api:\n",
    "    keys = api.read().split('\\n') \n",
    "\n",
    "#Aplication keys\n",
    "\n",
    "import twitter, re, datetime, pandas as pd\n",
    "\n",
    "twitter_keys = {\n",
    "    'consumer_key':        keys[0],\n",
    "    'consumer_secret':     keys[1],\n",
    "    'access_token_key':    keys[2],\n",
    "    'access_token_secret': keys[3]\n",
    "}\n",
    "\n",
    "api = twitter.Api(\n",
    "    consumer_key         =   twitter_keys['consumer_key'],\n",
    "    consumer_secret      =   twitter_keys['consumer_secret'],\n",
    "    access_token_key     =   twitter_keys['access_token_key'],\n",
    "    access_token_secret  =   twitter_keys['access_token_secret'],\n",
    "    tweet_mode           =   'extended'\n",
    ")"
   ]
  },
  {
   "cell_type": "code",
   "execution_count": 9,
   "metadata": {},
   "outputs": [],
   "source": [
    "#Twitter API Class\n",
    "\n",
    "class TweetMiner():\n",
    "    \n",
    "    result_limit = 20\n",
    "    api          = None\n",
    "    tweets       = []\n",
    "    \n",
    "    def __init__(self, keys_dict, api, result_limit = 20):\n",
    "        \n",
    "        self.keys_dict     = keys_dict\n",
    "        self.api           = api\n",
    "        self.results_limit = result_limit\n",
    "        \n",
    "    def mine_user_tweets(self, user='gucci', mine_retweets = False, max_pages = None, last_tweet_id = False):\n",
    "        \n",
    "        #time out feedback\n",
    "        print(\"Mining tweets for:\", user)\n",
    "        \n",
    "        tweets        = []\n",
    "        last_tweet_id = False\n",
    "        page           = 1\n",
    "        \n",
    "        while page <= max_pages:\n",
    "            \n",
    "            #time out feedback\n",
    "            print(\"Mining page:\", page)\n",
    "            \n",
    "            if last_tweet_id:\n",
    "                statuses = self.api.GetUserTimeline(\n",
    "                    screen_name = user,\n",
    "                    count       = self.result_limit,\n",
    "                    max_id      = last_tweet_id - 1\n",
    "                )\n",
    "            else:\n",
    "                statuses = self.api.GetUserTimeline(\n",
    "                    screen_name = user,\n",
    "                    count       = self.result_limit\n",
    "                )\n",
    "\n",
    "            for item in statuses:\n",
    "                \n",
    "                last_tweet_id = item.id\n",
    "                \n",
    "                tweets.append({\n",
    "                    'tweet_id': item.id,\n",
    "                    'handle':   item.user.name,\n",
    "                    'text':     item.full_text,\n",
    "                    'created':  item.created_at\n",
    "                })\n",
    "                \n",
    "            page += 1\n",
    "        \n",
    "        return tweets\n",
    "            \n",
    "        \n",
    "miner = TweetMiner(twitter_keys, api, result_limit=50)"
   ]
  },
  {
   "cell_type": "markdown",
   "metadata": {},
   "source": [
    "### Fashion Labels"
   ]
  },
  {
   "cell_type": "code",
   "execution_count": 1,
   "metadata": {},
   "outputs": [
    {
     "name": "stdout",
     "output_type": "stream",
     "text": [
      "wikipedia_labels 96\n",
      "fashion_labels: 45\n",
      "prime_labels: 10\n"
     ]
    }
   ],
   "source": [
    "wikipedia_labels = ['akris_official', 'McQueen', 'alfreddunhill', 'AlphaIndustries', 'andres_sarda', 'Anne_Fontaine',\\\n",
    "                   'aquascutum', 'giorgioarmani', 'emporioarmani', 'ArmaniExchange', 'AspinalofLondon', 'AspreyLondon',\\\n",
    "                   'AleDellAcqua', 'Dior', 'dkny', 'dolcegabbana', '_BadgleyMischka', 'BadgleyMischka', 'BALENCIAGA',\\\n",
    "                   'Bally', 'Balmain', 'BensonAndClegg', 'berluti', 'Beulahlondon', 'ManoloBlahnik', 'HUGOBOSS',\\\n",
    "                    'BottegaVeneta', 'ThomBrowneNY', 'Bulgariofficial', 'Burberry', 'NigelCabourn', 'CalvinKlein',\\\n",
    "                   'camillaandmarc', 'Cartier', 'Dsquared2', 'CERRUTI1881', 'CHANEL', 'Childrensalon', 'chloefashion',\\\n",
    "                   'matthewbridal', 'chromeheartsusa', 'ClementsRibeiro', 'Coach', 'COMMEGARCONS', 'Common Projects',\\\n",
    "                   'corneliajames', 'Corneliani_com', 'CuteCircuit', 'cutlerandgross', 'DegeandSkinner', 'NUMEROVENTUNO',\\\n",
    "                   'dkny', 'dolcegabbana', 'ermannoscervino', 'ESCADA', 'EtroOfficial', 'Faconnable', 'Fendi',\\\n",
    "                    'TOMFORD', 'franksorbier', 'freywilleglobal', 'STUDIO_FULTON', 'DVF', 'JPGaultier', 'GievesLondon',\\\n",
    "                   'givenchy', 'Goyard', 'gucci', 'HackettLondon', 'KevanHallDesign', 'halston', 'Hardy Amies ', 'HELMUTLANG',\\\n",
    "                   'Hermes_Paris', 'HouseofHerrera', 'TommyHilfiger', 'SherriHill', 'GeorgesHobeika', 'marcjacobs', 'jimmychoo',\\\n",
    "                   'johnvarvatos', 'ChristopherKane', 'Karen_Kane', 'katespadeny', 'MaryKatrantzou', ' Khaadi', 'LACOSTE',\\\n",
    "                   'BNYhandbags', 'KarlLagerfeld', 'DerekLamNYC', 'LANVINofficial', 'LardiniOfficial', 'guylaroche', 'Larusmiani',\\\n",
    "                   'JudithLeiber', '']\n",
    "\n",
    "\n",
    "fashion_labels = ['gucci', 'McQueen', 'StellaMcCartney', 'Fendi', 'MaisonValentino', 'Roberto_Cavalli',\\\n",
    "                  'LouboutinWorld', 'EtroOfficial', 'Prada', 'dolcegabbana', 'Dior', 'LouisVuitton', 'CHANEL'\\\n",
    "                 'Missoni', 'OscardelaRenta', 'VeraWangGang', 'HerveLeger', 'MaisonValentino', 'Balmain',\\\n",
    "                 'Versace', 'giorgioarmani', 'DerekLamNYC', 'AlbertaFerretti', 'YSL', 'COMMEGARCONS', 'BALENCIAGA',\\\n",
    "                 'Burberry', 'TOMFORD', 'ALEXVAUTHIER', 'MIUMIUofficial', 'CalvinKlein', 'givenchy', 'TommyHilfiger',\\\n",
    "                 'jimmychoo', 'OffWht', 'chloefashion','dkny', 'marcjacobs', 'MichaelKors', 'Goyard', 'HUGOBOSS',\\\n",
    "                 'kenzo', 'HELMUTLANG', 'acnestudios', 'Bulgariofficial', 'akris_official']\n",
    "\n",
    "prime_labels = ['gucci', 'McQueen', 'StellaMcCartney', 'Roberto_Cavalli', 'acnestudios', 'jimmychoo', 'Roberto_Cavalli',\\\n",
    "               'TOMFORD', 'Prada', 'akris_official']\n",
    "\n",
    "print('wikipedia_labels', len(wikipedia_labels))\n",
    "print('fashion_labels:', len(fashion_labels))\n",
    "print('prime_labels:', len(prime_labels))"
   ]
  },
  {
   "cell_type": "code",
   "execution_count": null,
   "metadata": {},
   "outputs": [],
   "source": []
  },
  {
   "cell_type": "code",
   "execution_count": null,
   "metadata": {},
   "outputs": [],
   "source": []
  },
  {
   "cell_type": "code",
   "execution_count": null,
   "metadata": {},
   "outputs": [],
   "source": []
  },
  {
   "cell_type": "code",
   "execution_count": 13,
   "metadata": {},
   "outputs": [
    {
     "name": "stdout",
     "output_type": "stream",
     "text": [
      "Mining tweets for: gucci\n",
      "Mining page: 1\n"
     ]
    },
    {
     "ename": "TwitterError",
     "evalue": "[{'message': 'Rate limit exceeded', 'code': 88}]",
     "output_type": "error",
     "traceback": [
      "\u001b[0;31m---------------------------------------------------------------------------\u001b[0m",
      "\u001b[0;31mTwitterError\u001b[0m                              Traceback (most recent call last)",
      "\u001b[0;32m<ipython-input-13-53c41f5b7b5f>\u001b[0m in \u001b[0;36m<module>\u001b[0;34m()\u001b[0m\n\u001b[1;32m      4\u001b[0m \u001b[0;34m\u001b[0m\u001b[0m\n\u001b[1;32m      5\u001b[0m \u001b[0;32mfor\u001b[0m \u001b[0mlabel\u001b[0m \u001b[0;32min\u001b[0m \u001b[0mprime_labels\u001b[0m\u001b[0;34m:\u001b[0m\u001b[0;34m\u001b[0m\u001b[0m\n\u001b[0;32m----> 6\u001b[0;31m     \u001b[0mtweet_data\u001b[0m\u001b[0;34m.\u001b[0m\u001b[0mextend\u001b[0m\u001b[0;34m(\u001b[0m\u001b[0mminer\u001b[0m\u001b[0;34m.\u001b[0m\u001b[0mmine_user_tweets\u001b[0m\u001b[0;34m(\u001b[0m\u001b[0muser\u001b[0m\u001b[0;34m=\u001b[0m\u001b[0mlabel\u001b[0m\u001b[0;34m,\u001b[0m \u001b[0mmax_pages\u001b[0m\u001b[0;34m=\u001b[0m\u001b[0;36m50\u001b[0m\u001b[0;34m,\u001b[0m \u001b[0mlast_tweet_id\u001b[0m\u001b[0;34m=\u001b[0m\u001b[0;32mTrue\u001b[0m\u001b[0;34m)\u001b[0m\u001b[0;34m)\u001b[0m\u001b[0;34m\u001b[0m\u001b[0m\n\u001b[0m\u001b[1;32m      7\u001b[0m \u001b[0;34m\u001b[0m\u001b[0m\n\u001b[1;32m      8\u001b[0m \u001b[0mfashion\u001b[0m \u001b[0;34m=\u001b[0m \u001b[0mpd\u001b[0m\u001b[0;34m.\u001b[0m\u001b[0mDataFrame\u001b[0m\u001b[0;34m(\u001b[0m\u001b[0mtweet_data\u001b[0m\u001b[0;34m)\u001b[0m\u001b[0;34m\u001b[0m\u001b[0m\n",
      "\u001b[0;32m<ipython-input-9-8a59ee1c08a4>\u001b[0m in \u001b[0;36mmine_user_tweets\u001b[0;34m(self, user, mine_retweets, max_pages, last_tweet_id)\u001b[0m\n\u001b[1;32m     36\u001b[0m                 statuses = self.api.GetUserTimeline(\n\u001b[1;32m     37\u001b[0m                     \u001b[0mscreen_name\u001b[0m \u001b[0;34m=\u001b[0m \u001b[0muser\u001b[0m\u001b[0;34m,\u001b[0m\u001b[0;34m\u001b[0m\u001b[0m\n\u001b[0;32m---> 38\u001b[0;31m                     \u001b[0mcount\u001b[0m       \u001b[0;34m=\u001b[0m \u001b[0mself\u001b[0m\u001b[0;34m.\u001b[0m\u001b[0mresult_limit\u001b[0m\u001b[0;34m\u001b[0m\u001b[0m\n\u001b[0m\u001b[1;32m     39\u001b[0m                 )\n\u001b[1;32m     40\u001b[0m \u001b[0;34m\u001b[0m\u001b[0m\n",
      "\u001b[0;32m/anaconda2/envs/dsi/lib/python3.6/site-packages/twitter/api.py\u001b[0m in \u001b[0;36mGetUserTimeline\u001b[0;34m(self, user_id, screen_name, since_id, max_id, count, include_rts, trim_user, exclude_replies)\u001b[0m\n\u001b[1;32m    809\u001b[0m \u001b[0;34m\u001b[0m\u001b[0m\n\u001b[1;32m    810\u001b[0m         \u001b[0mresp\u001b[0m \u001b[0;34m=\u001b[0m \u001b[0mself\u001b[0m\u001b[0;34m.\u001b[0m\u001b[0m_RequestUrl\u001b[0m\u001b[0;34m(\u001b[0m\u001b[0murl\u001b[0m\u001b[0;34m,\u001b[0m \u001b[0;34m'GET'\u001b[0m\u001b[0;34m,\u001b[0m \u001b[0mdata\u001b[0m\u001b[0;34m=\u001b[0m\u001b[0mparameters\u001b[0m\u001b[0;34m)\u001b[0m\u001b[0;34m\u001b[0m\u001b[0m\n\u001b[0;32m--> 811\u001b[0;31m         \u001b[0mdata\u001b[0m \u001b[0;34m=\u001b[0m \u001b[0mself\u001b[0m\u001b[0;34m.\u001b[0m\u001b[0m_ParseAndCheckTwitter\u001b[0m\u001b[0;34m(\u001b[0m\u001b[0mresp\u001b[0m\u001b[0;34m.\u001b[0m\u001b[0mcontent\u001b[0m\u001b[0;34m.\u001b[0m\u001b[0mdecode\u001b[0m\u001b[0;34m(\u001b[0m\u001b[0;34m'utf-8'\u001b[0m\u001b[0;34m)\u001b[0m\u001b[0;34m)\u001b[0m\u001b[0;34m\u001b[0m\u001b[0m\n\u001b[0m\u001b[1;32m    812\u001b[0m \u001b[0;34m\u001b[0m\u001b[0m\n\u001b[1;32m    813\u001b[0m         \u001b[0;32mreturn\u001b[0m \u001b[0;34m[\u001b[0m\u001b[0mStatus\u001b[0m\u001b[0;34m.\u001b[0m\u001b[0mNewFromJsonDict\u001b[0m\u001b[0;34m(\u001b[0m\u001b[0mx\u001b[0m\u001b[0;34m)\u001b[0m \u001b[0;32mfor\u001b[0m \u001b[0mx\u001b[0m \u001b[0;32min\u001b[0m \u001b[0mdata\u001b[0m\u001b[0;34m]\u001b[0m\u001b[0;34m\u001b[0m\u001b[0m\n",
      "\u001b[0;32m/anaconda2/envs/dsi/lib/python3.6/site-packages/twitter/api.py\u001b[0m in \u001b[0;36m_ParseAndCheckTwitter\u001b[0;34m(self, json_data)\u001b[0m\n\u001b[1;32m   4903\u001b[0m                 \u001b[0;32mraise\u001b[0m \u001b[0mTwitterError\u001b[0m\u001b[0;34m(\u001b[0m\u001b[0;34m{\u001b[0m\u001b[0;34m'message'\u001b[0m\u001b[0;34m:\u001b[0m \u001b[0;34m\"Unauthorized\"\u001b[0m\u001b[0;34m}\u001b[0m\u001b[0;34m)\u001b[0m\u001b[0;34m\u001b[0m\u001b[0m\n\u001b[1;32m   4904\u001b[0m             \u001b[0;32mraise\u001b[0m \u001b[0mTwitterError\u001b[0m\u001b[0;34m(\u001b[0m\u001b[0;34m{\u001b[0m\u001b[0;34m'Unknown error: {0}'\u001b[0m\u001b[0;34m.\u001b[0m\u001b[0mformat\u001b[0m\u001b[0;34m(\u001b[0m\u001b[0mjson_data\u001b[0m\u001b[0;34m)\u001b[0m\u001b[0;34m}\u001b[0m\u001b[0;34m)\u001b[0m\u001b[0;34m\u001b[0m\u001b[0m\n\u001b[0;32m-> 4905\u001b[0;31m         \u001b[0mself\u001b[0m\u001b[0;34m.\u001b[0m\u001b[0m_CheckForTwitterError\u001b[0m\u001b[0;34m(\u001b[0m\u001b[0mdata\u001b[0m\u001b[0;34m)\u001b[0m\u001b[0;34m\u001b[0m\u001b[0m\n\u001b[0m\u001b[1;32m   4906\u001b[0m         \u001b[0;32mreturn\u001b[0m \u001b[0mdata\u001b[0m\u001b[0;34m\u001b[0m\u001b[0m\n\u001b[1;32m   4907\u001b[0m \u001b[0;34m\u001b[0m\u001b[0m\n",
      "\u001b[0;32m/anaconda2/envs/dsi/lib/python3.6/site-packages/twitter/api.py\u001b[0m in \u001b[0;36m_CheckForTwitterError\u001b[0;34m(data)\u001b[0m\n\u001b[1;32m   4923\u001b[0m             \u001b[0;32mraise\u001b[0m \u001b[0mTwitterError\u001b[0m\u001b[0;34m(\u001b[0m\u001b[0mdata\u001b[0m\u001b[0;34m[\u001b[0m\u001b[0;34m'error'\u001b[0m\u001b[0;34m]\u001b[0m\u001b[0;34m)\u001b[0m\u001b[0;34m\u001b[0m\u001b[0m\n\u001b[1;32m   4924\u001b[0m         \u001b[0;32mif\u001b[0m \u001b[0;34m'errors'\u001b[0m \u001b[0;32min\u001b[0m \u001b[0mdata\u001b[0m\u001b[0;34m:\u001b[0m\u001b[0;34m\u001b[0m\u001b[0m\n\u001b[0;32m-> 4925\u001b[0;31m             \u001b[0;32mraise\u001b[0m \u001b[0mTwitterError\u001b[0m\u001b[0;34m(\u001b[0m\u001b[0mdata\u001b[0m\u001b[0;34m[\u001b[0m\u001b[0;34m'errors'\u001b[0m\u001b[0;34m]\u001b[0m\u001b[0;34m)\u001b[0m\u001b[0;34m\u001b[0m\u001b[0m\n\u001b[0m\u001b[1;32m   4926\u001b[0m \u001b[0;34m\u001b[0m\u001b[0m\n\u001b[1;32m   4927\u001b[0m     \u001b[0;32mdef\u001b[0m \u001b[0m_RequestChunkedUpload\u001b[0m\u001b[0;34m(\u001b[0m\u001b[0mself\u001b[0m\u001b[0;34m,\u001b[0m \u001b[0murl\u001b[0m\u001b[0;34m,\u001b[0m \u001b[0mheaders\u001b[0m\u001b[0;34m,\u001b[0m \u001b[0mdata\u001b[0m\u001b[0;34m)\u001b[0m\u001b[0;34m:\u001b[0m\u001b[0;34m\u001b[0m\u001b[0m\n",
      "\u001b[0;31mTwitterError\u001b[0m: [{'message': 'Rate limit exceeded', 'code': 88}]"
     ]
    }
   ],
   "source": [
    "#Instantiating class and passing list of twitter handles\n",
    "\n",
    "tweet_data = []\n",
    "\n",
    "for label in prime_labels:\n",
    "    tweet_data.extend(miner.mine_user_tweets(user=label, max_pages=50, last_tweet_id=True))\n",
    "\n",
    "fashion = pd.DataFrame(tweet_data)"
   ]
  },
  {
   "cell_type": "code",
   "execution_count": 12,
   "metadata": {},
   "outputs": [
    {
     "ename": "NameError",
     "evalue": "name 'fashion' is not defined",
     "output_type": "error",
     "traceback": [
      "\u001b[0;31m---------------------------------------------------------------------------\u001b[0m",
      "\u001b[0;31mNameError\u001b[0m                                 Traceback (most recent call last)",
      "\u001b[0;32m<ipython-input-12-0ec3a7c063d1>\u001b[0m in \u001b[0;36m<module>\u001b[0;34m()\u001b[0m\n\u001b[0;32m----> 1\u001b[0;31m \u001b[0mfashion\u001b[0m\u001b[0;34m.\u001b[0m\u001b[0mshape\u001b[0m\u001b[0;34m\u001b[0m\u001b[0m\n\u001b[0m",
      "\u001b[0;31mNameError\u001b[0m: name 'fashion' is not defined"
     ]
    }
   ],
   "source": [
    "fashion.shape"
   ]
  },
  {
   "cell_type": "code",
   "execution_count": 26,
   "metadata": {},
   "outputs": [
    {
     "ename": "NameError",
     "evalue": "name 'fashion' is not defined",
     "output_type": "error",
     "traceback": [
      "\u001b[0;31m---------------------------------------------------------------------------\u001b[0m",
      "\u001b[0;31mNameError\u001b[0m                                 Traceback (most recent call last)",
      "\u001b[0;32m<ipython-input-26-a47fcbb365e1>\u001b[0m in \u001b[0;36m<module>\u001b[0;34m()\u001b[0m\n\u001b[0;32m----> 1\u001b[0;31m \u001b[0mfashion\u001b[0m\u001b[0;34m.\u001b[0m\u001b[0mgroupby\u001b[0m\u001b[0;34m(\u001b[0m\u001b[0mfashion\u001b[0m\u001b[0;34m.\u001b[0m\u001b[0mhandle\u001b[0m\u001b[0;34m)\u001b[0m\u001b[0;34m.\u001b[0m\u001b[0msize\u001b[0m\u001b[0;34m(\u001b[0m\u001b[0;34m)\u001b[0m\u001b[0;34m\u001b[0m\u001b[0m\n\u001b[0m",
      "\u001b[0;31mNameError\u001b[0m: name 'fashion' is not defined"
     ]
    }
   ],
   "source": [
    "fashion.groupby(fashion.handle).size()"
   ]
  },
  {
   "cell_type": "code",
   "execution_count": 16,
   "metadata": {},
   "outputs": [],
   "source": [
    "fashion.to_pickle('../data/fashion.pkl')"
   ]
  },
  {
   "cell_type": "markdown",
   "metadata": {},
   "source": []
  },
  {
   "cell_type": "code",
   "execution_count": 17,
   "metadata": {
    "scrolled": true
   },
   "outputs": [
    {
     "data": {
      "text/html": [
       "<div>\n",
       "<style scoped>\n",
       "    .dataframe tbody tr th:only-of-type {\n",
       "        vertical-align: middle;\n",
       "    }\n",
       "\n",
       "    .dataframe tbody tr th {\n",
       "        vertical-align: top;\n",
       "    }\n",
       "\n",
       "    .dataframe thead th {\n",
       "        text-align: right;\n",
       "    }\n",
       "</style>\n",
       "<table border=\"1\" class=\"dataframe\">\n",
       "  <thead>\n",
       "    <tr style=\"text-align: right;\">\n",
       "      <th></th>\n",
       "      <th>created</th>\n",
       "      <th>handle</th>\n",
       "      <th>text</th>\n",
       "      <th>tweet_id</th>\n",
       "    </tr>\n",
       "  </thead>\n",
       "  <tbody>\n",
       "    <tr>\n",
       "      <th>0</th>\n",
       "      <td>Wed Mar 21 22:00:19 +0000 2018</td>\n",
       "      <td>gucci</td>\n",
       "      <td>A fresh and green scent Gucci Bloom Acqua di F...</td>\n",
       "      <td>976579281898885120</td>\n",
       "    </tr>\n",
       "    <tr>\n",
       "      <th>1</th>\n",
       "      <td>Wed Mar 21 20:00:19 +0000 2018</td>\n",
       "      <td>gucci</td>\n",
       "      <td>New scent Gucci Bloom Acqua di Fiori blends a ...</td>\n",
       "      <td>976549082427740160</td>\n",
       "    </tr>\n",
       "    <tr>\n",
       "      <th>2</th>\n",
       "      <td>Wed Mar 21 17:59:41 +0000 2018</td>\n",
       "      <td>gucci</td>\n",
       "      <td>Presenting a new chapter of #InBloom, Gucci Bl...</td>\n",
       "      <td>976518722830716931</td>\n",
       "    </tr>\n",
       "    <tr>\n",
       "      <th>3</th>\n",
       "      <td>Tue Mar 20 19:00:35 +0000 2018</td>\n",
       "      <td>gucci</td>\n",
       "      <td>“It was my way of surviving, to charm people o...</td>\n",
       "      <td>976171664982659073</td>\n",
       "    </tr>\n",
       "    <tr>\n",
       "      <th>4</th>\n",
       "      <td>Tue Mar 20 16:00:39 +0000 2018</td>\n",
       "      <td>gucci</td>\n",
       "      <td>.@MichaelClarkCo reveals, \"Japan is the most a...</td>\n",
       "      <td>976126380206383104</td>\n",
       "    </tr>\n",
       "  </tbody>\n",
       "</table>\n",
       "</div>"
      ],
      "text/plain": [
       "                          created handle  \\\n",
       "0  Wed Mar 21 22:00:19 +0000 2018  gucci   \n",
       "1  Wed Mar 21 20:00:19 +0000 2018  gucci   \n",
       "2  Wed Mar 21 17:59:41 +0000 2018  gucci   \n",
       "3  Tue Mar 20 19:00:35 +0000 2018  gucci   \n",
       "4  Tue Mar 20 16:00:39 +0000 2018  gucci   \n",
       "\n",
       "                                                text            tweet_id  \n",
       "0  A fresh and green scent Gucci Bloom Acqua di F...  976579281898885120  \n",
       "1  New scent Gucci Bloom Acqua di Fiori blends a ...  976549082427740160  \n",
       "2  Presenting a new chapter of #InBloom, Gucci Bl...  976518722830716931  \n",
       "3  “It was my way of surviving, to charm people o...  976171664982659073  \n",
       "4  .@MichaelClarkCo reveals, \"Japan is the most a...  976126380206383104  "
      ]
     },
     "execution_count": 17,
     "metadata": {},
     "output_type": "execute_result"
    }
   ],
   "source": [
    "fashion.head()"
   ]
  },
  {
   "cell_type": "code",
   "execution_count": 46,
   "metadata": {
    "scrolled": true
   },
   "outputs": [
    {
     "name": "stdout",
     "output_type": "stream",
     "text": [
      "<class 'pandas.core.frame.DataFrame'>\n",
      "Index: 3241 entries, 0 to 3233\n",
      "Data columns (total 4 columns):\n",
      "created     3241 non-null object\n",
      "handle      3234 non-null object\n",
      "text        3234 non-null object\n",
      "tweet_id    3227 non-null float64\n",
      "dtypes: float64(1), object(3)\n",
      "memory usage: 126.6+ KB\n"
     ]
    }
   ],
   "source": [
    "gucci_db = pd.read_csv('../data/gucci.csv', index_col=[0])\n",
    "gucci_db.info()"
   ]
  },
  {
   "cell_type": "code",
   "execution_count": 56,
   "metadata": {},
   "outputs": [
    {
     "data": {
      "text/plain": [
       "created      0\n",
       "handle       7\n",
       "text         7\n",
       "tweet_id    14\n",
       "dtype: int64"
      ]
     },
     "execution_count": 56,
     "metadata": {},
     "output_type": "execute_result"
    }
   ],
   "source": [
    "gucci_db.isnull().sum()"
   ]
  },
  {
   "cell_type": "code",
   "execution_count": 52,
   "metadata": {},
   "outputs": [
    {
     "data": {
      "text/html": [
       "<div>\n",
       "<style scoped>\n",
       "    .dataframe tbody tr th:only-of-type {\n",
       "        vertical-align: middle;\n",
       "    }\n",
       "\n",
       "    .dataframe tbody tr th {\n",
       "        vertical-align: top;\n",
       "    }\n",
       "\n",
       "    .dataframe thead th {\n",
       "        text-align: right;\n",
       "    }\n",
       "</style>\n",
       "<table border=\"1\" class=\"dataframe\">\n",
       "  <thead>\n",
       "    <tr style=\"text-align: right;\">\n",
       "      <th></th>\n",
       "      <th>created</th>\n",
       "      <th>handle</th>\n",
       "      <th>text</th>\n",
       "      <th>tweet_id</th>\n",
       "    </tr>\n",
       "  </thead>\n",
       "  <tbody>\n",
       "    <tr>\n",
       "      <th>#GucciCruise18 dress by #AlessandroMichele. #GucciEditorials https://t.co/W4wEanSOQa</th>\n",
       "      <td>948291441901654016</td>\n",
       "      <td>NaN</td>\n",
       "      <td>NaN</td>\n",
       "      <td>NaN</td>\n",
       "    </tr>\n",
       "    <tr>\n",
       "      <th>333</th>\n",
       "      <td>Tue Jan 02 15:05:10 +0000 2018</td>\n",
       "      <td>gucci</td>\n",
       "      <td>Actress Kristin Scott Thomas is captured in th...</td>\n",
       "      <td>NaN</td>\n",
       "    </tr>\n",
       "    <tr>\n",
       "      <th>#AlessandroMichele for @britishvogue. #GucciEditorials https://t.co/bvRTbWK4zA</th>\n",
       "      <td>948208551297732608</td>\n",
       "      <td>NaN</td>\n",
       "      <td>NaN</td>\n",
       "      <td>NaN</td>\n",
       "    </tr>\n",
       "    <tr>\n",
       "      <th>535</th>\n",
       "      <td>Sun Nov 05 15:26:31 +0000 2017</td>\n",
       "      <td>gucci</td>\n",
       "      <td>@petrafcollins at last night’s @lacma #artandf...</td>\n",
       "      <td>NaN</td>\n",
       "    </tr>\n",
       "    <tr>\n",
       "      <th>#InBloom https://t.co/CIasySNAxd</th>\n",
       "      <td>927195431150477312</td>\n",
       "      <td>NaN</td>\n",
       "      <td>NaN</td>\n",
       "      <td>NaN</td>\n",
       "    </tr>\n",
       "    <tr>\n",
       "      <th>537</th>\n",
       "      <td>Sun Nov 05 14:31:10 +0000 2017</td>\n",
       "      <td>gucci</td>\n",
       "      <td>.#AmyAdams attended @lacma’s #artandfilm Gala ...</td>\n",
       "      <td>NaN</td>\n",
       "    </tr>\n",
       "    <tr>\n",
       "      <th>silk gown. https://t.co/IHR2yp2iTn</th>\n",
       "      <td>927181499400708096</td>\n",
       "      <td>NaN</td>\n",
       "      <td>NaN</td>\n",
       "      <td>NaN</td>\n",
       "    </tr>\n",
       "    <tr>\n",
       "      <th>861</th>\n",
       "      <td>Thu Aug 17 11:01:56 +0000 2017</td>\n",
       "      <td>gucci</td>\n",
       "      <td>Floral prints and lace pumps featuring a strap...</td>\n",
       "      <td>NaN</td>\n",
       "    </tr>\n",
       "    <tr>\n",
       "      <th>#AlessandroMichele https://t.co/koYWlem9Az</th>\n",
       "      <td>898137814101000192</td>\n",
       "      <td>NaN</td>\n",
       "      <td>NaN</td>\n",
       "      <td>NaN</td>\n",
       "    </tr>\n",
       "    <tr>\n",
       "      <th>867</th>\n",
       "      <td>Sun Aug 13 14:26:34 +0000 2017</td>\n",
       "      <td>gucci</td>\n",
       "      <td>A trench coat and the #GucciBambooClassic bag ...</td>\n",
       "      <td>NaN</td>\n",
       "    </tr>\n",
       "    <tr>\n",
       "      <th>August issue. #GucciEditorials https://t.co/xdgQ5tKft1</th>\n",
       "      <td>896739761288871936</td>\n",
       "      <td>NaN</td>\n",
       "      <td>NaN</td>\n",
       "      <td>NaN</td>\n",
       "    </tr>\n",
       "    <tr>\n",
       "      <th>943</th>\n",
       "      <td>Sun Jul 16 19:10:01 +0000 2017</td>\n",
       "      <td>gucci</td>\n",
       "      <td>Embroidered flowers and the House Web stripe o...</td>\n",
       "      <td>NaN</td>\n",
       "    </tr>\n",
       "    <tr>\n",
       "      <th>from #GucciPreFall17. https://t.co/qEZ0CKtPTf</th>\n",
       "      <td>886664234473541633</td>\n",
       "      <td>NaN</td>\n",
       "      <td>NaN</td>\n",
       "      <td>NaN</td>\n",
       "    </tr>\n",
       "  </tbody>\n",
       "</table>\n",
       "</div>"
      ],
      "text/plain": [
       "                                                                           created  \\\n",
       "#GucciCruise18 dress by #AlessandroMichele. #Gu...              948291441901654016   \n",
       "333                                                 Tue Jan 02 15:05:10 +0000 2018   \n",
       "#AlessandroMichele for @britishvogue. #GucciEdi...              948208551297732608   \n",
       "535                                                 Sun Nov 05 15:26:31 +0000 2017   \n",
       "#InBloom https://t.co/CIasySNAxd                                927195431150477312   \n",
       "537                                                 Sun Nov 05 14:31:10 +0000 2017   \n",
       "silk gown. https://t.co/IHR2yp2iTn                              927181499400708096   \n",
       "861                                                 Thu Aug 17 11:01:56 +0000 2017   \n",
       "#AlessandroMichele https://t.co/koYWlem9Az                      898137814101000192   \n",
       "867                                                 Sun Aug 13 14:26:34 +0000 2017   \n",
       "August issue. #GucciEditorials https://t.co/xdg...              896739761288871936   \n",
       "943                                                 Sun Jul 16 19:10:01 +0000 2017   \n",
       "from #GucciPreFall17. https://t.co/qEZ0CKtPTf                   886664234473541633   \n",
       "\n",
       "                                                   handle  \\\n",
       "#GucciCruise18 dress by #AlessandroMichele. #Gu...    NaN   \n",
       "333                                                 gucci   \n",
       "#AlessandroMichele for @britishvogue. #GucciEdi...    NaN   \n",
       "535                                                 gucci   \n",
       "#InBloom https://t.co/CIasySNAxd                      NaN   \n",
       "537                                                 gucci   \n",
       "silk gown. https://t.co/IHR2yp2iTn                    NaN   \n",
       "861                                                 gucci   \n",
       "#AlessandroMichele https://t.co/koYWlem9Az            NaN   \n",
       "867                                                 gucci   \n",
       "August issue. #GucciEditorials https://t.co/xdg...    NaN   \n",
       "943                                                 gucci   \n",
       "from #GucciPreFall17. https://t.co/qEZ0CKtPTf         NaN   \n",
       "\n",
       "                                                                                                 text  \\\n",
       "#GucciCruise18 dress by #AlessandroMichele. #Gu...                                                NaN   \n",
       "333                                                 Actress Kristin Scott Thomas is captured in th...   \n",
       "#AlessandroMichele for @britishvogue. #GucciEdi...                                                NaN   \n",
       "535                                                 @petrafcollins at last night’s @lacma #artandf...   \n",
       "#InBloom https://t.co/CIasySNAxd                                                                  NaN   \n",
       "537                                                 .#AmyAdams attended @lacma’s #artandfilm Gala ...   \n",
       "silk gown. https://t.co/IHR2yp2iTn                                                                NaN   \n",
       "861                                                 Floral prints and lace pumps featuring a strap...   \n",
       "#AlessandroMichele https://t.co/koYWlem9Az                                                        NaN   \n",
       "867                                                 A trench coat and the #GucciBambooClassic bag ...   \n",
       "August issue. #GucciEditorials https://t.co/xdg...                                                NaN   \n",
       "943                                                 Embroidered flowers and the House Web stripe o...   \n",
       "from #GucciPreFall17. https://t.co/qEZ0CKtPTf                                                     NaN   \n",
       "\n",
       "                                                    tweet_id  \n",
       "#GucciCruise18 dress by #AlessandroMichele. #Gu...       NaN  \n",
       "333                                                      NaN  \n",
       "#AlessandroMichele for @britishvogue. #GucciEdi...       NaN  \n",
       "535                                                      NaN  \n",
       "#InBloom https://t.co/CIasySNAxd                         NaN  \n",
       "537                                                      NaN  \n",
       "silk gown. https://t.co/IHR2yp2iTn                       NaN  \n",
       "861                                                      NaN  \n",
       "#AlessandroMichele https://t.co/koYWlem9Az               NaN  \n",
       "867                                                      NaN  \n",
       "August issue. #GucciEditorials https://t.co/xdg...       NaN  \n",
       "943                                                      NaN  \n",
       "from #GucciPreFall17. https://t.co/qEZ0CKtPTf            NaN  "
      ]
     },
     "execution_count": 52,
     "metadata": {},
     "output_type": "execute_result"
    }
   ],
   "source": [
    "gucci_db[gucci_db.duplicated('tweet_id')]"
   ]
  },
  {
   "cell_type": "code",
   "execution_count": 29,
   "metadata": {},
   "outputs": [
    {
     "name": "stdout",
     "output_type": "stream",
     "text": [
      "<class 'pandas.core.frame.DataFrame'>\n",
      "Int64Index: 3219 entries, 0 to 3218\n",
      "Data columns (total 4 columns):\n",
      "created     3219 non-null object\n",
      "handle      3219 non-null object\n",
      "text        3219 non-null object\n",
      "tweet_id    3219 non-null int64\n",
      "dtypes: int64(1), object(3)\n",
      "memory usage: 125.7+ KB\n"
     ]
    }
   ],
   "source": [
    "pd.read_csv('../data/StellaMcCartney.csv', index_col=[0]).info()"
   ]
  },
  {
   "cell_type": "code",
   "execution_count": 30,
   "metadata": {},
   "outputs": [
    {
     "name": "stdout",
     "output_type": "stream",
     "text": [
      "<class 'pandas.core.frame.DataFrame'>\n",
      "Int64Index: 1000 entries, 0 to 999\n",
      "Data columns (total 4 columns):\n",
      "created     1000 non-null object\n",
      "handle      1000 non-null object\n",
      "text        1000 non-null object\n",
      "tweet_id    1000 non-null int64\n",
      "dtypes: int64(1), object(3)\n",
      "memory usage: 39.1+ KB\n"
     ]
    }
   ],
   "source": [
    "pd.read_csv('../data/Roberto_Cavalli.csv', index_col=[0]).info()"
   ]
  },
  {
   "cell_type": "code",
   "execution_count": 40,
   "metadata": {},
   "outputs": [
    {
     "name": "stdout",
     "output_type": "stream",
     "text": [
      "<class 'pandas.core.frame.DataFrame'>\n",
      "Index: 1002 entries, 0 to 999\n",
      "Data columns (total 4 columns):\n",
      "created     1002 non-null object\n",
      "handle      1000 non-null object\n",
      "text        1000 non-null object\n",
      "tweet_id    998 non-null float64\n",
      "dtypes: float64(1), object(3)\n",
      "memory usage: 39.1+ KB\n"
     ]
    },
    {
     "data": {
      "text/plain": [
       "(1002, 4)"
      ]
     },
     "execution_count": 40,
     "metadata": {},
     "output_type": "execute_result"
    }
   ],
   "source": [
    "mcqueen_db = pd.read_csv('../data/McQueen.csv', index_col=[0])\n",
    "mcqueen_db.info()\n"
   ]
  },
  {
   "cell_type": "code",
   "execution_count": 41,
   "metadata": {},
   "outputs": [
    {
     "data": {
      "text/plain": [
       "(1002, 4)"
      ]
     },
     "execution_count": 41,
     "metadata": {},
     "output_type": "execute_result"
    }
   ],
   "source": [
    "mcqueen_db.shape"
   ]
  },
  {
   "cell_type": "code",
   "execution_count": 43,
   "metadata": {},
   "outputs": [
    {
     "data": {
      "text/html": [
       "<div>\n",
       "<style scoped>\n",
       "    .dataframe tbody tr th:only-of-type {\n",
       "        vertical-align: middle;\n",
       "    }\n",
       "\n",
       "    .dataframe tbody tr th {\n",
       "        vertical-align: top;\n",
       "    }\n",
       "\n",
       "    .dataframe thead th {\n",
       "        text-align: right;\n",
       "    }\n",
       "</style>\n",
       "<table border=\"1\" class=\"dataframe\">\n",
       "  <thead>\n",
       "    <tr style=\"text-align: right;\">\n",
       "      <th></th>\n",
       "      <th>created</th>\n",
       "      <th>handle</th>\n",
       "      <th>text</th>\n",
       "      <th>tweet_id</th>\n",
       "    </tr>\n",
       "  </thead>\n",
       "  <tbody>\n",
       "    <tr>\n",
       "      <th>570</th>\n",
       "      <td>Sat Jun 17 08:05:33 +0000 2017</td>\n",
       "      <td>Alexander McQueen</td>\n",
       "      <td>Flora and fauna, real and imagined, are hand-e...</td>\n",
       "      <td>8.759878e+17</td>\n",
       "    </tr>\n",
       "    <tr>\n",
       "      <th>571</th>\n",
       "      <td>Fri Jun 16 09:47:36 +0000 2017</td>\n",
       "      <td>Alexander McQueen</td>\n",
       "      <td>Men's tailoring features London maps and safet...</td>\n",
       "      <td>8.756511e+17</td>\n",
       "    </tr>\n",
       "    <tr>\n",
       "      <th>572</th>\n",
       "      <td>Tue Jun 13 22:25:31 +0000 2017</td>\n",
       "      <td>Alexander McQueen</td>\n",
       "      <td>This #McQueenBoxBag features hand-cut mineral ...</td>\n",
       "      <td>8.747546e+17</td>\n",
       "    </tr>\n",
       "    <tr>\n",
       "      <th>573</th>\n",
       "      <td>Tue Jun 13 22:22:37 +0000 2017</td>\n",
       "      <td>Alexander McQueen</td>\n",
       "      <td>The Box Bag adorned with semi-precious labrado...</td>\n",
       "      <td>8.747539e+17</td>\n",
       "    </tr>\n",
       "    <tr>\n",
       "      <th>574</th>\n",
       "      <td>Mon Jun 12 19:01:53 +0000 2017</td>\n",
       "      <td>Alexander McQueen</td>\n",
       "      <td>IN DETAIL: this lily pad top is hand-embroider...</td>\n",
       "      <td>8.743410e+17</td>\n",
       "    </tr>\n",
       "    <tr>\n",
       "      <th>575</th>\n",
       "      <td>Mon Jun 12 17:55:53 +0000 2017</td>\n",
       "      <td>Alexander McQueen</td>\n",
       "      <td>A top with lily pad sequin embroidery on invis...</td>\n",
       "      <td>8.743244e+17</td>\n",
       "    </tr>\n",
       "    <tr>\n",
       "      <th>576</th>\n",
       "      <td>Sun Jun 11 08:20:06 +0000 2017</td>\n",
       "      <td>Alexander McQueen</td>\n",
       "      <td>CLOSE-UP: a detail of the lily pad sequin embr...</td>\n",
       "      <td>8.738171e+17</td>\n",
       "    </tr>\n",
       "    <tr>\n",
       "      <th>577</th>\n",
       "      <td>Sat Jun 10 07:45:10 +0000 2017</td>\n",
       "      <td>Alexander McQueen</td>\n",
       "      <td>An evening dress is embroidered with sequin li...</td>\n",
       "      <td>8.734459e+17</td>\n",
       "    </tr>\n",
       "    <tr>\n",
       "      <th>578</th>\n",
       "      <td>Fri Jun 09 18:53:24 +0000 2017</td>\n",
       "      <td>Alexander McQueen</td>\n",
       "      <td>A tubular choker in antique gold and silver is...</td>\n",
       "      <td>8.732517e+17</td>\n",
       "    </tr>\n",
       "    <tr>\n",
       "      <th>579</th>\n",
       "      <td>Thu Jun 08 17:51:57 +0000 2017</td>\n",
       "      <td>Alexander McQueen</td>\n",
       "      <td>An antique gold and silver earring with a hand...</td>\n",
       "      <td>8.728738e+17</td>\n",
       "    </tr>\n",
       "    <tr>\n",
       "      <th>580</th>\n",
       "      <td>Tue Jun 06 09:50:47 +0000 2017</td>\n",
       "      <td>Alexander McQueen</td>\n",
       "      <td>A #McQueenPreAW17 dress with a gathered neckli...</td>\n",
       "      <td>NaN</td>\n",
       "    </tr>\n",
       "    <tr>\n",
       "      <th>https://t.co/ce8jq2BgnA https://t.co/BDd4Ot5R7Z</th>\n",
       "      <td>872027984357675009</td>\n",
       "      <td>NaN</td>\n",
       "      <td>NaN</td>\n",
       "      <td>NaN</td>\n",
       "    </tr>\n",
       "    <tr>\n",
       "      <th>581</th>\n",
       "      <td>Mon Jun 05 17:10:40 +0000 2017</td>\n",
       "      <td>Alexander McQueen</td>\n",
       "      <td>CLOSE-UP: Pre AW17 black leather gloves and a ...</td>\n",
       "      <td>8.717763e+17</td>\n",
       "    </tr>\n",
       "    <tr>\n",
       "      <th>582</th>\n",
       "      <td>Mon Jun 05 15:57:23 +0000 2017</td>\n",
       "      <td>Alexander McQueen</td>\n",
       "      <td>A #McQueenPreAW17 shirt dress made from a cris...</td>\n",
       "      <td>NaN</td>\n",
       "    </tr>\n",
       "    <tr>\n",
       "      <th>https://t.co/ce8jq2BgnA https://t.co/qReYb6SaKS</th>\n",
       "      <td>871757853715050496</td>\n",
       "      <td>NaN</td>\n",
       "      <td>NaN</td>\n",
       "      <td>NaN</td>\n",
       "    </tr>\n",
       "    <tr>\n",
       "      <th>583</th>\n",
       "      <td>Sat Jun 03 15:48:39 +0000 2017</td>\n",
       "      <td>Alexander McQueen</td>\n",
       "      <td>Inspiration for #McQueenPreAW17: the workshops...</td>\n",
       "      <td>8.710309e+17</td>\n",
       "    </tr>\n",
       "    <tr>\n",
       "      <th>584</th>\n",
       "      <td>Sat Jun 03 08:56:07 +0000 2017</td>\n",
       "      <td>Alexander McQueen</td>\n",
       "      <td>Inspired by the work of #BarbaraHepworth, a rh...</td>\n",
       "      <td>8.709271e+17</td>\n",
       "    </tr>\n",
       "    <tr>\n",
       "      <th>585</th>\n",
       "      <td>Fri Jun 02 16:02:55 +0000 2017</td>\n",
       "      <td>Alexander McQueen</td>\n",
       "      <td>Inspired by the sculpture of #BarbaraHepworth,...</td>\n",
       "      <td>8.706721e+17</td>\n",
       "    </tr>\n",
       "    <tr>\n",
       "      <th>586</th>\n",
       "      <td>Thu Jun 01 13:17:59 +0000 2017</td>\n",
       "      <td>Alexander McQueen</td>\n",
       "      <td>A medieval inspired sweater dress with lace-up...</td>\n",
       "      <td>8.702682e+17</td>\n",
       "    </tr>\n",
       "    <tr>\n",
       "      <th>587</th>\n",
       "      <td>Wed May 31 22:20:05 +0000 2017</td>\n",
       "      <td>Alexander McQueen</td>\n",
       "      <td>The Four Ring clutch, embroidered with wings a...</td>\n",
       "      <td>8.700422e+17</td>\n",
       "    </tr>\n",
       "  </tbody>\n",
       "</table>\n",
       "</div>"
      ],
      "text/plain": [
       "                                                                        created  \\\n",
       "570                                              Sat Jun 17 08:05:33 +0000 2017   \n",
       "571                                              Fri Jun 16 09:47:36 +0000 2017   \n",
       "572                                              Tue Jun 13 22:25:31 +0000 2017   \n",
       "573                                              Tue Jun 13 22:22:37 +0000 2017   \n",
       "574                                              Mon Jun 12 19:01:53 +0000 2017   \n",
       "575                                              Mon Jun 12 17:55:53 +0000 2017   \n",
       "576                                              Sun Jun 11 08:20:06 +0000 2017   \n",
       "577                                              Sat Jun 10 07:45:10 +0000 2017   \n",
       "578                                              Fri Jun 09 18:53:24 +0000 2017   \n",
       "579                                              Thu Jun 08 17:51:57 +0000 2017   \n",
       "580                                              Tue Jun 06 09:50:47 +0000 2017   \n",
       "https://t.co/ce8jq2BgnA https://t.co/BDd4Ot5R7Z              872027984357675009   \n",
       "581                                              Mon Jun 05 17:10:40 +0000 2017   \n",
       "582                                              Mon Jun 05 15:57:23 +0000 2017   \n",
       "https://t.co/ce8jq2BgnA https://t.co/qReYb6SaKS              871757853715050496   \n",
       "583                                              Sat Jun 03 15:48:39 +0000 2017   \n",
       "584                                              Sat Jun 03 08:56:07 +0000 2017   \n",
       "585                                              Fri Jun 02 16:02:55 +0000 2017   \n",
       "586                                              Thu Jun 01 13:17:59 +0000 2017   \n",
       "587                                              Wed May 31 22:20:05 +0000 2017   \n",
       "\n",
       "                                                            handle  \\\n",
       "570                                              Alexander McQueen   \n",
       "571                                              Alexander McQueen   \n",
       "572                                              Alexander McQueen   \n",
       "573                                              Alexander McQueen   \n",
       "574                                              Alexander McQueen   \n",
       "575                                              Alexander McQueen   \n",
       "576                                              Alexander McQueen   \n",
       "577                                              Alexander McQueen   \n",
       "578                                              Alexander McQueen   \n",
       "579                                              Alexander McQueen   \n",
       "580                                              Alexander McQueen   \n",
       "https://t.co/ce8jq2BgnA https://t.co/BDd4Ot5R7Z                NaN   \n",
       "581                                              Alexander McQueen   \n",
       "582                                              Alexander McQueen   \n",
       "https://t.co/ce8jq2BgnA https://t.co/qReYb6SaKS                NaN   \n",
       "583                                              Alexander McQueen   \n",
       "584                                              Alexander McQueen   \n",
       "585                                              Alexander McQueen   \n",
       "586                                              Alexander McQueen   \n",
       "587                                              Alexander McQueen   \n",
       "\n",
       "                                                                                              text  \\\n",
       "570                                              Flora and fauna, real and imagined, are hand-e...   \n",
       "571                                              Men's tailoring features London maps and safet...   \n",
       "572                                              This #McQueenBoxBag features hand-cut mineral ...   \n",
       "573                                              The Box Bag adorned with semi-precious labrado...   \n",
       "574                                              IN DETAIL: this lily pad top is hand-embroider...   \n",
       "575                                              A top with lily pad sequin embroidery on invis...   \n",
       "576                                              CLOSE-UP: a detail of the lily pad sequin embr...   \n",
       "577                                              An evening dress is embroidered with sequin li...   \n",
       "578                                              A tubular choker in antique gold and silver is...   \n",
       "579                                              An antique gold and silver earring with a hand...   \n",
       "580                                              A #McQueenPreAW17 dress with a gathered neckli...   \n",
       "https://t.co/ce8jq2BgnA https://t.co/BDd4Ot5R7Z                                                NaN   \n",
       "581                                              CLOSE-UP: Pre AW17 black leather gloves and a ...   \n",
       "582                                              A #McQueenPreAW17 shirt dress made from a cris...   \n",
       "https://t.co/ce8jq2BgnA https://t.co/qReYb6SaKS                                                NaN   \n",
       "583                                              Inspiration for #McQueenPreAW17: the workshops...   \n",
       "584                                              Inspired by the work of #BarbaraHepworth, a rh...   \n",
       "585                                              Inspired by the sculpture of #BarbaraHepworth,...   \n",
       "586                                              A medieval inspired sweater dress with lace-up...   \n",
       "587                                              The Four Ring clutch, embroidered with wings a...   \n",
       "\n",
       "                                                     tweet_id  \n",
       "570                                              8.759878e+17  \n",
       "571                                              8.756511e+17  \n",
       "572                                              8.747546e+17  \n",
       "573                                              8.747539e+17  \n",
       "574                                              8.743410e+17  \n",
       "575                                              8.743244e+17  \n",
       "576                                              8.738171e+17  \n",
       "577                                              8.734459e+17  \n",
       "578                                              8.732517e+17  \n",
       "579                                              8.728738e+17  \n",
       "580                                                       NaN  \n",
       "https://t.co/ce8jq2BgnA https://t.co/BDd4Ot5R7Z           NaN  \n",
       "581                                              8.717763e+17  \n",
       "582                                                       NaN  \n",
       "https://t.co/ce8jq2BgnA https://t.co/qReYb6SaKS           NaN  \n",
       "583                                              8.710309e+17  \n",
       "584                                              8.709271e+17  \n",
       "585                                              8.706721e+17  \n",
       "586                                              8.702682e+17  \n",
       "587                                              8.700422e+17  "
      ]
     },
     "execution_count": 43,
     "metadata": {},
     "output_type": "execute_result"
    }
   ],
   "source": [
    "mcqueen_db.iloc[570:590,:]"
   ]
  },
  {
   "cell_type": "code",
   "execution_count": 26,
   "metadata": {
    "scrolled": true
   },
   "outputs": [
    {
     "data": {
      "text/plain": [
       "created     0\n",
       "handle      2\n",
       "text        2\n",
       "tweet_id    4\n",
       "dtype: int64"
      ]
     },
     "execution_count": 26,
     "metadata": {},
     "output_type": "execute_result"
    }
   ],
   "source": [
    "mcqueen_db.isnull().sum()"
   ]
  },
  {
   "cell_type": "code",
   "execution_count": 29,
   "metadata": {},
   "outputs": [
    {
     "data": {
      "text/html": [
       "<div>\n",
       "<style scoped>\n",
       "    .dataframe tbody tr th:only-of-type {\n",
       "        vertical-align: middle;\n",
       "    }\n",
       "\n",
       "    .dataframe tbody tr th {\n",
       "        vertical-align: top;\n",
       "    }\n",
       "\n",
       "    .dataframe thead th {\n",
       "        text-align: right;\n",
       "    }\n",
       "</style>\n",
       "<table border=\"1\" class=\"dataframe\">\n",
       "  <thead>\n",
       "    <tr style=\"text-align: right;\">\n",
       "      <th></th>\n",
       "      <th>created</th>\n",
       "      <th>handle</th>\n",
       "      <th>text</th>\n",
       "      <th>tweet_id</th>\n",
       "    </tr>\n",
       "  </thead>\n",
       "  <tbody>\n",
       "    <tr>\n",
       "      <th>580</th>\n",
       "      <td>Tue Jun 06 09:50:47 +0000 2017</td>\n",
       "      <td>Alexander McQueen</td>\n",
       "      <td>A #McQueenPreAW17 dress with a gathered neckli...</td>\n",
       "      <td>NaN</td>\n",
       "    </tr>\n",
       "    <tr>\n",
       "      <th>https://t.co/ce8jq2BgnA https://t.co/BDd4Ot5R7Z</th>\n",
       "      <td>872027984357675009</td>\n",
       "      <td>NaN</td>\n",
       "      <td>NaN</td>\n",
       "      <td>NaN</td>\n",
       "    </tr>\n",
       "    <tr>\n",
       "      <th>582</th>\n",
       "      <td>Mon Jun 05 15:57:23 +0000 2017</td>\n",
       "      <td>Alexander McQueen</td>\n",
       "      <td>A #McQueenPreAW17 shirt dress made from a cris...</td>\n",
       "      <td>NaN</td>\n",
       "    </tr>\n",
       "    <tr>\n",
       "      <th>https://t.co/ce8jq2BgnA https://t.co/qReYb6SaKS</th>\n",
       "      <td>871757853715050496</td>\n",
       "      <td>NaN</td>\n",
       "      <td>NaN</td>\n",
       "      <td>NaN</td>\n",
       "    </tr>\n",
       "  </tbody>\n",
       "</table>\n",
       "</div>"
      ],
      "text/plain": [
       "                                                                        created  \\\n",
       "580                                              Tue Jun 06 09:50:47 +0000 2017   \n",
       "https://t.co/ce8jq2BgnA https://t.co/BDd4Ot5R7Z              872027984357675009   \n",
       "582                                              Mon Jun 05 15:57:23 +0000 2017   \n",
       "https://t.co/ce8jq2BgnA https://t.co/qReYb6SaKS              871757853715050496   \n",
       "\n",
       "                                                            handle  \\\n",
       "580                                              Alexander McQueen   \n",
       "https://t.co/ce8jq2BgnA https://t.co/BDd4Ot5R7Z                NaN   \n",
       "582                                              Alexander McQueen   \n",
       "https://t.co/ce8jq2BgnA https://t.co/qReYb6SaKS                NaN   \n",
       "\n",
       "                                                                                              text  \\\n",
       "580                                              A #McQueenPreAW17 dress with a gathered neckli...   \n",
       "https://t.co/ce8jq2BgnA https://t.co/BDd4Ot5R7Z                                                NaN   \n",
       "582                                              A #McQueenPreAW17 shirt dress made from a cris...   \n",
       "https://t.co/ce8jq2BgnA https://t.co/qReYb6SaKS                                                NaN   \n",
       "\n",
       "                                                 tweet_id  \n",
       "580                                                   NaN  \n",
       "https://t.co/ce8jq2BgnA https://t.co/BDd4Ot5R7Z       NaN  \n",
       "582                                                   NaN  \n",
       "https://t.co/ce8jq2BgnA https://t.co/qReYb6SaKS       NaN  "
      ]
     },
     "execution_count": 29,
     "metadata": {},
     "output_type": "execute_result"
    }
   ],
   "source": [
    "mcqueen_db[mcqueen_db.tweet_id.isnull()]"
   ]
  },
  {
   "cell_type": "code",
   "execution_count": 64,
   "metadata": {},
   "outputs": [
    {
     "data": {
      "text/plain": [
       "3"
      ]
     },
     "execution_count": 64,
     "metadata": {},
     "output_type": "execute_result"
    }
   ],
   "source": [
    "mcqueen_db.duplicated('tweet_id').sum()"
   ]
  },
  {
   "cell_type": "code",
   "execution_count": null,
   "metadata": {},
   "outputs": [],
   "source": []
  }
 ],
 "metadata": {
  "kernelspec": {
   "display_name": "Python 3",
   "language": "python",
   "name": "python3"
  },
  "language_info": {
   "codemirror_mode": {
    "name": "ipython",
    "version": 3
   },
   "file_extension": ".py",
   "mimetype": "text/x-python",
   "name": "python",
   "nbconvert_exporter": "python",
   "pygments_lexer": "ipython3",
   "version": "3.6.4"
  }
 },
 "nbformat": 4,
 "nbformat_minor": 2
}
