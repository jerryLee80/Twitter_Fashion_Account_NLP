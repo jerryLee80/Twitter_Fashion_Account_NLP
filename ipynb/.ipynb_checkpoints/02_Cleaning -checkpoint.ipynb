{
 "cells": [
  {
   "cell_type": "markdown",
   "metadata": {},
   "source": [
    "### Importing Libraries"
   ]
  },
  {
   "cell_type": "code",
   "execution_count": 1,
   "metadata": {},
   "outputs": [
    {
     "name": "stdout",
     "output_type": "stream",
     "text": [
      "[nltk_data] Downloading package stopwords to\n",
      "[nltk_data]     /Users/nathennavon/nltk_data...\n",
      "[nltk_data]   Package stopwords is already up-to-date!\n"
     ]
    },
    {
     "data": {
      "text/plain": [
       "True"
      ]
     },
     "execution_count": 1,
     "metadata": {},
     "output_type": "execute_result"
    }
   ],
   "source": [
    "import re, numpy as np, pandas as pd\n",
    "\n",
    "from sklearn.feature_extraction.text import ENGLISH_STOP_WORDS\n",
    "from sklearn.feature_extraction.text import CountVectorizer, TfidfVectorizer\n",
    "\n",
    "from nltk.corpus import stopwords\n",
    "\n",
    "import matplotlib.pyplot as plt\n",
    "%matplotlib inline\n",
    "\n",
    "import nltk\n",
    "nltk.download('stopwords')"
   ]
  },
  {
   "cell_type": "markdown",
   "metadata": {},
   "source": [
    "### Loading Data"
   ]
  },
  {
   "cell_type": "code",
   "execution_count": 2,
   "metadata": {},
   "outputs": [],
   "source": [
    "fashion = pd.read_pickle('../data/fashion_df.pkl')"
   ]
  },
  {
   "cell_type": "markdown",
   "metadata": {},
   "source": [
    "### EDA & Cleaning"
   ]
  },
  {
   "cell_type": "code",
   "execution_count": 3,
   "metadata": {},
   "outputs": [
    {
     "data": {
      "text/plain": [
       "(113881, 4)"
      ]
     },
     "execution_count": 3,
     "metadata": {},
     "output_type": "execute_result"
    }
   ],
   "source": [
    "fashion.shape"
   ]
  },
  {
   "cell_type": "code",
   "execution_count": 4,
   "metadata": {},
   "outputs": [
    {
     "data": {
      "text/plain": [
       "Index(['created', 'handle', 'text', 'tweet_id'], dtype='object')"
      ]
     },
     "execution_count": 4,
     "metadata": {},
     "output_type": "execute_result"
    }
   ],
   "source": [
    "fashion.columns"
   ]
  },
  {
   "cell_type": "code",
   "execution_count": 5,
   "metadata": {},
   "outputs": [
    {
     "data": {
      "text/plain": [
       "'For Spring/Summer 2018, the #AcneStudios sneakers range is being brought to life by Tage Johansson – the 12 year old son of Jonny Johansson, Acne Studios Creative Director. Discover more: https://t.co/bWYrEt8heu https://t.co/1ieBXmo8V9'"
      ]
     },
     "execution_count": 5,
     "metadata": {},
     "output_type": "execute_result"
    }
   ],
   "source": [
    "fashion.text[0]"
   ]
  },
  {
   "cell_type": "code",
   "execution_count": 6,
   "metadata": {},
   "outputs": [
    {
     "name": "stdout",
     "output_type": "stream",
     "text": [
      "<class 'pandas.core.frame.DataFrame'>\n",
      "RangeIndex: 113881 entries, 0 to 113880\n",
      "Data columns (total 4 columns):\n",
      "created     113881 non-null object\n",
      "handle      113868 non-null object\n",
      "text        113868 non-null object\n",
      "tweet_id    113855 non-null float64\n",
      "dtypes: float64(1), object(3)\n",
      "memory usage: 3.5+ MB\n"
     ]
    }
   ],
   "source": [
    "fashion.info()"
   ]
  },
  {
   "cell_type": "markdown",
   "metadata": {},
   "source": [
    "### Fixing Nulls"
   ]
  },
  {
   "cell_type": "code",
   "execution_count": 7,
   "metadata": {},
   "outputs": [],
   "source": [
    "error_collect = fashion[~fashion.created.str.match('\\w{3} \\w{3}')].index"
   ]
  },
  {
   "cell_type": "code",
   "execution_count": 8,
   "metadata": {
    "scrolled": true
   },
   "outputs": [
    {
     "name": "stderr",
     "output_type": "stream",
     "text": [
      "/anaconda2/envs/dsi/lib/python3.6/site-packages/ipykernel_launcher.py:2: SettingWithCopyWarning: \n",
      "A value is trying to be set on a copy of a slice from a DataFrame\n",
      "\n",
      "See the caveats in the documentation: http://pandas.pydata.org/pandas-docs/stable/indexing.html#indexing-view-versus-copy\n",
      "  \n"
     ]
    },
    {
     "name": "stdout",
     "output_type": "stream",
     "text": [
      "created                        Fri May 06 00:16:29 +0000 2016\n",
      "handle                                                Bulgari\n",
      "text        Live from Paris artist @stuartsemple painted o...\n",
      "tweet_id                                          7.28378e+17\n",
      "Name: 10513, dtype: object\n",
      "created                     Sat May 13 13:49:39 +0000 2017\n",
      "handle                                                DKNY\n",
      "text        .@Metal_Magazine photographs the #DKNY Spring \n",
      "tweet_id                                       8.63391e+17\n",
      "Name: 33519, dtype: object\n",
      "created                        Sun Dec 10 17:45:53 +0000 2017\n",
      "handle                                        Dolce & Gabbana\n",
      "text        Quite the duo of festive reds! Classic Cream L...\n",
      "tweet_id                                          9.39914e+17\n",
      "Name: 34864, dtype: object\n",
      "created                        Tue Jan 02 20:34:32 +0000 2018\n",
      "handle                                                  gucci\n",
      "text        Inside the November issue of @Allure_magazine ...\n",
      "tweet_id                                          9.48291e+17\n",
      "Name: 49716, dtype: object\n",
      "created                        Tue Jan 02 15:05:10 +0000 2018\n",
      "handle                                                  gucci\n",
      "text        Actress Kristin Scott Thomas is captured in th...\n",
      "tweet_id                                          9.48209e+17\n",
      "Name: 49718, dtype: object\n",
      "created                        Sun Nov 05 15:26:31 +0000 2017\n",
      "handle                                                  gucci\n",
      "text        @petrafcollins at last night’s @lacma #artandf...\n",
      "tweet_id                                          9.27195e+17\n",
      "Name: 49921, dtype: object\n",
      "created                        Sun Nov 05 14:31:10 +0000 2017\n",
      "handle                                                  gucci\n",
      "text        .#AmyAdams attended @lacma’s #artandfilm Gala ...\n",
      "tweet_id                                          9.27181e+17\n",
      "Name: 49924, dtype: object\n",
      "created                        Thu Aug 17 11:01:56 +0000 2017\n",
      "handle                                                  gucci\n",
      "text        Floral prints and lace pumps featuring a strap...\n",
      "tweet_id                                          8.98138e+17\n",
      "Name: 50249, dtype: object\n",
      "created                        Sun Aug 13 14:26:34 +0000 2017\n",
      "handle                                                  gucci\n",
      "text        A trench coat and the #GucciBambooClassic bag ...\n",
      "tweet_id                                           8.9674e+17\n",
      "Name: 50256, dtype: object\n",
      "created                        Sun Jul 16 19:10:01 +0000 2017\n",
      "handle                                                  gucci\n",
      "text        Embroidered flowers and the House Web stripe o...\n",
      "tweet_id                                          8.86664e+17\n",
      "Name: 50333, dtype: object\n",
      "created                        Tue Jun 06 09:50:47 +0000 2017\n",
      "handle                                      Alexander McQueen\n",
      "text        A #McQueenPreAW17 dress with a gathered neckli...\n",
      "tweet_id                                          8.72028e+17\n",
      "Name: 76938, dtype: object\n",
      "created                        Mon Jun 05 15:57:23 +0000 2017\n",
      "handle                                      Alexander McQueen\n",
      "text        A #McQueenPreAW17 shirt dress made from a cris...\n",
      "tweet_id                                          8.71758e+17\n",
      "Name: 76941, dtype: object\n",
      "created          Wed Jan 17 20:02:32 +0000 2018\n",
      "handle                                    PRADA\n",
      "text        Aesthetic Intelligence. #PradaFW18 \n",
      "tweet_id                            9.53719e+17\n",
      "Name: 93837, dtype: object\n"
     ]
    }
   ],
   "source": [
    "for error in error_collect:\n",
    "    fashion['tweet_id'][error-1] = fashion.created[error]\n",
    "    print(fashion.iloc[error-1,:]) #checking for an error \n",
    "    \n",
    "fashion = fashion.drop(labels=error_collect)\n",
    "fashion.to_pickle('../data/fashion_clean.pkl')"
   ]
  },
  {
   "cell_type": "code",
   "execution_count": 9,
   "metadata": {},
   "outputs": [
    {
     "name": "stdout",
     "output_type": "stream",
     "text": [
      "<class 'pandas.core.frame.DataFrame'>\n",
      "Int64Index: 113868 entries, 0 to 113880\n",
      "Data columns (total 4 columns):\n",
      "created     113868 non-null object\n",
      "handle      113868 non-null object\n",
      "text        113868 non-null object\n",
      "tweet_id    113868 non-null float64\n",
      "dtypes: float64(1), object(3)\n",
      "memory usage: 4.3+ MB\n"
     ]
    }
   ],
   "source": [
    "#making sure there\n",
    "fashion.info()"
   ]
  },
  {
   "cell_type": "markdown",
   "metadata": {},
   "source": [
    "### Removing non alphanumeric characters "
   ]
  },
  {
   "cell_type": "code",
   "execution_count": 10,
   "metadata": {},
   "outputs": [
    {
     "data": {
      "text/html": [
       "<div>\n",
       "<style scoped>\n",
       "    .dataframe tbody tr th:only-of-type {\n",
       "        vertical-align: middle;\n",
       "    }\n",
       "\n",
       "    .dataframe tbody tr th {\n",
       "        vertical-align: top;\n",
       "    }\n",
       "\n",
       "    .dataframe thead th {\n",
       "        text-align: right;\n",
       "    }\n",
       "</style>\n",
       "<table border=\"1\" class=\"dataframe\">\n",
       "  <thead>\n",
       "    <tr style=\"text-align: right;\">\n",
       "      <th></th>\n",
       "      <th>text</th>\n",
       "      <th>clean</th>\n",
       "    </tr>\n",
       "  </thead>\n",
       "  <tbody>\n",
       "    <tr>\n",
       "      <th>0</th>\n",
       "      <td>For Spring/Summer 2018, the #AcneStudios sneak...</td>\n",
       "      <td>For Spring Summer 2018 the AcneStudios sneaker...</td>\n",
       "    </tr>\n",
       "    <tr>\n",
       "      <th>1</th>\n",
       "      <td>RT @i_D: according to acne studios, this young...</td>\n",
       "      <td>RT D according to acne studios this young fash...</td>\n",
       "    </tr>\n",
       "    <tr>\n",
       "      <th>2</th>\n",
       "      <td>The guests at the #AcneStudios West Hollywood ...</td>\n",
       "      <td>The guests at the AcneStudios West Hollywood s...</td>\n",
       "    </tr>\n",
       "    <tr>\n",
       "      <th>3</th>\n",
       "      <td>#AcneStudiosBlåKonst Land gum are loose fittin...</td>\n",
       "      <td>AcneStudiosBl Konst Land gum are loose fitting...</td>\n",
       "    </tr>\n",
       "    <tr>\n",
       "      <th>4</th>\n",
       "      <td>Introducing Ingridh, as worn by Juliette Lewis...</td>\n",
       "      <td>Introducing Ingridh as worn by Juliette Lewis ...</td>\n",
       "    </tr>\n",
       "    <tr>\n",
       "      <th>5</th>\n",
       "      <td>RT @HYPEBEAST: Acne Studios second store in L....</td>\n",
       "      <td>RT Acne Studios second store in L A</td>\n",
       "    </tr>\n",
       "    <tr>\n",
       "      <th>6</th>\n",
       "      <td>Now open – #AcneStudios West Hollywood, a stor...</td>\n",
       "      <td>Now open AcneStudios West Hollywood a store th...</td>\n",
       "    </tr>\n",
       "    <tr>\n",
       "      <th>7</th>\n",
       "      <td>#AcneStudios Rellah is a loose, boxy fit, shor...</td>\n",
       "      <td>AcneStudios Rellah is a loose boxy fit short s...</td>\n",
       "    </tr>\n",
       "  </tbody>\n",
       "</table>\n",
       "</div>"
      ],
      "text/plain": [
       "                                                text  \\\n",
       "0  For Spring/Summer 2018, the #AcneStudios sneak...   \n",
       "1  RT @i_D: according to acne studios, this young...   \n",
       "2  The guests at the #AcneStudios West Hollywood ...   \n",
       "3  #AcneStudiosBlåKonst Land gum are loose fittin...   \n",
       "4  Introducing Ingridh, as worn by Juliette Lewis...   \n",
       "5  RT @HYPEBEAST: Acne Studios second store in L....   \n",
       "6  Now open – #AcneStudios West Hollywood, a stor...   \n",
       "7  #AcneStudios Rellah is a loose, boxy fit, shor...   \n",
       "\n",
       "                                               clean  \n",
       "0  For Spring Summer 2018 the AcneStudios sneaker...  \n",
       "1  RT D according to acne studios this young fash...  \n",
       "2  The guests at the AcneStudios West Hollywood s...  \n",
       "3  AcneStudiosBl Konst Land gum are loose fitting...  \n",
       "4  Introducing Ingridh as worn by Juliette Lewis ...  \n",
       "5                RT Acne Studios second store in L A  \n",
       "6  Now open AcneStudios West Hollywood a store th...  \n",
       "7  AcneStudios Rellah is a loose boxy fit short s...  "
      ]
     },
     "execution_count": 10,
     "metadata": {},
     "output_type": "execute_result"
    }
   ],
   "source": [
    "def tweet_cleaner(text):\n",
    "    return ' '.join(re.sub(\"(@[A-Za-z0-9]+)|([^0-9A-Za-z \\t])|(\\w+:\\/\\/\\S+)\",\" \",text).split())\n",
    "\n",
    "fashion['clean'] = fashion.text.apply(tweet_cleaner)\n",
    "\n",
    "# checking to see if #'s, @handle, and links are removed by regex tweet_cleaner\n",
    "\n",
    "fashion[['text', 'clean']].head(8)"
   ]
  },
  {
   "cell_type": "code",
   "execution_count": null,
   "metadata": {},
   "outputs": [],
   "source": []
  },
  {
   "cell_type": "markdown",
   "metadata": {},
   "source": [
    "### Formating df"
   ]
  },
  {
   "cell_type": "code",
   "execution_count": 11,
   "metadata": {
    "scrolled": true
   },
   "outputs": [
    {
     "data": {
      "text/plain": [
       "created     datetime64[ns]\n",
       "text                object\n",
       "tweet_id           float64\n",
       "clean               object\n",
       "dtype: object"
      ]
     },
     "execution_count": 11,
     "metadata": {},
     "output_type": "execute_result"
    }
   ],
   "source": [
    "#switching date of tweet dtype from object to date-time\n",
    "fashion['created'] = pd.to_datetime(fashion.created)\n",
    "\n",
    "#setting handle as index\n",
    "fashion.set_index('handle', inplace=True)\n",
    "\n",
    "fashion.dtypes"
   ]
  },
  {
   "cell_type": "code",
   "execution_count": 12,
   "metadata": {
    "scrolled": false
   },
   "outputs": [
    {
     "data": {
      "text/plain": [
       "handle\n",
       "Roberto Cavalli        3247\n",
       "Dolce & Gabbana        3245\n",
       "Vera Wang              3244\n",
       "Valentino              3240\n",
       "Stella McCartney       3238\n",
       "Missoni                3238\n",
       "Oscar de la Renta      3234\n",
       "Michael Kors           3234\n",
       "VERSACE                3232\n",
       "HUGO BOSS              3231\n",
       "gucci                  3231\n",
       "Marc Jacobs            3226\n",
       "CALVIN KLEIN           3225\n",
       "Fendi                  3224\n",
       "AlbertaFerretti        3221\n",
       "COMME des GARÇONS      3219\n",
       "ETRO                   3217\n",
       "Burberry               3216\n",
       "Giorgio Armani         3212\n",
       "Alexander McQueen      3209\n",
       "Louis Vuitton          3209\n",
       "Tommy Hilfiger         3205\n",
       "Christian Louboutin    3204\n",
       "Balmain                3204\n",
       "Off-White™             3175\n",
       "Derek Lam              3014\n",
       "Bulgari                2853\n",
       "Chloé                  2813\n",
       "LANVIN                 2704\n",
       "Dior                   2567\n",
       "PRADA                  2005\n",
       "KARL LAGERFELD         1978\n",
       "CHANEL                 1819\n",
       "Herve Leger            1409\n",
       "DKNY                   1278\n",
       "MIU MIU                1228\n",
       "Balenciaga             1203\n",
       "GoyardOfficial         1174\n",
       "Saint Laurent          1045\n",
       "Acne Studios           1000\n",
       "Jimmy Choo             1000\n",
       "TOM FORD               1000\n",
       "Akris                   998\n",
       "GIVENCHY                918\n",
       "Alexandre Vauthier      742\n",
       "KENZO                   332\n",
       "HELMUT LANG             208\n",
       "dtype: int64"
      ]
     },
     "execution_count": 12,
     "metadata": {},
     "output_type": "execute_result"
    }
   ],
   "source": [
    "fashion.groupby(fashion.index).size().sort_values(ascending=False)"
   ]
  },
  {
   "cell_type": "code",
   "execution_count": 13,
   "metadata": {},
   "outputs": [
    {
     "data": {
      "text/plain": [
       "(113868, 4)"
      ]
     },
     "execution_count": 13,
     "metadata": {},
     "output_type": "execute_result"
    }
   ],
   "source": [
    "fashion.shape"
   ]
  },
  {
   "cell_type": "code",
   "execution_count": 14,
   "metadata": {},
   "outputs": [],
   "source": [
    "fashion.to_pickle('../data/fashion_clean.pkl')"
   ]
  },
  {
   "cell_type": "code",
   "execution_count": null,
   "metadata": {},
   "outputs": [],
   "source": []
  }
 ],
 "metadata": {
  "kernelspec": {
   "display_name": "Python 3",
   "language": "python",
   "name": "python3"
  },
  "language_info": {
   "codemirror_mode": {
    "name": "ipython",
    "version": 3
   },
   "file_extension": ".py",
   "mimetype": "text/x-python",
   "name": "python",
   "nbconvert_exporter": "python",
   "pygments_lexer": "ipython3",
   "version": "3.6.4"
  }
 },
 "nbformat": 4,
 "nbformat_minor": 2
}
