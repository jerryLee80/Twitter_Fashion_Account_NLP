{
 "cells": [
  {
   "cell_type": "markdown",
   "metadata": {},
   "source": [
    "### Importing Libraries"
   ]
  },
  {
   "cell_type": "code",
   "execution_count": 1,
   "metadata": {},
   "outputs": [],
   "source": [
    "import numpy as np\n",
    "import pandas as pd\n",
    "\n"
   ]
  },
  {
   "cell_type": "markdown",
   "metadata": {},
   "source": [
    "### Collecting Fashion House Tweets"
   ]
  },
  {
   "cell_type": "code",
   "execution_count": 2,
   "metadata": {},
   "outputs": [],
   "source": [
    "#Reading in application keys \n",
    "\n",
    "with open('../data/twitter_keys.txt') as api:\n",
    "    keys = api.read().split('\\n') "
   ]
  },
  {
   "cell_type": "code",
   "execution_count": 3,
   "metadata": {},
   "outputs": [],
   "source": [
    "#Aplication keys\n",
    "\n",
    "import twitter, re, datetime, pandas as pd\n",
    "\n",
    "twitter_keys = {\n",
    "    'consumer_key':        keys[0],\n",
    "    'consumer_secret':     keys[1],\n",
    "    'access_token_key':    keys[2],\n",
    "    'access_token_secret': keys[3]\n",
    "}\n",
    "\n",
    "api = twitter.Api(\n",
    "    consumer_key         =   twitter_keys['consumer_key'],\n",
    "    consumer_secret      =   twitter_keys['consumer_secret'],\n",
    "    access_token_key     =   twitter_keys['access_token_key'],\n",
    "    access_token_secret  =   twitter_keys['access_token_secret'],\n",
    "    tweet_mode           =   'extended'\n",
    ")\n"
   ]
  },
  {
   "cell_type": "code",
   "execution_count": 4,
   "metadata": {},
   "outputs": [],
   "source": [
    "#Twitter API Class\n",
    "\n",
    "class TweetMiner():\n",
    "    \n",
    "    result_limit = 20\n",
    "    api          = None\n",
    "    tweets       = []\n",
    "    \n",
    "    def __init__(self, keys_dict, api, result_limit = 20):\n",
    "        \n",
    "        self.keys_dict     = keys_dict\n",
    "        self.api           = api\n",
    "        self.results_limit = result_limit\n",
    "        \n",
    "    def mine_user_tweets(self, user='gucci', mine_retweets = False, max_pages = None, last_tweet_id = False):\n",
    "        \n",
    "        #time out feedback\n",
    "        print(\"Mining tweets for:\", user)\n",
    "        \n",
    "        tweets        = []\n",
    "        \n",
    "        page           = 1\n",
    "        \n",
    "        while page <= max_pages:\n",
    "            \n",
    "            #time out feedback\n",
    "            print(\"Mining page:\", page)\n",
    "            \n",
    "            if last_tweet_id:\n",
    "                statuses = self.api.GetUserTimeline(\n",
    "                    screen_name = user,\n",
    "                    count       = self.result_limit,\n",
    "                    max_id      = last_tweet_id - 1\n",
    "                )\n",
    "            else:\n",
    "                statuses = self.api.GetUserTimeline(\n",
    "                    screen_name = user,\n",
    "                    count       = self.result_limit\n",
    "                )\n",
    "\n",
    "            for item in statuses:\n",
    "                \n",
    "                last_tweet_id = item.id\n",
    "                \n",
    "                tweets.append({\n",
    "                    'tweet_id': item.id,\n",
    "                    'handle':   item.user.name,\n",
    "                    'text':     item.full_text,\n",
    "                    'created':  item.created_at\n",
    "                })\n",
    "                \n",
    "            page += 1\n",
    "        \n",
    "        return tweets\n",
    "            \n",
    "        \n",
    "miner = TweetMiner(twitter_keys, api, result_limit=50)"
   ]
  },
  {
   "cell_type": "markdown",
   "metadata": {},
   "source": [
    "### Fashion Labels"
   ]
  },
  {
   "cell_type": "code",
   "execution_count": 5,
   "metadata": {},
   "outputs": [
    {
     "name": "stdout",
     "output_type": "stream",
     "text": [
      "wikipedia_labels 96\n",
      "fashion_labels: 46\n",
      "prime_labels: 10\n"
     ]
    }
   ],
   "source": [
    "wikipedia_labels = ['akris_official', 'McQueen', 'alfreddunhill', 'AlphaIndustries', 'andres_sarda', 'Anne_Fontaine',\\\n",
    "                   'aquascutum', 'giorgioarmani', 'emporioarmani', 'ArmaniExchange', 'AspinalofLondon', 'AspreyLondon',\\\n",
    "                   'AleDellAcqua', 'Dior', 'dkny', 'dolcegabbana', '_BadgleyMischka', 'BadgleyMischka', 'BALENCIAGA',\\\n",
    "                   'Bally', 'Balmain', 'BensonAndClegg', 'berluti', 'Beulahlondon', 'ManoloBlahnik', 'HUGOBOSS',\\\n",
    "                    'BottegaVeneta', 'ThomBrowneNY', 'Bulgariofficial', 'Burberry', 'NigelCabourn', 'CalvinKlein',\\\n",
    "                   'camillaandmarc', 'Cartier', 'Dsquared2', 'CERRUTI1881', 'CHANEL', 'Childrensalon', 'chloefashion',\\\n",
    "                   'matthewbridal', 'chromeheartsusa', 'ClementsRibeiro', 'Coach', 'COMMEGARCONS', 'Common Projects',\\\n",
    "                   'corneliajames', 'Corneliani_com', 'CuteCircuit', 'cutlerandgross', 'DegeandSkinner', 'NUMEROVENTUNO',\\\n",
    "                   'dkny', 'dolcegabbana', 'ermannoscervino', 'ESCADA', 'EtroOfficial', 'Faconnable', 'Fendi',\\\n",
    "                    'TOMFORD', 'franksorbier', 'freywilleglobal', 'STUDIO_FULTON', 'DVF', 'JPGaultier', 'GievesLondon',\\\n",
    "                   'givenchy', 'Goyard', 'gucci', 'HackettLondon', 'KevanHallDesign', 'halston', 'Hardy Amies ', 'HELMUTLANG',\\\n",
    "                   'Hermes_Paris', 'HouseofHerrera', 'TommyHilfiger', 'SherriHill', 'GeorgesHobeika', 'marcjacobs', 'jimmychoo',\\\n",
    "                   'johnvarvatos', 'ChristopherKane', 'Karen_Kane', 'katespadeny', 'MaryKatrantzou', ' Khaadi', 'LACOSTE',\\\n",
    "                   'BNYhandbags', 'KarlLagerfeld', 'DerekLamNYC', 'LANVINofficial', 'LardiniOfficial', 'guylaroche', 'Larusmiani',\\\n",
    "                   'JudithLeiber', '']\n",
    "\n",
    "\n",
    "fashion_labels = ['gucci', 'McQueen', 'StellaMcCartney', 'Fendi', 'MaisonValentino', 'Roberto_Cavalli',\\\n",
    "                  'LouboutinWorld', 'EtroOfficial', 'Prada', 'dolcegabbana', 'Dior', 'LouisVuitton', 'CHANEL'\\\n",
    "                 'Missoni', 'OscardelaRenta', 'VeraWangGang', 'HerveLeger', 'MaisonValentino', 'Balmain',\\\n",
    "                 'Versace', 'giorgioarmani', 'DerekLamNYC', 'AlbertaFerretti', 'YSL', 'COMMEGARCONS', 'BALENCIAGA',\\\n",
    "                 'Burberry', 'TOMFORD', 'ALEXVAUTHIER', 'MIUMIUofficial', 'CalvinKlein', 'givenchy', 'TommyHilfiger',\\\n",
    "                 'jimmychoo', 'OffWht', 'chloefashion','dkny', 'marcjacobs', 'MichaelKors', 'Goyard', 'HUGOBOSS',\\\n",
    "                 'kenzo', 'HELMUTLANG', 'acnestudios', 'Bulgariofficial', 'akris_official']\n",
    "\n",
    "prime_labels = ['gucci', 'McQueen', 'StellaMcCartney', 'Roberto_Cavalli', 'acnestudios', 'jimmychoo', 'Roberto_Cavalli',\\\n",
    "               'TOMFORD', 'Prada', 'akris_official']\n",
    "\n",
    "print('wikipedia_labels', len(wikipedia_labels))\n",
    "print('fashion_labels:', len(fashion_labels))\n",
    "print('prime_labels:', len(prime_labels))"
   ]
  },
  {
   "cell_type": "code",
   "execution_count": 45,
   "metadata": {},
   "outputs": [],
   "source": [
    "fashion_labels = ['LouisVuitton', 'CHANEL'\\\n",
    "                 'Missoni', 'OscardelaRenta', 'VeraWangGang', 'HerveLeger', 'MaisonValentino', 'Balmain',\\\n",
    "                 'Versace', 'giorgioarmani', 'DerekLamNYC', 'AlbertaFerretti', 'YSL', 'COMMEGARCONS', 'BALENCIAGA',\\\n",
    "                 'Burberry', 'TOMFORD', 'ALEXVAUTHIER', 'MIUMIUofficial', 'CalvinKlein', 'givenchy', 'TommyHilfiger',\\\n",
    "                 'jimmychoo', 'OffWht', 'chloefashion','dkny', 'marcjacobs', 'MichaelKors', 'Goyard', 'HUGOBOSS',\\\n",
    "                 'kenzo', 'HELMUTLANG', 'acnestudios', 'Bulgariofficial', 'akris_official']"
   ]
  },
  {
   "cell_type": "code",
   "execution_count": 46,
   "metadata": {
    "scrolled": true
   },
   "outputs": [
    {
     "name": "stdout",
     "output_type": "stream",
     "text": [
      "Mining tweets for: LouisVuitton\n",
      "Mining page: 1\n",
      "could not mine label: LouisVuitton\n",
      "Mining tweets for: CHANELMissoni\n",
      "Mining page: 1\n",
      "could not mine label: CHANELMissoni\n",
      "Mining tweets for: OscardelaRenta\n",
      "Mining page: 1\n",
      "could not mine label: OscardelaRenta\n",
      "Mining tweets for: VeraWangGang\n",
      "Mining page: 1\n",
      "could not mine label: VeraWangGang\n",
      "Mining tweets for: HerveLeger\n",
      "Mining page: 1\n",
      "could not mine label: HerveLeger\n",
      "Mining tweets for: MaisonValentino\n",
      "Mining page: 1\n",
      "could not mine label: MaisonValentino\n",
      "Mining tweets for: Balmain\n",
      "Mining page: 1\n",
      "could not mine label: Balmain\n",
      "Mining tweets for: Versace\n",
      "Mining page: 1\n",
      "could not mine label: Versace\n",
      "Mining tweets for: giorgioarmani\n",
      "Mining page: 1\n",
      "could not mine label: giorgioarmani\n",
      "Mining tweets for: DerekLamNYC\n",
      "Mining page: 1\n",
      "could not mine label: DerekLamNYC\n",
      "Mining tweets for: AlbertaFerretti\n",
      "Mining page: 1\n",
      "could not mine label: AlbertaFerretti\n",
      "Mining tweets for: YSL\n",
      "Mining page: 1\n",
      "could not mine label: YSL\n",
      "Mining tweets for: COMMEGARCONS\n",
      "Mining page: 1\n",
      "could not mine label: COMMEGARCONS\n",
      "Mining tweets for: BALENCIAGA\n",
      "Mining page: 1\n",
      "could not mine label: BALENCIAGA\n",
      "Mining tweets for: Burberry\n",
      "Mining page: 1\n",
      "could not mine label: Burberry\n",
      "Mining tweets for: TOMFORD\n",
      "Mining page: 1\n",
      "could not mine label: TOMFORD\n",
      "Mining tweets for: ALEXVAUTHIER\n",
      "Mining page: 1\n",
      "could not mine label: ALEXVAUTHIER\n",
      "Mining tweets for: MIUMIUofficial\n",
      "Mining page: 1\n",
      "could not mine label: MIUMIUofficial\n",
      "Mining tweets for: CalvinKlein\n",
      "Mining page: 1\n",
      "could not mine label: CalvinKlein\n",
      "Mining tweets for: givenchy\n",
      "Mining page: 1\n",
      "could not mine label: givenchy\n",
      "Mining tweets for: TommyHilfiger\n",
      "Mining page: 1\n",
      "could not mine label: TommyHilfiger\n",
      "Mining tweets for: jimmychoo\n",
      "Mining page: 1\n",
      "could not mine label: jimmychoo\n",
      "Mining tweets for: OffWht\n",
      "Mining page: 1\n",
      "could not mine label: OffWht\n",
      "Mining tweets for: chloefashion\n",
      "Mining page: 1\n",
      "could not mine label: chloefashion\n",
      "Mining tweets for: dkny\n",
      "Mining page: 1\n",
      "could not mine label: dkny\n",
      "Mining tweets for: marcjacobs\n",
      "Mining page: 1\n",
      "could not mine label: marcjacobs\n",
      "Mining tweets for: MichaelKors\n",
      "Mining page: 1\n",
      "could not mine label: MichaelKors\n",
      "Mining tweets for: Goyard\n",
      "Mining page: 1\n",
      "could not mine label: Goyard\n",
      "Mining tweets for: HUGOBOSS\n",
      "Mining page: 1\n",
      "could not mine label: HUGOBOSS\n",
      "Mining tweets for: kenzo\n",
      "Mining page: 1\n",
      "could not mine label: kenzo\n",
      "Mining tweets for: HELMUTLANG\n",
      "Mining page: 1\n",
      "could not mine label: HELMUTLANG\n",
      "Mining tweets for: acnestudios\n",
      "Mining page: 1\n",
      "could not mine label: acnestudios\n",
      "Mining tweets for: Bulgariofficial\n",
      "Mining page: 1\n",
      "could not mine label: Bulgariofficial\n",
      "Mining tweets for: akris_official\n",
      "Mining page: 1\n",
      "could not mine label: akris_official\n"
     ]
    }
   ],
   "source": [
    "#test will just dump directly into database\n",
    "#Instantiating class and passing list of twitter handles\n",
    "\n",
    "tweet_data = []\n",
    "\n",
    "for label in fashion_labels:\n",
    "    try:\n",
    "        tweet_data = miner.mine_user_tweets(user=label, max_pages=200, last_tweet_id=True)\n",
    "        df = pd.DataFrame(tweet_data)\n",
    "        df.to_csv('../data/%s.csv' % label)\n",
    "    except:\n",
    "        print('could not mine label:', label)\n"
   ]
  },
  {
   "cell_type": "code",
   "execution_count": 48,
   "metadata": {
    "scrolled": true
   },
   "outputs": [
    {
     "data": {
      "text/plain": [
       "(37636, 4)"
      ]
     },
     "execution_count": 48,
     "metadata": {},
     "output_type": "execute_result"
    }
   ],
   "source": [
    "#reading in fashion house csv and creating master datafram\n",
    "\n",
    "acne_df      = pd.read_csv('../data/acnestudios.csv',index_col=[0])\n",
    "akris_df     = pd.read_csv('../data/akris_official.csv',index_col=[0])\n",
    "dior_df      = pd.read_csv('../data/Dior.csv',index_col=[0])\n",
    "dolce_df     = pd.read_csv('../data/dolcegabbana.csv',index_col=[0])\n",
    "etro_df      = pd.read_csv('../data/EtroOfficial.csv',index_col=[0])\n",
    "fendi_df     = pd.read_csv('../data/Fendi.csv',index_col=[0])\n",
    "gucci_df     = pd.read_csv('../data/gucci.csv',index_col=[0])\n",
    "jimmychoo_df = pd.read_csv('../data/jimmychoo.csv',index_col=[0])\n",
    "Louboutin_df = pd.read_csv('../data/LouboutinWorld.csv',index_col=[0])\n",
    "valentino_df = pd.read_csv('../data/MaisonValentino.csv',index_col=[0])\n",
    "mcqueen_df   = pd.read_csv('../data/McQueen.csv',index_col=[0])\n",
    "prada_df     = pd.read_csv('../data/Prada.csv',index_col=[0])\n",
    "cavalli_df   = pd.read_csv('../data/Roberto_Cavalli.csv',index_col=[0])\n",
    "stella_df    = pd.read_csv('../data/StellaMcCartney.csv',index_col=[0])\n",
    "tomford_df   = pd.read_csv('../data/TOMFORD.csv',index_col=[0])\n",
    "\n",
    "\n",
    "\n",
    "df_list = [acne_df, akris_df, dior_df, dolce_df, etro_df, fendi_df, gucci_df, jimmychoo_df, Louboutin_df, valentino_df, mcqueen_df, prada_df,\\\n",
    "           cavalli_df, stella_df, tomford_df]\n",
    "\n",
    "\n",
    "fashion_df = pd.concat(df_list)\n",
    "fashion_df.shape"
   ]
  },
  {
   "cell_type": "code",
   "execution_count": 49,
   "metadata": {},
   "outputs": [
    {
     "data": {
      "text/plain": [
       "15"
      ]
     },
     "execution_count": 49,
     "metadata": {},
     "output_type": "execute_result"
    }
   ],
   "source": [
    "len(df_list)"
   ]
  },
  {
   "cell_type": "code",
   "execution_count": 50,
   "metadata": {},
   "outputs": [
    {
     "data": {
      "text/plain": [
       "handle\n",
       "Acne Studios           1000\n",
       "Akris                   998\n",
       "Alexander McQueen      3209\n",
       "Christian Louboutin    3204\n",
       "Dior                   2567\n",
       "Dolce & Gabbana        3245\n",
       "ETRO                   3217\n",
       "Fendi                  3224\n",
       "Jimmy Choo             1000\n",
       "PRADA                  2005\n",
       "Roberto Cavalli        3247\n",
       "Stella McCartney       3238\n",
       "TOM FORD               1000\n",
       "Valentino              3240\n",
       "gucci                  3231\n",
       "dtype: int64"
      ]
     },
     "execution_count": 50,
     "metadata": {},
     "output_type": "execute_result"
    }
   ],
   "source": [
    "fashion_df.groupby(fashion_df.handle).size()"
   ]
  },
  {
   "cell_type": "code",
   "execution_count": 53,
   "metadata": {},
   "outputs": [],
   "source": [
    "fashion_df.to_pickle('../data/fashion_df.pkl')"
   ]
  },
  {
   "cell_type": "markdown",
   "metadata": {},
   "source": []
  },
  {
   "cell_type": "code",
   "execution_count": null,
   "metadata": {},
   "outputs": [],
   "source": []
  }
 ],
 "metadata": {
  "kernelspec": {
   "display_name": "Python 3",
   "language": "python",
   "name": "python3"
  },
  "language_info": {
   "codemirror_mode": {
    "name": "ipython",
    "version": 3
   },
   "file_extension": ".py",
   "mimetype": "text/x-python",
   "name": "python",
   "nbconvert_exporter": "python",
   "pygments_lexer": "ipython3",
   "version": "3.6.4"
  }
 },
 "nbformat": 4,
 "nbformat_minor": 2
}
