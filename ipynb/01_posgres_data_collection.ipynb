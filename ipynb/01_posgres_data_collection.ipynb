{
 "cells": [
  {
   "cell_type": "markdown",
   "metadata": {},
   "source": [
    "### Importing Libraries"
   ]
  },
  {
   "cell_type": "code",
   "execution_count": 1,
   "metadata": {},
   "outputs": [],
   "source": [
    "import time, numpy as np, pandas as pd\n",
    "\n",
    "import json\n",
    "\n",
    "import psycopg2 as pg2\n",
    "from psycopg2.extras import RealDictCursor, Json"
   ]
  },
  {
   "cell_type": "markdown",
   "metadata": {},
   "source": [
    "### Collecting Fashion House Tweets"
   ]
  },
  {
   "cell_type": "code",
   "execution_count": 2,
   "metadata": {},
   "outputs": [],
   "source": [
    "#Reading in application keys \n",
    "\n",
    "with open('../data/twitter_keys.txt') as api:\n",
    "    keys = api.read().split('\\n') \n",
    "\n",
    "#Aplication keys\n",
    "\n",
    "import twitter, re, datetime, pandas as pd\n",
    "\n",
    "twitter_keys = {\n",
    "    'consumer_key':        keys[0],\n",
    "    'consumer_secret':     keys[1],\n",
    "    'access_token_key':    keys[2],\n",
    "    'access_token_secret': keys[3]\n",
    "}\n",
    "\n",
    "api = twitter.Api(\n",
    "    consumer_key         =   twitter_keys['consumer_key'],\n",
    "    consumer_secret      =   twitter_keys['consumer_secret'],\n",
    "    access_token_key     =   twitter_keys['access_token_key'],\n",
    "    access_token_secret  =   twitter_keys['access_token_secret'],\n",
    "    tweet_mode           =   'extended'\n",
    ")"
   ]
  },
  {
   "cell_type": "code",
   "execution_count": 3,
   "metadata": {},
   "outputs": [],
   "source": [
    "class TweetMiner():\n",
    "    \n",
    "    result_limit = 20\n",
    "    api          = None\n",
    "    tweets       = []\n",
    "    \n",
    "    def __init__(self, keys_dict, api, result_limit = 20):\n",
    "        \n",
    "        self.keys_dict     = keys_dict\n",
    "        self.api           = api\n",
    "        self.results_limit = result_limit\n",
    "        \n",
    "    def mine_user_tweets(self, user='gucci', mine_retweets = False, max_pages = None, last_tweet_id = False):\n",
    "        \n",
    "        #time out feedback\n",
    "        print(\"Mining tweets for:\", user)\n",
    "        \n",
    "        tweets        = []\n",
    "        last_tweet_id = False\n",
    "        page           = 1\n",
    "        \n",
    "        while page <= max_pages:\n",
    "            \n",
    "            #time out feedback\n",
    "            print(\"Mining page:\", page)\n",
    "            \n",
    "            if last_tweet_id:\n",
    "                statuses = self.api.GetUserTimeline(\n",
    "                    screen_name = user,\n",
    "                    count       = self.result_limit,\n",
    "                    max_id      = last_tweet_id - 1\n",
    "                )\n",
    "            else:\n",
    "                statuses = self.api.GetUserTimeline(\n",
    "                    screen_name = user,\n",
    "                    count       = self.result_limit\n",
    "                )\n",
    "\n",
    "            for item in statuses:\n",
    "                \n",
    "                last_tweet_id = item.id\n",
    "                \n",
    "                tweets.append({\n",
    "                    'tweet_id': item.id,\n",
    "                    'handle':   item.user.name,\n",
    "                    'text':     item.full_text,\n",
    "                    'created':  item.created_at\n",
    "                })\n",
    "                \n",
    "            page += 1\n",
    "        \n",
    "        return tweets\n",
    "            \n",
    "        \n",
    "miner = TweetMiner(twitter_keys, api, result_limit=50)"
   ]
  },
  {
   "cell_type": "markdown",
   "metadata": {},
   "source": [
    "### Fashion Labels"
   ]
  },
  {
   "cell_type": "code",
   "execution_count": 4,
   "metadata": {},
   "outputs": [
    {
     "name": "stdout",
     "output_type": "stream",
     "text": [
      "wikipedia_labels 172\n",
      "fashion_labels: 45\n",
      "prime_labels: 10\n"
     ]
    }
   ],
   "source": [
    "wikipedia_labels = ['akris_official', 'McQueen', 'alfreddunhill', 'AlphaIndustries', 'andres_sarda', 'Anne_Fontaine',\\\n",
    "                   'aquascutum', 'giorgioarmani', 'emporioarmani', 'ArmaniExchange', 'AspinalofLondon', 'AspreyLondon',\\\n",
    "                   'AleDellAcqua', 'Dior', 'dkny', 'dolcegabbana', '_BadgleyMischka', 'BadgleyMischka', 'BALENCIAGA',\\\n",
    "                   'Bally', 'Balmain', 'BensonAndClegg', 'berluti', 'Beulahlondon', 'ManoloBlahnik', 'HUGOBOSS',\\\n",
    "                    'BottegaVeneta', 'ThomBrowneNY', 'Bulgariofficial', 'Burberry', 'NigelCabourn', 'CalvinKlein',\\\n",
    "                   'camillaandmarc', 'Cartier', 'Dsquared2', 'CERRUTI1881', 'CHANEL', 'Childrensalon', 'chloefashion',\\\n",
    "                   'matthewbridal', 'chromeheartsusa', 'ClementsRibeiro', 'Coach', 'COMMEGARCONS', 'Common Projects',\\\n",
    "                   'corneliajames', 'Corneliani_com', 'CuteCircuit', 'cutlerandgross', 'DegeandSkinner', 'NUMEROVENTUNO',\\\n",
    "                   'dkny', 'dolcegabbana', 'ermannoscervino', 'ESCADA', 'EtroOfficial', 'Faconnable', 'Fendi',\\\n",
    "                    'TOMFORD', 'franksorbier', 'freywilleglobal', 'STUDIO_FULTON', 'DVF', 'JPGaultier', 'GievesLondon',\\\n",
    "                   'givenchy', 'Goyard', 'gucci', 'HackettLondon', 'KevanHallDesign', 'halston', 'Hardy Amies ', 'HELMUTLANG',\\\n",
    "                   'Hermes_Paris', 'HouseofHerrera', 'TommyHilfiger', 'SherriHill', 'GeorgesHobeika', 'marcjacobs', 'jimmychoo',\\\n",
    "                   'johnvarvatos', 'ChristopherKane', 'Karen_Kane', 'katespadeny', 'MaryKatrantzou', ' Khaadi', 'LACOSTE',\\\n",
    "                   'BNYhandbags', 'KarlLagerfeld', 'DerekLamNYC', 'LANVINofficial', 'LardiniOfficial', 'guylaroche', 'Larusmiani',\\\n",
    "                   'JudithLeiber', 'M_Lhuillier', '31philliplim', 'DanLiuTatsuaki', 'Longchamp', 'LouboutinWorld',\\\n",
    "                   'Luxottica', 'BrunoMagli', 'Margiela', 'MarchesaFashion', 'Marimekkoglobal', 'marniofficial',\\\n",
    "                   'maxmara', 'StellaMcCartney', 'MCMtweets', 'MichaelKors', 'Missoni', 'MIUMIUofficial', 'Moschino',\\\n",
    "                   'mouawadjewelry', 'MoynatParis', 'Mugler', 'MulberryEngland', 'charlottes_web', 'RICKOWENSONLINE',\\\n",
    "                   'PauleKa', 'philipp_plein', 'Prada', 'PringleScotland', 'EmilioPucci', 'PacoRabanne', 'Raja Fashions',\\\n",
    "                   'ralphandrusso', 'RalphLauren', 'OscardelaRenta', 'NinaRicci', 'Roberto_Cavalli', 'OfficialRodarte',\\\n",
    "                   'narcisostudio', 'RolandMouret', 'sergiorossi', 'MrRalphRucci', 'soniarykiel', 'sehkelly', 'Ferragamo',\\\n",
    "                   'sass_and_bide', 'SatyaPaulIndia', 'ITSJEREMYSCOTT', 'shanghaitang', 'JohnSmedley', 'PaulSmithDesign',\\\n",
    "                   'Smythson', 'JILLSTUART_JP', 'annasui', 'VivienneTam', 'THEROW', 'tibi', 'TiffanyAndCo', 'toryburch',\\\n",
    "                   'TrussardiNews', 'tumblerandtipsy', 'Turnbull_Asser', 'MaisonValentino', 'DriesVanNoten', 'ALEXVAUTHIER',\\\n",
    "                   'Versace', 'Viktor_and_Rolf', 'LouisVuitton', 'AlexanderWangNY', 'VeraWangGang', 'FollowWestwood',\\\n",
    "                   'MWWorld', 'JasonWu', 'thewunderkindco', 'YSL', 'giuseppezanotti', 'Zegna', 'ZARA']\n",
    "\n",
    "\n",
    "fashion_labels = ['gucci', 'McQueen', 'StellaMcCartney', 'Fendi', 'MaisonValentino', 'Roberto_Cavalli',\\\n",
    "                  'LouboutinWorld', 'EtroOfficial', 'Prada', 'dolcegabbana', 'Dior', 'LouisVuitton', 'CHANEL'\\\n",
    "                 'Missoni', 'OscardelaRenta', 'VeraWangGang', 'HerveLeger', 'MaisonValentino', 'Balmain',\\\n",
    "                 'Versace', 'giorgioarmani', 'DerekLamNYC', 'AlbertaFerretti', 'YSL', 'COMMEGARCONS', 'BALENCIAGA',\\\n",
    "                 'Burberry', 'TOMFORD', 'ALEXVAUTHIER', 'MIUMIUofficial', 'CalvinKlein', 'givenchy', 'TommyHilfiger',\\\n",
    "                 'jimmychoo', 'OffWht', 'chloefashion','dkny', 'marcjacobs', 'MichaelKors', 'Goyard', 'HUGOBOSS',\\\n",
    "                 'kenzo', 'HELMUTLANG', 'acnestudios', 'Bulgariofficial', 'akris_official']\n",
    "\n",
    "prime_labels = ['gucci', 'McQueen', 'StellaMcCartney', 'Roberto_Cavalli', 'acnestudios', 'jimmychoo', 'Roberto_Cavalli',\\\n",
    "               'TOMFORD', 'Prada', 'akris_official']\n",
    "\n",
    "print('wikipedia_labels', len(wikipedia_labels))\n",
    "print('fashion_labels:', len(fashion_labels))\n",
    "print('prime_labels:', len(prime_labels))"
   ]
  },
  {
   "cell_type": "code",
   "execution_count": null,
   "metadata": {},
   "outputs": [],
   "source": []
  },
  {
   "cell_type": "markdown",
   "metadata": {},
   "source": [
    "### Functions "
   ]
  },
  {
   "cell_type": "code",
   "execution_count": 5,
   "metadata": {},
   "outputs": [],
   "source": [
    "#function to connect to posgres db on ubuntu instance \n",
    "\n",
    "def con_cur_to_db():\n",
    "    con = pg2.connect(host = '13.52.0.109', \n",
    "                     dbname = 'postgres',\n",
    "                     user = 'postgres',\n",
    "                     password = 'zoolander')\n",
    "    cur = con.cursor(cursor_factory = RealDictCursor)\n",
    "    return con, cur"
   ]
  },
  {
   "cell_type": "code",
   "execution_count": 6,
   "metadata": {},
   "outputs": [],
   "source": [
    "#function to insert data into unstructured postgres db\n",
    "\n",
    "def insert_json(data):\n",
    "    con, cur = con_cur_to_db()\n",
    "    for x in data:\n",
    "        cur.execute('INSERT INTO all_data (data) VALUES ({});'.format(Json(x)))\n",
    "    con.commit()\n",
    "    con.close()"
   ]
  },
  {
   "cell_type": "code",
   "execution_count": null,
   "metadata": {},
   "outputs": [],
   "source": []
  },
  {
   "cell_type": "code",
   "execution_count": 7,
   "metadata": {},
   "outputs": [],
   "source": [
    "#grabs data from postgres db\n",
    "\n",
    "def fetch_data(query):\n",
    "    con, cur = con_cur_to_db()\n",
    "    cur.execute(query)\n",
    "    data = cur.fetchall()\n",
    "    con.close()\n",
    "    return data"
   ]
  },
  {
   "cell_type": "code",
   "execution_count": 8,
   "metadata": {},
   "outputs": [],
   "source": [
    "#function to run sql queries in postgres db \n",
    "\n",
    "def get_handle_tweets(handle):\n",
    "    query = f\"\"\"\n",
    "    SELECT * \n",
    "    FROM all_data\n",
    "    Where data->>'handle' = \n",
    "    '{handle}'; \"\"\"\n",
    "    data = fetch_data(query)\n",
    "    return data"
   ]
  },
  {
   "cell_type": "code",
   "execution_count": 9,
   "metadata": {},
   "outputs": [],
   "source": [
    "#transforms list of dicts of dicts to list of dicts \n",
    "\n",
    "def extractor(query_result):\n",
    "    return [*map(lambda x: x['data'], query_result)]"
   ]
  },
  {
   "cell_type": "code",
   "execution_count": null,
   "metadata": {},
   "outputs": [],
   "source": []
  },
  {
   "cell_type": "markdown",
   "metadata": {},
   "source": [
    "### Extracting tweets & storing to postgres db"
   ]
  },
  {
   "cell_type": "code",
   "execution_count": 38,
   "metadata": {},
   "outputs": [],
   "source": [
    "\n",
    "statuses = api.GetUserTimeline(\n",
    "                    screen_name = 'akris_official',\n",
    "                    count       = 100)"
   ]
  },
  {
   "cell_type": "code",
   "execution_count": 39,
   "metadata": {},
   "outputs": [
    {
     "data": {
      "text/plain": [
       "[Status(ID=971416620429127680, ScreenName=akris_official, Created=Wed Mar 07 16:05:45 +0000 2018, Text='Vienna 1900-1918. It was a groundbreaking time for women. Artists like Klimt &amp; Schiele portrayed the profound change in society, created reform dresses liberating women from the corset. Albert Kriemler translated this spirit into his collection. https://t.co/7kZ87mK6op https://t.co/7klnaOdfJO'),\n",
       " Status(ID=970652605578870784, ScreenName=akris_official, Created=Mon Mar 05 13:29:49 +0000 2018, Text='A closer look into our #AkrisFW18 collection, which features Marble inspired prints and… https://t.co/iFT9Y3do37'),\n",
       " Status(ID=970347792932761600, ScreenName=akris_official, Created=Sun Mar 04 17:18:36 +0000 2018, Text='One of our powerful looks from the #AkrisFW18 collection. The green Malachite Print dress - bold… https://t.co/ymSk7Xr3mz'),\n",
       " Status(ID=969942904851566592, ScreenName=akris_official, Created=Sat Mar 03 14:29:43 +0000 2018, Text=\"Bonjour Paris! \\nArt and architecture play an important role in Albert Kriemler's inspiration to… https://t.co/FoJFKqy444\"),\n",
       " Status(ID=937693184464949248, ScreenName=akris_official, Created=Mon Dec 04 14:40:51 +0000 2017, Text='Albert Kriemler dedicated his #AkrisCR18 collection to Cannes as the new Akris boutique opened… https://t.co/oE9uftgo14'),\n",
       " Status(ID=933738678492549121, ScreenName=akris_official, Created=Thu Nov 23 16:47:03 +0000 2017, Text='Inspired by the Cannes lifestyle, our new Akris Cruise 2018 collection embodies a relaxed off-duty spirit. Available now online. #AkrisCR18 https://t.co/7Sbo6lV1lF'),\n",
       " Status(ID=915835158326071296, ScreenName=akris_official, Created=Thu Oct 05 07:04:51 +0000 2017, Text='See the #AkrisSS18 show &amp; all Alexander Girard inspired looks again at https://t.co/UYvr8cYPi3\\n@girardstudio in collaboration with @vitra'),\n",
       " Status(ID=915800448996708353, ScreenName=akris_official, Created=Thu Oct 05 04:46:56 +0000 2017, Text='Wood works: Akris carves out a collection inspired by Alexander Girard for S/S18 https://t.co/LZNuLVdgzb via @wallpapermag https://t.co/BKH8xnDL0w'),\n",
       " Status(ID=915210006777253890, ScreenName=akris_official, Created=Tue Oct 03 13:40:44 +0000 2017, Text='See more from our #AkrisSS18 collection now on @VogueRunway. #pfw #paris https://t.co/dnenGHxW9i'),\n",
       " Status(ID=914553350435336193, ScreenName=akris_official, Created=Sun Oct 01 18:11:24 +0000 2017, Text='Kicking off the #AkrisSS18 show with an Alexander Girard inspired dress. \\ngirardstudio in… https://t.co/pdmUqvtM4S'),\n",
       " Status(ID=912657156524167169, ScreenName=akris_official, Created=Tue Sep 26 12:36:37 +0000 2017, Text='How Brianna Lance Nails Cool Girl Style https://t.co/OSHqqsg8Mg via @harpersbazaarus #AkrisFW17 #AkrisAimee'),\n",
       " Status(ID=912333307899256833, ScreenName=akris_official, Created=Mon Sep 25 15:09:45 +0000 2017, Text='How Artist Rodney Graham Helped Albert Kriemler Find Inspiration for Its Latest Collection | artnet News https://t.co/RIgt4E7czg'),\n",
       " Status(ID=899525926828068864, ScreenName=akris_official, Created=Mon Aug 21 06:57:47 +0000 2017, Text='Our Fall 2017 collection just arrived. Learn more about the inspiration behind the new Fall styles &amp; discover the collection on akris.ch. https://t.co/7SJMElKaZc'),\n",
       " Status(ID=882829291385491460, ScreenName=akris_official, Created=Thu Jul 06 05:11:19 +0000 2017, Text='Akris Resort 2018 https://t.co/s1FiCuyViY via @wwd'),\n",
       " Status(ID=882211988423589888, ScreenName=akris_official, Created=Tue Jul 04 12:18:23 +0000 2017, Text='The Cruise 2018 collection is a nod to Cannes and the French Riviera... Stay tuned to find out… https://t.co/iPcaW41qdB'),\n",
       " Status(ID=873086936641961984, ScreenName=akris_official, Created=Fri Jun 09 07:58:41 +0000 2017, Text='Our new Pre-Fall 2017 Collection just arrived. Discover the new styles on https://t.co/B8fLc0T1oc\\n\\n#AkrisPF17 #AkrisInspiration #VivianMaier https://t.co/gpVMDcVPEr'),\n",
       " Status(ID=869843968409915393, ScreenName=akris_official, Created=Wed May 31 09:12:17 +0000 2017, Text=\"Lady in Red: H.S.H. Princess Charlene of Monaco dazzled in a racing red Akris dress at the Monaco Grand Prix '17.\\n https://t.co/gKMGMOukC1\"),\n",
       " Status(ID=866621062804590593, ScreenName=akris_official, Created=Mon May 22 11:45:37 +0000 2017, Text='We are pleased to announce the opening of our new Boutique in Cannes, located at the Boulevard de la Croisette 45-46\\n#AkrisBoutiques #Cannes https://t.co/QMO2TR93Tz'),\n",
       " Status(ID=866619341709684736, ScreenName=akris_official, Created=Mon May 22 11:38:46 +0000 2017, Text='Akris’s Albert Kriemler and Bergdorf Goodman Host Cocktails in Honor of Pre-Fall 2017 https://t.co/pnSNTpOwmS via @voguemagazine'),\n",
       " Status(ID=860470728575111168, ScreenName=akris_official, Created=Fri May 05 12:26:23 +0000 2017, Text='Soft colors &amp; fabrics for your wardrobe. Stunning Alessandra Ambrosio showing off the way to wear! #Akris #AlessandraAmbrosio https://t.co/88f9pDAUJc'),\n",
       " Status(ID=857485421831487488, ScreenName=akris_official, Created=Thu Apr 27 06:43:50 +0000 2017, Text=\"Akris's Spring 2017 Collection Was Inspired by Abstract Expressionism https://t.co/efBtynt9kG\"),\n",
       " Status(ID=854974813856833536, ScreenName=akris_official, Created=Thu Apr 20 08:27:34 +0000 2017, Text='Freida Pinto enjoying a Spring day in New York in our #AkrisSS17 \"Untitled\" dress. https://t.co/qRuUN6xe9d'),\n",
       " Status(ID=852405234022445056, ScreenName=akris_official, Created=Thu Apr 13 06:16:59 +0000 2017, Text='Embrace the Power of Straight Lines\\xa0This\\xa0Spring https://t.co/cMf0l2KyYG via @voguemagazine'),\n",
       " Status(ID=848886333171003393, ScreenName=akris_official, Created=Mon Apr 03 13:14:08 +0000 2017, Text='Become a masterpiece in our \"Venetian Red, White and Black\" print organza gown inspired by… https://t.co/zL8Eq85Rv5'),\n",
       " Status(ID=845190376046526465, ScreenName=akris_official, Created=Fri Mar 24 08:27:43 +0000 2017, Text='Strong statement: Our \"Blanco y Verde\" inspired looks from the #AkrisSS17 collection.\\n\\n#Akrisinspirations #strong #statement #powerful https://t.co/6FDdYyGj8p'),\n",
       " Status(ID=840839722876448772, ScreenName=akris_official, Created=Sun Mar 12 08:19:46 +0000 2017, Text='Stunning: Amal Clooney wears an Akris Resort 2017 camel and white long cashmere sweater. #Akris\\n\\nhttps://t.co/PGvtnFOshA via @voguemagazine'),\n",
       " Status(ID=839133594417143808, ScreenName=akris_official, Created=Tue Mar 07 15:20:13 +0000 2017, Text='RT @VogueRunway: .@akris_official’s Fall collection was strong on forward-facing essentials: coats and bags. https://t.co/JpbYDBLSpI #PFW'),\n",
       " Status(ID=838999745146269698, ScreenName=akris_official, Created=Tue Mar 07 06:28:21 +0000 2017, Text='RT @CHRISELLEtweets: Not to self: Wear vertical lines &amp; high waisted pants to look way taller than you are. Full look @akris_official https…'),\n",
       " Status(ID=838739324548100096, ScreenName=akris_official, Created=Mon Mar 06 13:13:32 +0000 2017, Text=\"It was our pleasure to have the gorgeous Sofia Carson at yesterday's FW 17 runway show. #Akrisfw17\\n\\n#AkrisVIP #SofiaCarson #pfw https://t.co/IcCKaICywS\"),\n",
       " Status(ID=838697570071359488, ScreenName=akris_official, Created=Mon Mar 06 10:27:37 +0000 2017, Text='RT @wallpapermag: @akris_official present a series of self-portraits by Rodney Graham #pfw #aw17 #fashion https://t.co/hF6ATe4WqZ'),\n",
       " Status(ID=838665005650350081, ScreenName=akris_official, Created=Mon Mar 06 08:18:13 +0000 2017, Text='RT @SofiaCarson: Thank you Peter and Albert for having me at your beautiful show today❤️ @akris_official https://t.co/wSvumRPXyS'),\n",
       " Status(ID=838664924163411969, ScreenName=akris_official, Created=Mon Mar 06 08:17:54 +0000 2017, Text='RT @SofiaCarson: @akris_official ♠️ #ParisFashionWeek #PFW #fw1718 #frontrow https://t.co/2l5raYxo94'),\n",
       " Status(ID=838454501929586688, ScreenName=akris_official, Created=Sun Mar 05 18:21:45 +0000 2017, Text='RT @NOWFASHION: Bold jewel tones brighten up the @akris_official #FW17 show. https://t.co/YTo0HDSbop #Akris #AkrisFW17 #PFW https://t.co/sI…'),\n",
       " Status(ID=838418971456114688, ScreenName=akris_official, Created=Sun Mar 05 16:00:34 +0000 2017, Text=\"It's all about a woman in a coat with a bag. Inspiration by #RodneyGraham… https://t.co/6aOEmjKUUf\"),\n",
       " Status(ID=838402373257211904, ScreenName=akris_official, Created=Sun Mar 05 14:54:37 +0000 2017, Text=\"We're almost ready for the show. 4 PM CET today live on akris.ch… https://t.co/ktFUPeeCls\"),\n",
       " Status(ID=838326246446678016, ScreenName=akris_official, Created=Sun Mar 05 09:52:07 +0000 2017, Text='Tune in today at 4 PM CET to save your front row seat at our Akris FW17 runway show live on… https://t.co/so1G20W6Q6'),\n",
       " Status(ID=838094406565650434, ScreenName=akris_official, Created=Sat Mar 04 18:30:52 +0000 2017, Text='Bonne nuit from Akris. #Akrisfw17\\n\\n#bonnenuit #parisbynight #fashionshow #pfw #paris #fashionweek https://t.co/JK2JCVYIaL'),\n",
       " Status(ID=837317887450886144, ScreenName=akris_official, Created=Thu Mar 02 15:05:15 +0000 2017, Text='Introducing our new show venue - Palais de Tokyo. Located in the heart of Paris and close to our… https://t.co/0SoUbBhaC7'),\n",
       " Status(ID=837287259212742656, ScreenName=akris_official, Created=Thu Mar 02 13:03:33 +0000 2017, Text='We are back in Paris for our Akris FW17 runway show. Join us on Sunday, 4pm CET, live on… https://t.co/FZZPvQDTdn'),\n",
       " Status(ID=836978557670797313, ScreenName=akris_official, Created=Wed Mar 01 16:36:53 +0000 2017, Text='Mark your calendar for this Sunday, March 5th at 4 PM CET. #Akrisfw17 live from Paris on akris.ch! #PFW https://t.co/zIYKybTpeF'),\n",
       " Status(ID=832302199074091011, ScreenName=akris_official, Created=Thu Feb 16 18:54:42 +0000 2017, Text='Spotted: the flawless #ashleygreene at her premiere of #indubiousbattle wearing our #ss17 Blanco y Verde georgette gown\\n#AkrisVIP #AkrisSS17 https://t.co/JVuyL6D6z9'),\n",
       " Status(ID=818880588706889728, ScreenName=akris_official, Created=Tue Jan 10 18:02:01 +0000 2017, Text='RT @VogueRunway: .@akris_official’s Albert Kriemler was inspired by street photographer Vivian Maier for Pre-Fall 2017. https://t.co/VIgKBh…'),\n",
       " Status(ID=816960777911406593, ScreenName=akris_official, Created=Thu Jan 05 10:53:22 +0000 2017, Text='Ride into the sunset with our graphic Turf print from the cruise 2017 collection https://t.co/N7lTGv1fph #akris #printoftheseason https://t.co/RIq4bRxPM6'),\n",
       " Status(ID=806222901125017600, ScreenName=akris_official, Created=Tue Dec 06 19:44:53 +0000 2016, Text='Own the night! Find your cocktail style at https://t.co/S2sOFGhNhg #akris #holiday #party https://t.co/4QKDtGIEFw'),\n",
       " Status(ID=801818406278283264, ScreenName=akris_official, Created=Thu Nov 24 16:02:59 +0000 2016, Text='Akris cruise has arrived! Shop the collection now at akris.ch #newarrivals #akriscruise2017 https://t.co/ugcmRsShhW'),\n",
       " Status(ID=798919430101233664, ScreenName=akris_official, Created=Wed Nov 16 16:03:29 +0000 2016, Text='The most sophisticated small leather good have arrived! Shop the collection now at akris.ch #akrishorsehair #giftideas #newarrivals https://t.co/o9tCTyW5F9'),\n",
       " Status(ID=797853831426097153, ScreenName=akris_official, Created=Sun Nov 13 17:29:11 +0000 2016, Text='Cover star nicolescherzy in our favorite dress of the season for the last print issue of… https://t.co/5OtOTEZvfw'),\n",
       " Status(ID=792753817339195392, ScreenName=akris_official, Created=Sun Oct 30 15:43:33 +0000 2016, Text=\"Incomparable actress Kathy Bates in Akris on the cover of @ELLEmagazine's annual 'Women in Hollywood' issue. On newsstands now. #akris https://t.co/kwoe2pvtiJ\"),\n",
       " Status(ID=792753436026605568, ScreenName=akris_official, Created=Sun Oct 30 15:42:02 +0000 2016, Text='RT @fashionsizzle1: #Ciara  In @akris_official At The 2016  #CFDAAwards  #Vogue #Fashion Fund #FashionShow Event\\nhttps://t.co/qj5pi2MmTc ht…'),\n",
       " Status(ID=776062220048400384, ScreenName=akris_official, Created=Wed Sep 14 14:17:06 +0000 2016, Text='RT @wwd: Albert Kriemler showed his @akris_official collection for the first time in the city, and went FULL-throttle. #NYFW https://t.co/O…'),\n",
       " Status(ID=774625140978114560, ScreenName=akris_official, Created=Sat Sep 10 15:06:40 +0000 2016, Text='RT @VogueRunway: View @akris_official’s Spring 2017 collection as it is shown on the runway #NYFW: https://t.co/MTNdMy8f1b https://t.co/pf7…'),\n",
       " Status(ID=774360660520136704, ScreenName=akris_official, Created=Fri Sep 09 21:35:43 +0000 2016, Text='RT @VVFriedman: Akris makes so much more sense in #NYFW than #PFW https://t.co/sMYZQX93wc'),\n",
       " Status(ID=774337193666048000, ScreenName=akris_official, Created=Fri Sep 09 20:02:28 +0000 2016, Text='Tune in to the Akris #SS17 show starting in an instant! #AKRISLOVESNYC #NYFW  https://t.co/vuhKUFli9u'),\n",
       " Status(ID=773585042601893888, ScreenName=akris_official, Created=Wed Sep 07 18:13:41 +0000 2016, Text=\"Such an honor!Albert Kriemler is this year's recipient of the Couture Council Award for Artistry of Fashion. https://t.co/Jq8YMLNu3J\"),\n",
       " Status(ID=773546700891889664, ScreenName=akris_official, Created=Wed Sep 07 15:41:19 +0000 2016, Text='New York Fashion Week is about to start tomorrow &amp; #Akris is part of it! See what else is going on! https://t.co/0oEnYdXXY6 #NYFW @nytimes'),\n",
       " Status(ID=773192514715222016, ScreenName=akris_official, Created=Tue Sep 06 16:13:55 +0000 2016, Text=\"RT @FIT: #NYFW NEWS: @MuseumatFIT's #CoutureCouncil will honor Albert Kriemler of @Akris_official with the Award for Artistry of Fashion!\"),\n",
       " Status(ID=771800047260430336, ScreenName=akris_official, Created=Fri Sep 02 20:00:45 +0000 2016, Text='RT @museumatFIT: 5 days until we present Albert Kriemler of @akris_official w/the 2016 #CoutureCouncil Award for Artistry of Fashion! https…'),\n",
       " Status(ID=768077442334547968, ScreenName=akris_official, Created=Tue Aug 23 13:28:27 +0000 2016, Text='Akris punto celebrates 20 years of polka dot fever! #akris #akrispunto #20yearsAkrispunto\\nhttps://t.co/80I4Bm54xr https://t.co/lNmEcCBlrM'),\n",
       " Status(ID=760859007133241352, ScreenName=akris_official, Created=Wed Aug 03 15:24:58 +0000 2016, Text='The exclusive Ai bag for our new Houston boutique. Available only at @RODistrict. #akris #houston #accessories https://t.co/oBrB16t91H'),\n",
       " Status(ID=760731788587180034, ScreenName=akris_official, Created=Wed Aug 03 06:59:26 +0000 2016, Text=\"RT @FIT: Valerie Steele discusses the #CoutureCouncil Luncheon and @Akris_official's Albert Kriemler: https://t.co/qCuvd23uiE https://t.co/…\"),\n",
       " Status(ID=759402354542338048, ScreenName=akris_official, Created=Sat Jul 30 14:56:44 +0000 2016, Text='It brings the house great excitement to announce that Houston is finally home to the world of Akris. @RODistrict https://t.co/uJ0yTnIYyb'),\n",
       " Status(ID=759085641992986624, ScreenName=akris_official, Created=Fri Jul 29 17:58:14 +0000 2016, Text='We are excited to open our boutique in Houston tomorrow. @RODistrict https://t.co/cff6qpg0tE'),\n",
       " Status(ID=752549925888651264, ScreenName=akris_official, Created=Mon Jul 11 17:07:38 +0000 2016, Text='Night has fallen, the stars come out and as hues of darkness surround us, magic fills the air.… https://t.co/OmxmFvT2pj'),\n",
       " Status(ID=751078908154548224, ScreenName=akris_official, Created=Thu Jul 07 15:42:20 +0000 2016, Text='RT @FIT: \"Akris to Stage Runway Show in New York\" via @WWD: https://t.co/iuUl5kjk6r @akris_official https://t.co/79QWKZQ1VB'),\n",
       " Status(ID=750936537970401280, ScreenName=akris_official, Created=Thu Jul 07 06:16:37 +0000 2016, Text='Akris to Stage Runway Show in New York https://t.co/v7nCg1l3Sw (from @wwd) #akris #albertkriemler #ss17 #NYFW'),\n",
       " Status(ID=750004116412391424, ScreenName=akris_official, Created=Mon Jul 04 16:31:30 +0000 2016, Text=\"It’s all about Love – mayaaraya and #MarcJubete dancing in Albert Kriemler's costumes for John… https://t.co/9O5oyl6odU\"),\n",
       " Status(ID=749979674613284864, ScreenName=akris_official, Created=Mon Jul 04 14:54:23 +0000 2016, Text='More Swiss-Hamburg Music cross-pollination: Albert Kriemler‘s friends of herzogdemeuron built… https://t.co/urOi6A6Aem'),\n",
       " Status(ID=749921014960754688, ScreenName=akris_official, Created=Mon Jul 04 11:01:17 +0000 2016, Text='Pas de deux: Albert Kriemler cooperated with master choreographer John Neumeier for the costumes… https://t.co/rCHjNlRsVS'),\n",
       " Status(ID=740179294455005184, ScreenName=akris_official, Created=Tue Jun 07 13:51:10 +0000 2016, Text='Akris Cruise 2017 - collection &amp; review by @NicoleSPhelps on https://t.co/ZbhY0F9POc via @voguerunway #akris https://t.co/Oc8zJkX7yy'),\n",
       " Status(ID=738707404171431936, ScreenName=akris_official, Created=Fri Jun 03 12:22:24 +0000 2016, Text=\"Discover Albert Kriemler's #Akris #cruise2017 collection presented in New York on June 2. #albertkriemler  https://t.co/FIlQDEH4SN\"),\n",
       " Status(ID=735503953526415364, ScreenName=akris_official, Created=Wed May 25 16:13:02 +0000 2016, Text='Last night, @akris_official and @Phaidon had the honor of hosting a book signing with @soufujimoto at 835 Madison. https://t.co/efLgYvdJBv'),\n",
       " Status(ID=735015841901776897, ScreenName=akris_official, Created=Tue May 24 07:53:27 +0000 2016, Text='RT @saks: Enter a denim daze with @akris_official Punto #SaksStyle https://t.co/LKHebJAw2t https://t.co/LpTzQGxtaE'),\n",
       " Status(ID=735015659004940288, ScreenName=akris_official, Created=Tue May 24 07:52:43 +0000 2016, Text='RT @DASHMagTweet: almost like colour blocking with @akris_official for #SS16 #fashionillustration #pfwss16  https://t.co/VkjwiZNqjO https:/…'),\n",
       " Status(ID=731083488531714049, ScreenName=akris_official, Created=Fri May 13 11:27:41 +0000 2016, Text=\"RT @jellison: Akris: inside the Swiss luxury house dressing the world's alpha women @ft https://t.co/nAMlzIiPWN https://t.co/OmCjImzeJB\"),\n",
       " Status(ID=731083432831422464, ScreenName=akris_official, Created=Fri May 13 11:27:27 +0000 2016, Text='RT @FTLifeArts: Angelina, Amal and Sheryl are all fans: meet the man behind Akris, the alpha-woman’s label https://t.co/9DllJLPXrw https://…'),\n",
       " Status(ID=728571308666163201, ScreenName=akris_official, Created=Fri May 06 13:05:10 +0000 2016, Text=\"Albert Kriemler's parka is our favorite outerwear between seasons. #akris #parka #ss16 #jacket #spring #favorite https://t.co/C2OFh2qvSP\"),\n",
       " Status(ID=726054549363015685, ScreenName=akris_official, Created=Fri Apr 29 14:24:28 +0000 2016, Text=\"Akris Collectors Scarves - The perfect gift for Mother's Day! https://t.co/EcEkaZ5Nzi #akris #mothersday #giftideas https://t.co/KFUnsirGQ4\"),\n",
       " Status(ID=724985511492902912, ScreenName=akris_official, Created=Tue Apr 26 15:36:30 +0000 2016, Text='#Akris #ss16 embroidery motor bike jacket and bermuda featured in the May issue of @ELLEmagazine #akriseditorial https://t.co/HaIxfOObDK'),\n",
       " Status(ID=720225692294713344, ScreenName=akris_official, Created=Wed Apr 13 12:22:40 +0000 2016, Text='Nicole Urbschat, editor at \"ACHTUNG Mode\" about Albert Kriemler to be honered by Couture Council. #albertkriemler https://t.co/oa8hi3bwnt'),\n",
       " Status(ID=720216017180483585, ScreenName=akris_official, Created=Wed Apr 13 11:44:14 +0000 2016, Text=\"RT @NOWFASHION: It's Wednesday and we are wearing pink ! With @AkrisInsider #SS16 collection to discover: https://t.co/1HpJUBcLhS https://t…\"),\n",
       " Status(ID=718340787877056513, ScreenName=akris_official, Created=Fri Apr 08 07:32:44 +0000 2016, Text='Beautiful artwork. Good luck with your big move @victoria_riza! https://t.co/62M4oMT4V3'),\n",
       " Status(ID=718330878158618624, ScreenName=akris_official, Created=Fri Apr 08 06:53:21 +0000 2016, Text='RT @wwd_jp: 「アクリス」のアルベルト・クリームラーがFITクチュール協会賞を受賞 https://t.co/j0Pz5gH4CX @AkrisInsider https://t.co/QCcYqpB8qv'),\n",
       " Status(ID=718330804909314048, ScreenName=akris_official, Created=Fri Apr 08 06:53:04 +0000 2016, Text='RT @TeeezCanada: Fashion inspo to brighten your #Thursday! 💕 Pastels heavily influenced our upcoming collection... stay tuned! 😶🙊 https://t…'),\n",
       " Status(ID=717720229594398720, ScreenName=akris_official, Created=Wed Apr 06 14:26:51 +0000 2016, Text='Akris’ Albert Kriemler to Be Honored by Couture Council https://t.co/0OlQNB2bqh (from @wwd) #akris #albertkriemler #couturecouncil #wwd'),\n",
       " Status(ID=717004937109061632, ScreenName=akris_official, Created=Mon Apr 04 15:04:32 +0000 2016, Text='Amal Clooney debuts our #fw16 défilé collection while out and about in New York City #akris #amalclooney #nyc https://t.co/mNI70KyuNV'),\n",
       " Status(ID=715931893984862210, ScreenName=akris_official, Created=Fri Apr 01 16:00:39 +0000 2016, Text='Introducing the Anouk city – Akris’ latest addition in mirrored leather with a detachable chain.… https://t.co/gDWEeuKOdS'),\n",
       " Status(ID=715897677603540993, ScreenName=akris_official, Created=Fri Apr 01 13:44:41 +0000 2016, Text='Our spring/summer 2016 accessories have arrived! Follow the link in bio and choose your favorite… https://t.co/yIdtXxAAVm'),\n",
       " Status(ID=715835667071246336, ScreenName=akris_official, Created=Fri Apr 01 09:38:17 +0000 2016, Text='Take a stroll down Avenue Montaigne and discover our #ss16 collection in our Paris boutique. #akris #paris https://t.co/ICqxFypbXh'),\n",
       " Status(ID=715566530738720768, ScreenName=akris_official, Created=Thu Mar 31 15:48:50 +0000 2016, Text='Walk this way! #akris #fashion #ss16 #miamidesigndistrict #huesofblue #onthego #withmyanouk https://t.co/Ab3nwpQBQd'),\n",
       " Status(ID=714827283727572992, ScreenName=akris_official, Created=Tue Mar 29 14:51:19 +0000 2016, Text=\"The #Akris vinyl jackets inspired by Sou Fujimoto's Miami Design District featured in @ElleCanada and @ELLEmagazine https://t.co/7vsAAlBwZ1\"),\n",
       " Status(ID=714032053487067136, ScreenName=akris_official, Created=Sun Mar 27 10:11:22 +0000 2016, Text='HAPPY EASTER! #akris #happyeaster https://t.co/nQxUpC9ruM'),\n",
       " Status(ID=710785656709058560, ScreenName=akris_official, Created=Fri Mar 18 11:11:20 +0000 2016, Text='Albert Kriemler’s collaboration for the Akris spring/summer 2016 collection with Japanese… https://t.co/ETSOVdivwT'),\n",
       " Status(ID=710742946207940608, ScreenName=akris_official, Created=Fri Mar 18 08:21:37 +0000 2016, Text='RT @AshleyMGreene: The hair @josephchase the makeup @themakeupexpert the dress @AkrisInsider @cristinastylist the… https://t.co/kNE4tKo1He'),\n",
       " Status(ID=710499908940337152, ScreenName=akris_official, Created=Thu Mar 17 16:15:53 +0000 2016, Text='The beautiful @AshleyMGreene shines in our Akris prefall 2016 blue sequin cocktail dress at the… https://t.co/G0YKnEZWYh'),\n",
       " Status(ID=709666534784966656, ScreenName=akris_official, Created=Tue Mar 15 09:04:21 +0000 2016, Text=\"RT @i_D: .@AkrisInsider utilise animal prints and trompe l'oeil embroidery: https://t.co/6fSBfahYaM https://t.co/Pc1kedqQgx\"),\n",
       " Status(ID=709664644793769984, ScreenName=akris_official, Created=Tue Mar 15 08:56:50 +0000 2016, Text='RT @wwd: Albert Kriemler expressed his penchant for minimalism in a narrow color palette @AkrisInsider #PFW: https://t.co/Spo9VQ09xc'),\n",
       " Status(ID=709664512719392768, ScreenName=akris_official, Created=Tue Mar 15 08:56:19 +0000 2016, Text='RT @NYTFashion: Just posted: Runway photos of the entire fall 2016 collection from @akrisinsider https://t.co/Sz8fEtB1X6'),\n",
       " Status(ID=709664474278596608, ScreenName=akris_official, Created=Tue Mar 15 08:56:10 +0000 2016, Text='RT @VogueRunway: See the full @AkrisInsider Fall 2016 collection here: https://t.co/HFCrUW9yyj'),\n",
       " Status(ID=709664402472050688, ScreenName=akris_official, Created=Tue Mar 15 08:55:53 +0000 2016, Text='RT @alannaarrington: ended today walking in 2 looks for @AkrisInsider ❤ ️One of my absolute favorite shows because it… https://t.co/WRsuEyP…'),\n",
       " Status(ID=709663902406221824, ScreenName=akris_official, Created=Tue Mar 15 08:53:53 +0000 2016, Text='RT @wallpapermag: #AlbertKriemler is having a red hot lava moment at @AkrisInsider #fashion https://t.co/ds2LBBoGFR')]"
      ]
     },
     "execution_count": 39,
     "metadata": {},
     "output_type": "execute_result"
    }
   ],
   "source": [
    "statuses\n"
   ]
  },
  {
   "cell_type": "code",
   "execution_count": 29,
   "metadata": {},
   "outputs": [],
   "source": [
    "#function to insert data into unstructured postgres db\n",
    "\n",
    "def insert_to_fashion(data):\n",
    "    con, cur = con_cur_to_db()\n",
    "    for x in data:\n",
    "        cur.execute('INSERT INTO fashion(data) VALUES ({});'.format(Json(x)))\n",
    "    con.commit(\n",
    "        try:\n",
    "        # database transaction code\n",
    "        except (sqlalchemy.exc.SQLAlchemyError, sqlalchemy.exc.DBAPIError) as e:\n",
    "        # handle exception \"e\", or re-raise appropriately.\n",
    ")\n",
    "    con.close()"
   ]
  },
  {
   "cell_type": "code",
   "execution_count": null,
   "metadata": {},
   "outputs": [],
   "source": [
    "insert_to_fashion()"
   ]
  },
  {
   "cell_type": "code",
   "execution_count": 41,
   "metadata": {
    "scrolled": true
   },
   "outputs": [
    {
     "name": "stdout",
     "output_type": "stream",
     "text": [
      "Timed out on: akris_official\n"
     ]
    },
    {
     "ename": "KeyboardInterrupt",
     "evalue": "",
     "output_type": "error",
     "traceback": [
      "\u001b[0;31m---------------------------------------------------------------------------\u001b[0m",
      "\u001b[0;31mTypeError\u001b[0m                                 Traceback (most recent call last)",
      "\u001b[0;32m<ipython-input-41-a478686e63f9>\u001b[0m in \u001b[0;36mscrape_label\u001b[0;34m(label)\u001b[0m\n\u001b[1;32m      4\u001b[0m     \u001b[0;32mtry\u001b[0m\u001b[0;34m:\u001b[0m\u001b[0;34m\u001b[0m\u001b[0m\n\u001b[0;32m----> 5\u001b[0;31m         \u001b[0mtweet_data\u001b[0m \u001b[0;34m=\u001b[0m \u001b[0mminer\u001b[0m\u001b[0;34m.\u001b[0m\u001b[0mmine_user_tweets\u001b[0m\u001b[0;34m(\u001b[0m\u001b[0muser\u001b[0m\u001b[0;34m=\u001b[0m\u001b[0mlabel\u001b[0m\u001b[0;34m,\u001b[0m \u001b[0mmax_pages\u001b[0m\u001b[0;34m=\u001b[0m\u001b[0;36m200\u001b[0m\u001b[0;34m,\u001b[0m \u001b[0mlast_tweet_id\u001b[0m\u001b[0;34m=\u001b[0m\u001b[0;32mTrue\u001b[0m\u001b[0;34m)\u001b[0m\u001b[0;34m\u001b[0m\u001b[0m\n\u001b[0m\u001b[1;32m      6\u001b[0m         \u001b[0minsert_to_fashion\u001b[0m\u001b[0;34m(\u001b[0m\u001b[0mtweet_data\u001b[0m\u001b[0;34m)\u001b[0m\u001b[0;34m\u001b[0m\u001b[0m\n",
      "\u001b[0;31mTypeError\u001b[0m: mine_user_tweets() got an unexpected keyword argument 'last_tweet_id'",
      "\nDuring handling of the above exception, another exception occurred:\n",
      "\u001b[0;31mKeyboardInterrupt\u001b[0m                         Traceback (most recent call last)",
      "\u001b[0;32m<ipython-input-41-a478686e63f9>\u001b[0m in \u001b[0;36m<module>\u001b[0;34m()\u001b[0m\n\u001b[1;32m     13\u001b[0m \u001b[0;34m\u001b[0m\u001b[0m\n\u001b[1;32m     14\u001b[0m \u001b[0;32mfor\u001b[0m \u001b[0mlabel\u001b[0m \u001b[0;32min\u001b[0m \u001b[0mwikipedia_labels\u001b[0m\u001b[0;34m:\u001b[0m\u001b[0;34m\u001b[0m\u001b[0m\n\u001b[0;32m---> 15\u001b[0;31m     \u001b[0mscrape_label\u001b[0m\u001b[0;34m(\u001b[0m\u001b[0mlabel\u001b[0m\u001b[0;34m)\u001b[0m\u001b[0;34m\u001b[0m\u001b[0m\n\u001b[0m",
      "\u001b[0;32m<ipython-input-41-a478686e63f9>\u001b[0m in \u001b[0;36mscrape_label\u001b[0;34m(label)\u001b[0m\n\u001b[1;32m      9\u001b[0m         \u001b[0;32mwith\u001b[0m \u001b[0mopen\u001b[0m\u001b[0;34m(\u001b[0m\u001b[0;34m'../logfile.txt'\u001b[0m\u001b[0;34m,\u001b[0m \u001b[0;34m'a+'\u001b[0m\u001b[0;34m)\u001b[0m \u001b[0;32mas\u001b[0m \u001b[0mf\u001b[0m\u001b[0;34m:\u001b[0m\u001b[0;34m\u001b[0m\u001b[0m\n\u001b[1;32m     10\u001b[0m             \u001b[0mf\u001b[0m\u001b[0;34m.\u001b[0m\u001b[0mwrite\u001b[0m\u001b[0;34m(\u001b[0m\u001b[0;34mf'Timed out on {label} at {time.ctime()}\\n'\u001b[0m\u001b[0;34m)\u001b[0m\u001b[0;34m\u001b[0m\u001b[0m\n\u001b[0;32m---> 11\u001b[0;31m         \u001b[0mtime\u001b[0m\u001b[0;34m.\u001b[0m\u001b[0msleep\u001b[0m\u001b[0;34m(\u001b[0m\u001b[0;36m915\u001b[0m\u001b[0;34m)\u001b[0m\u001b[0;34m\u001b[0m\u001b[0m\n\u001b[0m\u001b[1;32m     12\u001b[0m         \u001b[0mscrape_label\u001b[0m\u001b[0;34m(\u001b[0m\u001b[0mlabel\u001b[0m\u001b[0;34m)\u001b[0m\u001b[0;34m\u001b[0m\u001b[0m\n\u001b[1;32m     13\u001b[0m \u001b[0;34m\u001b[0m\u001b[0m\n",
      "\u001b[0;31mKeyboardInterrupt\u001b[0m: "
     ]
    }
   ],
   "source": [
    "# scraper automates api call\n",
    "\n",
    "def scrape_label(label):\n",
    "    try:\n",
    "        tweet_data = miner.mine_user_tweets(user=label, max_pages=200, last_tweet_id=True)\n",
    "        insert_to_fashion(tweet_data)\n",
    "    except:\n",
    "        print('Timed out on:', label)\n",
    "        with open('../logfile.txt', 'a+') as f:\n",
    "            f.write(f'Timed out on {label} at {time.ctime()}\\n')\n",
    "        time.sleep(915)\n",
    "        scrape_label(label)\n",
    "        \n",
    "for label in wikipedia_labels:\n",
    "    scrape_label(label) "
   ]
  },
  {
   "cell_type": "markdown",
   "metadata": {},
   "source": [
    "### Extracting data from postgres db"
   ]
  },
  {
   "cell_type": "code",
   "execution_count": null,
   "metadata": {},
   "outputs": [],
   "source": [
    "#function to run sql queries in postgres db \n",
    "\n",
    "def get_fashion_tweets(handle):\n",
    "    query = f\"\"\"\n",
    "    SELECT * \n",
    "    FROM fashion\n",
    "    Where data->>'handle' = \n",
    "    '{handle}'; \"\"\"\n",
    "    data = fetch_data(query)\n",
    "    return data"
   ]
  },
  {
   "cell_type": "code",
   "execution_count": null,
   "metadata": {},
   "outputs": [],
   "source": []
  },
  {
   "cell_type": "code",
   "execution_count": null,
   "metadata": {},
   "outputs": [],
   "source": []
  },
  {
   "cell_type": "code",
   "execution_count": null,
   "metadata": {},
   "outputs": [],
   "source": []
  },
  {
   "cell_type": "code",
   "execution_count": null,
   "metadata": {},
   "outputs": [],
   "source": []
  },
  {
   "cell_type": "code",
   "execution_count": null,
   "metadata": {},
   "outputs": [],
   "source": []
  },
  {
   "cell_type": "code",
   "execution_count": null,
   "metadata": {},
   "outputs": [],
   "source": []
  },
  {
   "cell_type": "code",
   "execution_count": 19,
   "metadata": {},
   "outputs": [
    {
     "data": {
      "text/plain": [
       "(17518, 4)"
      ]
     },
     "execution_count": 19,
     "metadata": {},
     "output_type": "execute_result"
    }
   ],
   "source": [
    "# Extracting data from db and creating a data frame\n",
    "\n",
    "labels = ['Acne Studios', 'Akris', 'Alexander McQueen', 'gucci', 'Jimmy Choo', 'PRADA', 'Roberto Cavalli',\\\n",
    "'Stella McCartney', 'TOM FORD'] \n",
    "\n",
    "data = []\n",
    "\n",
    "for label in labels:\n",
    "    data.extend(get_handle_tweets(label))\n",
    "    \n",
    "extracted_data = extractor(data)\n",
    "\n",
    "fashion = pd.DataFrame(extracted_data)\n",
    "fashion.shape"
   ]
  },
  {
   "cell_type": "code",
   "execution_count": 20,
   "metadata": {},
   "outputs": [
    {
     "data": {
      "text/plain": [
       "gucci                3240\n",
       "Stella McCartney     2000\n",
       "Roberto Cavalli      2000\n",
       "Acne Studios         2000\n",
       "Alexander McQueen    2000\n",
       "Jimmy Choo           1999\n",
       "PRADA                1991\n",
       "TOM FORD             1290\n",
       "Akris                 998\n",
       "Name: handle, dtype: int64"
      ]
     },
     "execution_count": 20,
     "metadata": {},
     "output_type": "execute_result"
    }
   ],
   "source": [
    "fashion.handle.value_counts()"
   ]
  },
  {
   "cell_type": "code",
   "execution_count": null,
   "metadata": {},
   "outputs": [],
   "source": []
  },
  {
   "cell_type": "code",
   "execution_count": null,
   "metadata": {},
   "outputs": [],
   "source": []
  },
  {
   "cell_type": "code",
   "execution_count": null,
   "metadata": {},
   "outputs": [],
   "source": []
  },
  {
   "cell_type": "code",
   "execution_count": null,
   "metadata": {},
   "outputs": [],
   "source": []
  },
  {
   "cell_type": "code",
   "execution_count": null,
   "metadata": {},
   "outputs": [],
   "source": []
  },
  {
   "cell_type": "code",
   "execution_count": null,
   "metadata": {},
   "outputs": [],
   "source": []
  },
  {
   "cell_type": "code",
   "execution_count": null,
   "metadata": {},
   "outputs": [],
   "source": []
  },
  {
   "cell_type": "code",
   "execution_count": null,
   "metadata": {},
   "outputs": [],
   "source": []
  },
  {
   "cell_type": "code",
   "execution_count": null,
   "metadata": {},
   "outputs": [],
   "source": []
  },
  {
   "cell_type": "code",
   "execution_count": null,
   "metadata": {},
   "outputs": [],
   "source": []
  },
  {
   "cell_type": "code",
   "execution_count": null,
   "metadata": {},
   "outputs": [],
   "source": []
  },
  {
   "cell_type": "code",
   "execution_count": null,
   "metadata": {},
   "outputs": [],
   "source": []
  },
  {
   "cell_type": "code",
   "execution_count": null,
   "metadata": {},
   "outputs": [],
   "source": []
  },
  {
   "cell_type": "code",
   "execution_count": null,
   "metadata": {},
   "outputs": [],
   "source": []
  },
  {
   "cell_type": "code",
   "execution_count": null,
   "metadata": {},
   "outputs": [],
   "source": [
    "#################################### dave function \n",
    "\n",
    "items = range(1, 500)\n",
    "\n",
    "# write a function that will capture items in chunks of 10 from 5000, decending\n",
    "bucket = []\n",
    "\n",
    "def grab_10_items():\n",
    "    \n",
    "    # what is the lowest number in bucket so far?\n",
    "    #start from there\n",
    "    \n",
    "    min_bucket = min(bucket)\n",
    "    \n",
    "    if items[min_bucket:-10] in bcuket:\n",
    "        bucket.append(the stuff you find..)\n",
    "\n",
    "grab_10_items()\n"
   ]
  }
 ],
 "metadata": {
  "kernelspec": {
   "display_name": "Python 3",
   "language": "python",
   "name": "python3"
  },
  "language_info": {
   "codemirror_mode": {
    "name": "ipython",
    "version": 3
   },
   "file_extension": ".py",
   "mimetype": "text/x-python",
   "name": "python",
   "nbconvert_exporter": "python",
   "pygments_lexer": "ipython3",
   "version": "3.6.4"
  }
 },
 "nbformat": 4,
 "nbformat_minor": 2
}
