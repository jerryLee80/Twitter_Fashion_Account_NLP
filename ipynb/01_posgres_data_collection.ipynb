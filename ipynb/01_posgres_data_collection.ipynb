{
 "cells": [
  {
   "cell_type": "markdown",
   "metadata": {},
   "source": [
    "### Importing Libraries"
   ]
  },
  {
   "cell_type": "code",
   "execution_count": 10,
   "metadata": {},
   "outputs": [],
   "source": [
    "import numpy as np\n",
    "import pandas as pd\n",
    "\n",
    "import json\n",
    "\n",
    "import psycopg2 as pg2\n",
    "from psycopg2.extras import RealDictCursor, Json"
   ]
  },
  {
   "cell_type": "markdown",
   "metadata": {},
   "source": [
    "### Collecting Fashion House Tweets"
   ]
  },
  {
   "cell_type": "code",
   "execution_count": 11,
   "metadata": {},
   "outputs": [],
   "source": [
    "#Reading in application keys \n",
    "\n",
    "with open('../data/twitter_keys.txt') as api:\n",
    "    keys = api.read().split('\\n') \n",
    "\n",
    "#Aplication keys\n",
    "\n",
    "import twitter, re, datetime, pandas as pd\n",
    "\n",
    "twitter_keys = {\n",
    "    'consumer_key':        keys[0],\n",
    "    'consumer_secret':     keys[1],\n",
    "    'access_token_key':    keys[2],\n",
    "    'access_token_secret': keys[3]\n",
    "}\n",
    "\n",
    "api = twitter.Api(\n",
    "    consumer_key         =   twitter_keys['consumer_key'],\n",
    "    consumer_secret      =   twitter_keys['consumer_secret'],\n",
    "    access_token_key     =   twitter_keys['access_token_key'],\n",
    "    access_token_secret  =   twitter_keys['access_token_secret'],\n",
    "    tweet_mode           =   'extended'\n",
    ")"
   ]
  },
  {
   "cell_type": "code",
   "execution_count": 12,
   "metadata": {},
   "outputs": [],
   "source": [
    "#Twitter API Class\n",
    "\n",
    "class TweetMiner():\n",
    "    \n",
    "    result_limit = 20\n",
    "    api          = None\n",
    "    tweets       = []\n",
    "    \n",
    "    def __init__(self, keys_dict, api, result_limit = 20):\n",
    "        \n",
    "        self.keys_dict     = keys_dict\n",
    "        self.api           = api\n",
    "        self.results_limit = result_limit\n",
    "        \n",
    "    def mine_user_tweets(self, user='gucci', mine_retweets = False, max_pages = None, last_tweet_id = False):\n",
    "        \n",
    "        #time out feedback\n",
    "        print(\"Mining tweets for:\", user)\n",
    "        \n",
    "        tweets        = []\n",
    "        last_tweet_id = False\n",
    "        page           = 1\n",
    "        \n",
    "        while page <= max_pages:\n",
    "            \n",
    "            #time out feedback\n",
    "            print(\"Mining page:\", page)\n",
    "            \n",
    "            if last_tweet_id:\n",
    "                statuses = self.api.GetUserTimeline(\n",
    "                    screen_name = user,\n",
    "                    count       = self.result_limit,\n",
    "                    max_id      = last_tweet_id - 1\n",
    "                )\n",
    "            else:\n",
    "                statuses = self.api.GetUserTimeline(\n",
    "                    screen_name = user,\n",
    "                    count       = self.result_limit\n",
    "                )\n",
    "\n",
    "            for item in statuses:\n",
    "                \n",
    "                last_tweet_id = item.id\n",
    "                \n",
    "                tweets.append({\n",
    "                    'tweet_id': item.id,\n",
    "                    'handle':   item.user.name,\n",
    "                    'text':     item.full_text,\n",
    "                    'created':  item.created_at\n",
    "                })\n",
    "                \n",
    "            page += 1\n",
    "        \n",
    "        return tweets\n",
    "            \n",
    "        \n",
    "miner = TweetMiner(twitter_keys, api, result_limit=50)"
   ]
  },
  {
   "cell_type": "markdown",
   "metadata": {},
   "source": [
    "### Fashion Labels"
   ]
  },
  {
   "cell_type": "code",
   "execution_count": 13,
   "metadata": {},
   "outputs": [
    {
     "name": "stdout",
     "output_type": "stream",
     "text": [
      "wikipedia_labels 96\n",
      "fashion_labels: 45\n",
      "prime_labels: 10\n"
     ]
    }
   ],
   "source": [
    "wikipedia_labels = ['akris_official', 'McQueen', 'alfreddunhill', 'AlphaIndustries', 'andres_sarda', 'Anne_Fontaine',\\\n",
    "                   'aquascutum', 'giorgioarmani', 'emporioarmani', 'ArmaniExchange', 'AspinalofLondon', 'AspreyLondon',\\\n",
    "                   'AleDellAcqua', 'Dior', 'dkny', 'dolcegabbana', '_BadgleyMischka', 'BadgleyMischka', 'BALENCIAGA',\\\n",
    "                   'Bally', 'Balmain', 'BensonAndClegg', 'berluti', 'Beulahlondon', 'ManoloBlahnik', 'HUGOBOSS',\\\n",
    "                    'BottegaVeneta', 'ThomBrowneNY', 'Bulgariofficial', 'Burberry', 'NigelCabourn', 'CalvinKlein',\\\n",
    "                   'camillaandmarc', 'Cartier', 'Dsquared2', 'CERRUTI1881', 'CHANEL', 'Childrensalon', 'chloefashion',\\\n",
    "                   'matthewbridal', 'chromeheartsusa', 'ClementsRibeiro', 'Coach', 'COMMEGARCONS', 'Common Projects',\\\n",
    "                   'corneliajames', 'Corneliani_com', 'CuteCircuit', 'cutlerandgross', 'DegeandSkinner', 'NUMEROVENTUNO',\\\n",
    "                   'dkny', 'dolcegabbana', 'ermannoscervino', 'ESCADA', 'EtroOfficial', 'Faconnable', 'Fendi',\\\n",
    "                    'TOMFORD', 'franksorbier', 'freywilleglobal', 'STUDIO_FULTON', 'DVF', 'JPGaultier', 'GievesLondon',\\\n",
    "                   'givenchy', 'Goyard', 'gucci', 'HackettLondon', 'KevanHallDesign', 'halston', 'Hardy Amies ', 'HELMUTLANG',\\\n",
    "                   'Hermes_Paris', 'HouseofHerrera', 'TommyHilfiger', 'SherriHill', 'GeorgesHobeika', 'marcjacobs', 'jimmychoo',\\\n",
    "                   'johnvarvatos', 'ChristopherKane', 'Karen_Kane', 'katespadeny', 'MaryKatrantzou', ' Khaadi', 'LACOSTE',\\\n",
    "                   'BNYhandbags', 'KarlLagerfeld', 'DerekLamNYC', 'LANVINofficial', 'LardiniOfficial', 'guylaroche', 'Larusmiani',\\\n",
    "                   'JudithLeiber', '']\n",
    "\n",
    "\n",
    "fashion_labels = ['gucci', 'McQueen', 'StellaMcCartney', 'Fendi', 'MaisonValentino', 'Roberto_Cavalli',\\\n",
    "                  'LouboutinWorld', 'EtroOfficial', 'Prada', 'dolcegabbana', 'Dior', 'LouisVuitton', 'CHANEL'\\\n",
    "                 'Missoni', 'OscardelaRenta', 'VeraWangGang', 'HerveLeger', 'MaisonValentino', 'Balmain',\\\n",
    "                 'Versace', 'giorgioarmani', 'DerekLamNYC', 'AlbertaFerretti', 'YSL', 'COMMEGARCONS', 'BALENCIAGA',\\\n",
    "                 'Burberry', 'TOMFORD', 'ALEXVAUTHIER', 'MIUMIUofficial', 'CalvinKlein', 'givenchy', 'TommyHilfiger',\\\n",
    "                 'jimmychoo', 'OffWht', 'chloefashion','dkny', 'marcjacobs', 'MichaelKors', 'Goyard', 'HUGOBOSS',\\\n",
    "                 'kenzo', 'HELMUTLANG', 'acnestudios', 'Bulgariofficial', 'akris_official']\n",
    "\n",
    "prime_labels = ['gucci', 'McQueen', 'StellaMcCartney', 'Roberto_Cavalli', 'acnestudios', 'jimmychoo', 'Roberto_Cavalli',\\\n",
    "               'TOMFORD', 'Prada', 'akris_official']\n",
    "\n",
    "print('wikipedia_labels', len(wikipedia_labels))\n",
    "print('fashion_labels:', len(fashion_labels))\n",
    "print('prime_labels:', len(prime_labels))"
   ]
  },
  {
   "cell_type": "code",
   "execution_count": null,
   "metadata": {},
   "outputs": [],
   "source": []
  },
  {
   "cell_type": "markdown",
   "metadata": {},
   "source": [
    "### Functions "
   ]
  },
  {
   "cell_type": "code",
   "execution_count": 14,
   "metadata": {},
   "outputs": [],
   "source": [
    "#function to connect to posgres db on ubuntu instance \n",
    "\n",
    "def con_cur_to_db():\n",
    "    con = pg2.connect(host = '13.52.0.109', \n",
    "                     dbname = 'postgres',\n",
    "                     user = 'postgres',\n",
    "                     password = 'zoolander')\n",
    "    cur = con.cursor(cursor_factory = RealDictCursor)\n",
    "    return con, cur"
   ]
  },
  {
   "cell_type": "code",
   "execution_count": 15,
   "metadata": {},
   "outputs": [],
   "source": [
    "#function to insert data into unstructured postgres db\n",
    "\n",
    "def insert_json(data):\n",
    "    con, cur = con_cur_to_db()\n",
    "    for x in data:\n",
    "        cur.execute('INSERT INTO all_data (data) VALUES ({});'.format(Json(x)))\n",
    "    con.commit()\n",
    "    con.close()"
   ]
  },
  {
   "cell_type": "code",
   "execution_count": 16,
   "metadata": {},
   "outputs": [],
   "source": [
    "#grabs data from postgres db\n",
    "\n",
    "def fetch_data(query):\n",
    "    con, cur = con_cur_to_db()\n",
    "    cur.execute(query)\n",
    "    data = cur.fetchall()\n",
    "    con.close()\n",
    "    return data"
   ]
  },
  {
   "cell_type": "code",
   "execution_count": 17,
   "metadata": {},
   "outputs": [],
   "source": [
    "#function to run sql queries in postgres db \n",
    "\n",
    "def get_handle_tweets(handle):\n",
    "    query = f\"\"\"\n",
    "    SELECT * \n",
    "    FROM all_data\n",
    "    Where data->>'handle' = \n",
    "    '{handle}'; \"\"\"\n",
    "    data = fetch_data(query)\n",
    "    return data"
   ]
  },
  {
   "cell_type": "code",
   "execution_count": 18,
   "metadata": {},
   "outputs": [],
   "source": [
    "#transforms list of dicts of dicts to list of dicts \n",
    "\n",
    "def extractor(query_result):\n",
    "    return [*map(lambda x: x['data'], query_result)]"
   ]
  },
  {
   "cell_type": "markdown",
   "metadata": {},
   "source": [
    "### Extracting data from postgres db"
   ]
  },
  {
   "cell_type": "code",
   "execution_count": 19,
   "metadata": {},
   "outputs": [
    {
     "data": {
      "text/plain": [
       "(17518, 4)"
      ]
     },
     "execution_count": 19,
     "metadata": {},
     "output_type": "execute_result"
    }
   ],
   "source": [
    "# Extracting data from db and creating a data frame\n",
    "\n",
    "labels = ['Acne Studios', 'Akris', 'Alexander McQueen', 'gucci', 'Jimmy Choo', 'PRADA', 'Roberto Cavalli',\\\n",
    "'Stella McCartney', 'TOM FORD'] \n",
    "\n",
    "data = []\n",
    "\n",
    "for label in labels:\n",
    "    data.extend(get_handle_tweets(label))\n",
    "    \n",
    "extracted_data = extractor(data)\n",
    "\n",
    "fashion = pd.DataFrame(extracted_data)\n",
    "fashion.shape"
   ]
  },
  {
   "cell_type": "code",
   "execution_count": 20,
   "metadata": {},
   "outputs": [
    {
     "data": {
      "text/plain": [
       "gucci                3240\n",
       "Stella McCartney     2000\n",
       "Roberto Cavalli      2000\n",
       "Acne Studios         2000\n",
       "Alexander McQueen    2000\n",
       "Jimmy Choo           1999\n",
       "PRADA                1991\n",
       "TOM FORD             1290\n",
       "Akris                 998\n",
       "Name: handle, dtype: int64"
      ]
     },
     "execution_count": 20,
     "metadata": {},
     "output_type": "execute_result"
    }
   ],
   "source": [
    "fashion.handle.value_counts()"
   ]
  },
  {
   "cell_type": "code",
   "execution_count": null,
   "metadata": {},
   "outputs": [],
   "source": []
  },
  {
   "cell_type": "code",
   "execution_count": null,
   "metadata": {},
   "outputs": [],
   "source": []
  },
  {
   "cell_type": "code",
   "execution_count": null,
   "metadata": {},
   "outputs": [],
   "source": []
  },
  {
   "cell_type": "code",
   "execution_count": null,
   "metadata": {},
   "outputs": [],
   "source": []
  },
  {
   "cell_type": "code",
   "execution_count": null,
   "metadata": {},
   "outputs": [],
   "source": []
  },
  {
   "cell_type": "code",
   "execution_count": null,
   "metadata": {},
   "outputs": [],
   "source": []
  },
  {
   "cell_type": "code",
   "execution_count": null,
   "metadata": {},
   "outputs": [],
   "source": []
  },
  {
   "cell_type": "code",
   "execution_count": null,
   "metadata": {},
   "outputs": [],
   "source": []
  },
  {
   "cell_type": "code",
   "execution_count": null,
   "metadata": {},
   "outputs": [],
   "source": []
  },
  {
   "cell_type": "code",
   "execution_count": null,
   "metadata": {},
   "outputs": [],
   "source": []
  },
  {
   "cell_type": "code",
   "execution_count": null,
   "metadata": {},
   "outputs": [],
   "source": []
  },
  {
   "cell_type": "code",
   "execution_count": null,
   "metadata": {},
   "outputs": [],
   "source": []
  },
  {
   "cell_type": "code",
   "execution_count": null,
   "metadata": {},
   "outputs": [],
   "source": []
  },
  {
   "cell_type": "code",
   "execution_count": null,
   "metadata": {},
   "outputs": [],
   "source": []
  },
  {
   "cell_type": "code",
   "execution_count": null,
   "metadata": {},
   "outputs": [],
   "source": [
    "#################################### dave function \n",
    "\n",
    "items = range(1, 500)\n",
    "\n",
    "# write a function that will capture items in chunks of 10 from 5000, decending\n",
    "bucket = []\n",
    "\n",
    "def grab_10_items():\n",
    "    \n",
    "    # what is the lowest number in bucket so far?\n",
    "    #start from there\n",
    "    \n",
    "    min_bucket = min(bucket)\n",
    "    \n",
    "    if items[min_bucket:-10] in bcuket:\n",
    "        bucket.append(the stuff you find..)\n",
    "\n",
    "grab_10_items()\n"
   ]
  }
 ],
 "metadata": {
  "kernelspec": {
   "display_name": "Python 3",
   "language": "python",
   "name": "python3"
  },
  "language_info": {
   "codemirror_mode": {
    "name": "ipython",
    "version": 3
   },
   "file_extension": ".py",
   "mimetype": "text/x-python",
   "name": "python",
   "nbconvert_exporter": "python",
   "pygments_lexer": "ipython3",
   "version": "3.6.4"
  }
 },
 "nbformat": 4,
 "nbformat_minor": 2
}
