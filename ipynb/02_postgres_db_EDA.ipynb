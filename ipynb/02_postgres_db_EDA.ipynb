{
 "cells": [
  {
   "cell_type": "markdown",
   "metadata": {},
   "source": [
    "### Importing Libraries"
   ]
  },
  {
   "cell_type": "code",
   "execution_count": 1,
   "metadata": {},
   "outputs": [],
   "source": [
    "import numpy as np\n",
    "import pandas as pd\n",
    "\n",
    "from sklearn.feature_extraction.text import ENGLISH_STOP_WORDS\n",
    "from sklearn.feature_extraction.text import CountVectorizer, TfidfVectorizer\n",
    "\n",
    "from nltk.corpus import stopwords\n",
    "\n",
    "import matplotlib.pyplot as plt\n",
    "%matplotlib inline"
   ]
  },
  {
   "cell_type": "code",
   "execution_count": 2,
   "metadata": {},
   "outputs": [
    {
     "name": "stdout",
     "output_type": "stream",
     "text": [
      "[nltk_data] Downloading package stopwords to\n",
      "[nltk_data]     /Users/nathennavon/nltk_data...\n",
      "[nltk_data]   Package stopwords is already up-to-date!\n"
     ]
    },
    {
     "data": {
      "text/plain": [
       "True"
      ]
     },
     "execution_count": 2,
     "metadata": {},
     "output_type": "execute_result"
    }
   ],
   "source": [
    "import nltk\n",
    "nltk.download('stopwords')"
   ]
  },
  {
   "cell_type": "code",
   "execution_count": 3,
   "metadata": {},
   "outputs": [],
   "source": [
    "import numpy as np\n",
    "import pandas as pd\n",
    "\n",
    "import json\n",
    "\n",
    "import psycopg2 as pg2\n",
    "from psycopg2.extras import RealDictCursor, Json"
   ]
  },
  {
   "cell_type": "markdown",
   "metadata": {},
   "source": [
    "### Functions"
   ]
  },
  {
   "cell_type": "code",
   "execution_count": 4,
   "metadata": {},
   "outputs": [],
   "source": [
    "#function to connect to posgres db on ubuntu instance \n",
    "\n",
    "def con_cur_to_db():\n",
    "    con = pg2.connect(host = '13.52.0.109', \n",
    "                     dbname = 'postgres',\n",
    "                     user = 'postgres',\n",
    "                     password = 'zoolander')\n",
    "    cur = con.cursor(cursor_factory = RealDictCursor)\n",
    "    return con, cur"
   ]
  },
  {
   "cell_type": "code",
   "execution_count": 5,
   "metadata": {},
   "outputs": [],
   "source": [
    "#grabs data from postgres db\n",
    "\n",
    "def fetch_data(query):\n",
    "    con, cur = con_cur_to_db()\n",
    "    cur.execute(query)\n",
    "    data = cur.fetchall()\n",
    "    con.close()\n",
    "    return data"
   ]
  },
  {
   "cell_type": "code",
   "execution_count": 6,
   "metadata": {},
   "outputs": [],
   "source": [
    "#function to run sql queries in postgres db \n",
    "\n",
    "def get_handle_tweets(handle):\n",
    "    query = f\"\"\"\n",
    "    SELECT * \n",
    "    FROM all_data\n",
    "    Where data->>'handle' = \n",
    "    '{handle}'; \"\"\"\n",
    "    data = fetch_data(query)\n",
    "    return data"
   ]
  },
  {
   "cell_type": "code",
   "execution_count": 7,
   "metadata": {},
   "outputs": [],
   "source": [
    "#transforms list of dicts of dicts to list of dicts \n",
    "\n",
    "def extractor(query_result):\n",
    "    return [*map(lambda x: x['data'], query_result)]"
   ]
  },
  {
   "cell_type": "markdown",
   "metadata": {},
   "source": [
    "### Loading Data"
   ]
  },
  {
   "cell_type": "code",
   "execution_count": 8,
   "metadata": {},
   "outputs": [
    {
     "data": {
      "text/plain": [
       "(17518, 4)"
      ]
     },
     "execution_count": 8,
     "metadata": {},
     "output_type": "execute_result"
    }
   ],
   "source": [
    "# Extracting data from db and creating a data frame\n",
    "\n",
    "labels = ['Acne Studios', 'Akris', 'Alexander McQueen', 'gucci', 'Jimmy Choo', 'PRADA', 'Roberto Cavalli',\\\n",
    "'Stella McCartney', 'TOM FORD'] \n",
    "\n",
    "data = []\n",
    "\n",
    "for label in labels:\n",
    "    data.extend(get_handle_tweets(label))\n",
    "    \n",
    "extracted_data = extractor(data)\n",
    "\n",
    "fashion_db = pd.DataFrame(extracted_data)\n",
    "fashion_db.shape"
   ]
  },
  {
   "cell_type": "code",
   "execution_count": 9,
   "metadata": {},
   "outputs": [
    {
     "data": {
      "text/plain": [
       "gucci                3240\n",
       "Acne Studios         2000\n",
       "Stella McCartney     2000\n",
       "Roberto Cavalli      2000\n",
       "Alexander McQueen    2000\n",
       "Jimmy Choo           1999\n",
       "PRADA                1991\n",
       "TOM FORD             1290\n",
       "Akris                 998\n",
       "Name: handle, dtype: int64"
      ]
     },
     "execution_count": 9,
     "metadata": {},
     "output_type": "execute_result"
    }
   ],
   "source": [
    "fashion_db.handle.value_counts()"
   ]
  },
  {
   "cell_type": "code",
   "execution_count": null,
   "metadata": {},
   "outputs": [],
   "source": []
  },
  {
   "cell_type": "code",
   "execution_count": null,
   "metadata": {},
   "outputs": [],
   "source": []
  },
  {
   "cell_type": "code",
   "execution_count": null,
   "metadata": {},
   "outputs": [],
   "source": []
  },
  {
   "cell_type": "code",
   "execution_count": null,
   "metadata": {},
   "outputs": [],
   "source": []
  },
  {
   "cell_type": "code",
   "execution_count": null,
   "metadata": {},
   "outputs": [],
   "source": []
  },
  {
   "cell_type": "code",
   "execution_count": null,
   "metadata": {},
   "outputs": [],
   "source": []
  },
  {
   "cell_type": "code",
   "execution_count": null,
   "metadata": {},
   "outputs": [],
   "source": []
  },
  {
   "cell_type": "code",
   "execution_count": null,
   "metadata": {},
   "outputs": [],
   "source": []
  },
  {
   "cell_type": "code",
   "execution_count": null,
   "metadata": {},
   "outputs": [],
   "source": []
  },
  {
   "cell_type": "code",
   "execution_count": 4,
   "metadata": {},
   "outputs": [],
   "source": [
    "fashion = pd.read_pickle('../data/fashion.pkl')"
   ]
  },
  {
   "cell_type": "markdown",
   "metadata": {},
   "source": [
    "### EDA & Cleaning"
   ]
  },
  {
   "cell_type": "code",
   "execution_count": 89,
   "metadata": {},
   "outputs": [
    {
     "data": {
      "text/plain": [
       "(9000, 3)"
      ]
     },
     "execution_count": 89,
     "metadata": {},
     "output_type": "execute_result"
    }
   ],
   "source": [
    "fashion.shape"
   ]
  },
  {
   "cell_type": "code",
   "execution_count": 90,
   "metadata": {},
   "outputs": [
    {
     "data": {
      "text/plain": [
       "Index(['created', 'text', 'tweet_id'], dtype='object')"
      ]
     },
     "execution_count": 90,
     "metadata": {},
     "output_type": "execute_result"
    }
   ],
   "source": [
    "fashion.columns"
   ]
  },
  {
   "cell_type": "code",
   "execution_count": 91,
   "metadata": {},
   "outputs": [
    {
     "data": {
      "text/plain": [
       "'Presenting a new chapter of #InBloom, Gucci Bloom Acqua di Fiori, a fresh green scent in a campaign featuring #DakotaJohnson, @harinef and @petracollins https://t.co/El1buBhuCU \\nPhotographer: #GlenLunchford\\nArt director: #ChristopherSimmonds\\nCreative director: #AlessandroMichele https://t.co/xkTe1Mtvlk'"
      ]
     },
     "execution_count": 91,
     "metadata": {},
     "output_type": "execute_result"
    }
   ],
   "source": [
    "fashion.text[0]"
   ]
  },
  {
   "cell_type": "code",
   "execution_count": 92,
   "metadata": {},
   "outputs": [
    {
     "name": "stdout",
     "output_type": "stream",
     "text": [
      "<class 'pandas.core.frame.DataFrame'>\n",
      "Index: 9000 entries, gucci to PRADA\n",
      "Data columns (total 3 columns):\n",
      "created     9000 non-null datetime64[ns]\n",
      "text        9000 non-null object\n",
      "tweet_id    9000 non-null int64\n",
      "dtypes: datetime64[ns](1), int64(1), object(1)\n",
      "memory usage: 601.2+ KB\n"
     ]
    }
   ],
   "source": [
    "fashion.info()"
   ]
  },
  {
   "cell_type": "code",
   "execution_count": 10,
   "metadata": {},
   "outputs": [
    {
     "data": {
      "text/plain": [
       "created     datetime64[ns]\n",
       "text                object\n",
       "tweet_id             int64\n",
       "dtype: object"
      ]
     },
     "execution_count": 10,
     "metadata": {},
     "output_type": "execute_result"
    }
   ],
   "source": [
    "#switching date of tweet dtype from object to date-time\n",
    "fashion['created'] = pd.to_datetime(fashion.created)\n",
    "\n",
    "#setting handle as index\n",
    "fashion.set_index('handle', inplace=True)\n",
    "\n",
    "fashion.dtypes"
   ]
  },
  {
   "cell_type": "code",
   "execution_count": 37,
   "metadata": {},
   "outputs": [
    {
     "data": {
      "text/plain": [
       "handle\n",
       "Acne Studios         1000\n",
       "Alexander McQueen    1000\n",
       "Jimmy Choo           1000\n",
       "PRADA                1000\n",
       "Roberto Cavalli      2000\n",
       "Stella McCartney     1000\n",
       "TOM FORD             1000\n",
       "gucci                1000\n",
       "dtype: int64"
      ]
     },
     "execution_count": 37,
     "metadata": {},
     "output_type": "execute_result"
    }
   ],
   "source": [
    "fashion.groupby(fashion.index).size()"
   ]
  },
  {
   "cell_type": "code",
   "execution_count": 11,
   "metadata": {},
   "outputs": [
    {
     "data": {
      "text/html": [
       "<div>\n",
       "<style scoped>\n",
       "    .dataframe tbody tr th:only-of-type {\n",
       "        vertical-align: middle;\n",
       "    }\n",
       "\n",
       "    .dataframe tbody tr th {\n",
       "        vertical-align: top;\n",
       "    }\n",
       "\n",
       "    .dataframe thead th {\n",
       "        text-align: right;\n",
       "    }\n",
       "</style>\n",
       "<table border=\"1\" class=\"dataframe\">\n",
       "  <thead>\n",
       "    <tr style=\"text-align: right;\">\n",
       "      <th></th>\n",
       "      <th>created</th>\n",
       "      <th>text</th>\n",
       "      <th>tweet_id</th>\n",
       "    </tr>\n",
       "    <tr>\n",
       "      <th>handle</th>\n",
       "      <th></th>\n",
       "      <th></th>\n",
       "      <th></th>\n",
       "    </tr>\n",
       "  </thead>\n",
       "  <tbody>\n",
       "    <tr>\n",
       "      <th>gucci</th>\n",
       "      <td>2018-03-21 17:59:41</td>\n",
       "      <td>Presenting a new chapter of #InBloom, Gucci Bl...</td>\n",
       "      <td>976518722830716931</td>\n",
       "    </tr>\n",
       "    <tr>\n",
       "      <th>gucci</th>\n",
       "      <td>2018-03-20 19:00:35</td>\n",
       "      <td>“It was my way of surviving, to charm people o...</td>\n",
       "      <td>976171664982659073</td>\n",
       "    </tr>\n",
       "    <tr>\n",
       "      <th>gucci</th>\n",
       "      <td>2018-03-20 16:00:39</td>\n",
       "      <td>.@MichaelClarkCo reveals, \"Japan is the most a...</td>\n",
       "      <td>976126380206383104</td>\n",
       "    </tr>\n",
       "    <tr>\n",
       "      <th>gucci</th>\n",
       "      <td>2018-03-20 13:00:24</td>\n",
       "      <td>In ‘The Performers’ Act VI #Gucci and @british...</td>\n",
       "      <td>976081018347237378</td>\n",
       "    </tr>\n",
       "    <tr>\n",
       "      <th>gucci</th>\n",
       "      <td>2018-03-19 20:00:19</td>\n",
       "      <td>\"I have always been fascinated by what is acce...</td>\n",
       "      <td>975824309263454209</td>\n",
       "    </tr>\n",
       "  </tbody>\n",
       "</table>\n",
       "</div>"
      ],
      "text/plain": [
       "                   created                                               text  \\\n",
       "handle                                                                          \n",
       "gucci  2018-03-21 17:59:41  Presenting a new chapter of #InBloom, Gucci Bl...   \n",
       "gucci  2018-03-20 19:00:35  “It was my way of surviving, to charm people o...   \n",
       "gucci  2018-03-20 16:00:39  .@MichaelClarkCo reveals, \"Japan is the most a...   \n",
       "gucci  2018-03-20 13:00:24  In ‘The Performers’ Act VI #Gucci and @british...   \n",
       "gucci  2018-03-19 20:00:19  \"I have always been fascinated by what is acce...   \n",
       "\n",
       "                  tweet_id  \n",
       "handle                      \n",
       "gucci   976518722830716931  \n",
       "gucci   976171664982659073  \n",
       "gucci   976126380206383104  \n",
       "gucci   976081018347237378  \n",
       "gucci   975824309263454209  "
      ]
     },
     "execution_count": 11,
     "metadata": {},
     "output_type": "execute_result"
    }
   ],
   "source": [
    "fashion.head()"
   ]
  },
  {
   "cell_type": "markdown",
   "metadata": {},
   "source": [
    "### ngrams"
   ]
  },
  {
   "cell_type": "code",
   "execution_count": 81,
   "metadata": {},
   "outputs": [
    {
     "data": {
      "text/plain": [
       "(9000, 124489)"
      ]
     },
     "execution_count": 81,
     "metadata": {},
     "output_type": "execute_result"
    }
   ],
   "source": [
    "#NLTK stop words\n",
    "stop = stopwords.words('english')\n",
    "#stop.append(['https', '2018', '2017'])\n",
    "\n",
    "#sklearn stop words\n",
    "stop_words = list(ENGLISH_STOP_WORDS)\n",
    "stop_words.append('https')\n",
    "\n",
    "#vectorizing words\n",
    "vect = CountVectorizer(stop_words=stop_words, ngram_range=(2,3))\n",
    "X = vect.fit_transform(fashion.text)\n",
    "\n",
    "all_text = pd.DataFrame(X.toarray(), columns=vect.get_feature_names())\n",
    "all_text.index = fashion.index\n",
    "all_text.shape"
   ]
  },
  {
   "cell_type": "code",
   "execution_count": null,
   "metadata": {},
   "outputs": [],
   "source": []
  },
  {
   "cell_type": "code",
   "execution_count": 70,
   "metadata": {
    "scrolled": true
   },
   "outputs": [
    {
     "data": {
      "text/html": [
       "<div>\n",
       "<style scoped>\n",
       "    .dataframe tbody tr th:only-of-type {\n",
       "        vertical-align: middle;\n",
       "    }\n",
       "\n",
       "    .dataframe tbody tr th {\n",
       "        vertical-align: top;\n",
       "    }\n",
       "\n",
       "    .dataframe thead th {\n",
       "        text-align: right;\n",
       "    }\n",
       "</style>\n",
       "<table border=\"1\" class=\"dataframe\">\n",
       "  <thead>\n",
       "    <tr style=\"text-align: right;\">\n",
       "      <th></th>\n",
       "      <th>00 gmt</th>\n",
       "      <th>00 gmt 2bconj6d8d</th>\n",
       "      <th>00 gmt offwhitejimmychoo</th>\n",
       "      <th>00 gmt ugikbfzmqs</th>\n",
       "      <th>00 milan</th>\n",
       "      <th>00 milan time</th>\n",
       "      <th>00 pm</th>\n",
       "      <th>00 pm milan</th>\n",
       "      <th>000 risk</th>\n",
       "      <th>000 risk people</th>\n",
       "      <th>...</th>\n",
       "      <th>第2弾はピースサインやテディベア アクネ</th>\n",
       "      <th>第2弾はピースサインやテディベア アクネ ストゥディオズのemojiコレクション</th>\n",
       "      <th>訂正 アクネ</th>\n",
       "      <th>訂正 アクネ ストゥディオズ</th>\n",
       "      <th>送吉祥 roberto</th>\n",
       "      <th>送吉祥 roberto cavalli祝您狗年旺旺旺</th>\n",
       "      <th>進化したデニムコレクションをストアでチェック acnestudiosblakonst</th>\n",
       "      <th>進化したデニムコレクションをストアでチェック acnestudiosblakonst 1kcg5ay8bl</th>\n",
       "      <th>１０ 進化したデニムコレクションをストアでチェック</th>\n",
       "      <th>１０ 進化したデニムコレクションをストアでチェック acnestudiosblakonst</th>\n",
       "    </tr>\n",
       "    <tr>\n",
       "      <th>handle</th>\n",
       "      <th></th>\n",
       "      <th></th>\n",
       "      <th></th>\n",
       "      <th></th>\n",
       "      <th></th>\n",
       "      <th></th>\n",
       "      <th></th>\n",
       "      <th></th>\n",
       "      <th></th>\n",
       "      <th></th>\n",
       "      <th></th>\n",
       "      <th></th>\n",
       "      <th></th>\n",
       "      <th></th>\n",
       "      <th></th>\n",
       "      <th></th>\n",
       "      <th></th>\n",
       "      <th></th>\n",
       "      <th></th>\n",
       "      <th></th>\n",
       "      <th></th>\n",
       "    </tr>\n",
       "  </thead>\n",
       "  <tbody>\n",
       "    <tr>\n",
       "      <th>gucci</th>\n",
       "      <td>0</td>\n",
       "      <td>0</td>\n",
       "      <td>0</td>\n",
       "      <td>0</td>\n",
       "      <td>0</td>\n",
       "      <td>0</td>\n",
       "      <td>0</td>\n",
       "      <td>0</td>\n",
       "      <td>0</td>\n",
       "      <td>0</td>\n",
       "      <td>...</td>\n",
       "      <td>0</td>\n",
       "      <td>0</td>\n",
       "      <td>0</td>\n",
       "      <td>0</td>\n",
       "      <td>0</td>\n",
       "      <td>0</td>\n",
       "      <td>0</td>\n",
       "      <td>0</td>\n",
       "      <td>0</td>\n",
       "      <td>0</td>\n",
       "    </tr>\n",
       "    <tr>\n",
       "      <th>gucci</th>\n",
       "      <td>0</td>\n",
       "      <td>0</td>\n",
       "      <td>0</td>\n",
       "      <td>0</td>\n",
       "      <td>0</td>\n",
       "      <td>0</td>\n",
       "      <td>0</td>\n",
       "      <td>0</td>\n",
       "      <td>0</td>\n",
       "      <td>0</td>\n",
       "      <td>...</td>\n",
       "      <td>0</td>\n",
       "      <td>0</td>\n",
       "      <td>0</td>\n",
       "      <td>0</td>\n",
       "      <td>0</td>\n",
       "      <td>0</td>\n",
       "      <td>0</td>\n",
       "      <td>0</td>\n",
       "      <td>0</td>\n",
       "      <td>0</td>\n",
       "    </tr>\n",
       "    <tr>\n",
       "      <th>gucci</th>\n",
       "      <td>0</td>\n",
       "      <td>0</td>\n",
       "      <td>0</td>\n",
       "      <td>0</td>\n",
       "      <td>0</td>\n",
       "      <td>0</td>\n",
       "      <td>0</td>\n",
       "      <td>0</td>\n",
       "      <td>0</td>\n",
       "      <td>0</td>\n",
       "      <td>...</td>\n",
       "      <td>0</td>\n",
       "      <td>0</td>\n",
       "      <td>0</td>\n",
       "      <td>0</td>\n",
       "      <td>0</td>\n",
       "      <td>0</td>\n",
       "      <td>0</td>\n",
       "      <td>0</td>\n",
       "      <td>0</td>\n",
       "      <td>0</td>\n",
       "    </tr>\n",
       "    <tr>\n",
       "      <th>gucci</th>\n",
       "      <td>0</td>\n",
       "      <td>0</td>\n",
       "      <td>0</td>\n",
       "      <td>0</td>\n",
       "      <td>0</td>\n",
       "      <td>0</td>\n",
       "      <td>0</td>\n",
       "      <td>0</td>\n",
       "      <td>0</td>\n",
       "      <td>0</td>\n",
       "      <td>...</td>\n",
       "      <td>0</td>\n",
       "      <td>0</td>\n",
       "      <td>0</td>\n",
       "      <td>0</td>\n",
       "      <td>0</td>\n",
       "      <td>0</td>\n",
       "      <td>0</td>\n",
       "      <td>0</td>\n",
       "      <td>0</td>\n",
       "      <td>0</td>\n",
       "    </tr>\n",
       "    <tr>\n",
       "      <th>gucci</th>\n",
       "      <td>0</td>\n",
       "      <td>0</td>\n",
       "      <td>0</td>\n",
       "      <td>0</td>\n",
       "      <td>0</td>\n",
       "      <td>0</td>\n",
       "      <td>0</td>\n",
       "      <td>0</td>\n",
       "      <td>0</td>\n",
       "      <td>0</td>\n",
       "      <td>...</td>\n",
       "      <td>0</td>\n",
       "      <td>0</td>\n",
       "      <td>0</td>\n",
       "      <td>0</td>\n",
       "      <td>0</td>\n",
       "      <td>0</td>\n",
       "      <td>0</td>\n",
       "      <td>0</td>\n",
       "      <td>0</td>\n",
       "      <td>0</td>\n",
       "    </tr>\n",
       "  </tbody>\n",
       "</table>\n",
       "<p>5 rows × 124489 columns</p>\n",
       "</div>"
      ],
      "text/plain": [
       "        00 gmt  00 gmt 2bconj6d8d  00 gmt offwhitejimmychoo  \\\n",
       "handle                                                        \n",
       "gucci        0                  0                         0   \n",
       "gucci        0                  0                         0   \n",
       "gucci        0                  0                         0   \n",
       "gucci        0                  0                         0   \n",
       "gucci        0                  0                         0   \n",
       "\n",
       "        00 gmt ugikbfzmqs  00 milan  00 milan time  00 pm  00 pm milan  \\\n",
       "handle                                                                   \n",
       "gucci                   0         0              0      0            0   \n",
       "gucci                   0         0              0      0            0   \n",
       "gucci                   0         0              0      0            0   \n",
       "gucci                   0         0              0      0            0   \n",
       "gucci                   0         0              0      0            0   \n",
       "\n",
       "        000 risk  000 risk people  \\\n",
       "handle                              \n",
       "gucci          0                0   \n",
       "gucci          0                0   \n",
       "gucci          0                0   \n",
       "gucci          0                0   \n",
       "gucci          0                0   \n",
       "\n",
       "                            ...                        第2弾はピースサインやテディベア アクネ  \\\n",
       "handle                      ...                                               \n",
       "gucci                       ...                                           0   \n",
       "gucci                       ...                                           0   \n",
       "gucci                       ...                                           0   \n",
       "gucci                       ...                                           0   \n",
       "gucci                       ...                                           0   \n",
       "\n",
       "        第2弾はピースサインやテディベア アクネ ストゥディオズのemojiコレクション  訂正 アクネ  訂正 アクネ ストゥディオズ  \\\n",
       "handle                                                                     \n",
       "gucci                                          0       0               0   \n",
       "gucci                                          0       0               0   \n",
       "gucci                                          0       0               0   \n",
       "gucci                                          0       0               0   \n",
       "gucci                                          0       0               0   \n",
       "\n",
       "        送吉祥 roberto  送吉祥 roberto cavalli祝您狗年旺旺旺  \\\n",
       "handle                                            \n",
       "gucci             0                           0   \n",
       "gucci             0                           0   \n",
       "gucci             0                           0   \n",
       "gucci             0                           0   \n",
       "gucci             0                           0   \n",
       "\n",
       "        進化したデニムコレクションをストアでチェック acnestudiosblakonst  \\\n",
       "handle                                               \n",
       "gucci                                            0   \n",
       "gucci                                            0   \n",
       "gucci                                            0   \n",
       "gucci                                            0   \n",
       "gucci                                            0   \n",
       "\n",
       "        進化したデニムコレクションをストアでチェック acnestudiosblakonst 1kcg5ay8bl  \\\n",
       "handle                                                          \n",
       "gucci                                                   0       \n",
       "gucci                                                   0       \n",
       "gucci                                                   0       \n",
       "gucci                                                   0       \n",
       "gucci                                                   0       \n",
       "\n",
       "        １０ 進化したデニムコレクションをストアでチェック  \\\n",
       "handle                              \n",
       "gucci                           0   \n",
       "gucci                           0   \n",
       "gucci                           0   \n",
       "gucci                           0   \n",
       "gucci                           0   \n",
       "\n",
       "        １０ 進化したデニムコレクションをストアでチェック acnestudiosblakonst  \n",
       "handle                                                 \n",
       "gucci                                               0  \n",
       "gucci                                               0  \n",
       "gucci                                               0  \n",
       "gucci                                               0  \n",
       "gucci                                               0  \n",
       "\n",
       "[5 rows x 124489 columns]"
      ]
     },
     "execution_count": 70,
     "metadata": {},
     "output_type": "execute_result"
    }
   ],
   "source": [
    "#pd.set_option('display.max_columns', 999)\n",
    "#pd.set_option('display.max_colwidth', 999)\n",
    "\n",
    "all_text.head()"
   ]
  },
  {
   "cell_type": "code",
   "execution_count": 71,
   "metadata": {},
   "outputs": [
    {
     "name": "stdout",
     "output_type": "stream",
     "text": [
      "<class 'pandas.core.frame.DataFrame'>\n",
      "Index: 9000 entries, gucci to PRADA\n",
      "Columns: 124489 entries, 00 gmt to １０ 進化したデニムコレクションをストアでチェック acnestudiosblakonst\n",
      "dtypes: int64(124489)\n",
      "memory usage: 8.3+ GB\n"
     ]
    }
   ],
   "source": [
    "all_text.info()"
   ]
  },
  {
   "cell_type": "code",
   "execution_count": null,
   "metadata": {},
   "outputs": [],
   "source": []
  },
  {
   "cell_type": "code",
   "execution_count": null,
   "metadata": {},
   "outputs": [],
   "source": []
  },
  {
   "cell_type": "code",
   "execution_count": 72,
   "metadata": {},
   "outputs": [],
   "source": [
    "ng = []\n",
    "\n",
    "for label in ['gucci', 'McQueen', 'StellaMcCartney', 'Roberto_Cavalli', 'acnestudios', 'jimmychoo', 'Roberto_Cavalli',\\\n",
    "               'TOMFORD', 'Prada']:\n",
    "    ng.extend(all_text[all_text.index == label].sum().sort_values(ascending=False).head(25))"
   ]
  },
  {
   "cell_type": "code",
   "execution_count": null,
   "metadata": {},
   "outputs": [],
   "source": []
  },
  {
   "cell_type": "code",
   "execution_count": 73,
   "metadata": {},
   "outputs": [],
   "source": [
    "gucci_ng           = all_text[all_text.index == \"gucci\"].sum().sort_values(ascending=False).head(25)\n",
    "mcqueen_ng         = all_text[all_text.index == \"Alexander McQueen\"].sum().sort_values(ascending=False).head(25)\n",
    "stellamccartney_ng = all_text[all_text.index == \"Stella McCartney\"].sum().sort_values(ascending=False).head(25)\n",
    "robertocavalli_ng  = all_text[all_text.index == \"Roberto Cavalli\"].sum().sort_values(ascending=False).head(25)"
   ]
  },
  {
   "cell_type": "code",
   "execution_count": 74,
   "metadata": {},
   "outputs": [
    {
     "data": {
      "text/plain": [
       "robertocavallifw16 collection                             260\n",
       "justcavallifw16 collection                                148\n",
       "robertocavalliss17 collection                             142\n",
       "robertocavalliprefall16 collection                         80\n",
       "robertocavalli ss18                                        76\n",
       "collection discover                                        62\n",
       "chiffon dress                                              60\n",
       "robertocavallifw16 fashion                                 52\n",
       "collection featured                                        46\n",
       "robertocavalli fw17                                        44\n",
       "total look                                                 42\n",
       "mini dress                                                 40\n",
       "collection robertocavallieditorials                        40\n",
       "robertocavalliresort17 collection                          38\n",
       "robertocavallifw16 collection robertocavallieditorials     36\n",
       "evening gown                                               36\n",
       "long sleeve                                                36\n",
       "evening dress                                              36\n",
       "dress robertocavallifw16                                   36\n",
       "ss18 collection                                            34\n",
       "fall winter                                                34\n",
       "animalier printed                                          34\n",
       "spring summer                                              34\n",
       "leather jacket                                             34\n",
       "roberto cavalli                                            34\n",
       "dtype: int64"
      ]
     },
     "execution_count": 74,
     "metadata": {},
     "output_type": "execute_result"
    }
   ],
   "source": [
    "all_text[all_text.index == \"Roberto Cavalli\"].sum().sort_values(ascending=False).head(25)"
   ]
  },
  {
   "cell_type": "code",
   "execution_count": null,
   "metadata": {},
   "outputs": [],
   "source": []
  },
  {
   "cell_type": "code",
   "execution_count": 75,
   "metadata": {},
   "outputs": [
    {
     "data": {
      "image/png": "[encoded data removed]",
      "text/plain": [
       "<matplotlib.figure.Figure at 0x1c58d61908>"
      ]
     },
     "metadata": {},
     "output_type": "display_data"
    }
   ],
   "source": [
    "gucci_ng.plot(kind='barh', figsize=(20,16));"
   ]
  },
  {
   "cell_type": "code",
   "execution_count": 76,
   "metadata": {},
   "outputs": [
    {
     "data": {
      "image/png": "[encoded data removed]",
      "text/plain": [
       "<matplotlib.figure.Figure at 0x1c507707f0>"
      ]
     },
     "metadata": {},
     "output_type": "display_data"
    }
   ],
   "source": [
    "mcqueen_ng.plot(kind='barh', figsize=(20,16));"
   ]
  },
  {
   "cell_type": "code",
   "execution_count": 77,
   "metadata": {},
   "outputs": [
    {
     "data": {
      "image/png": "[encoded data removed]",
      "text/plain": [
       "<matplotlib.figure.Figure at 0x1c50865400>"
      ]
     },
     "metadata": {},
     "output_type": "display_data"
    }
   ],
   "source": [
    "stellamccartney_ng.plot(kind='barh', figsize=(20,16));"
   ]
  },
  {
   "cell_type": "code",
   "execution_count": null,
   "metadata": {},
   "outputs": [],
   "source": []
  },
  {
   "cell_type": "code",
   "execution_count": null,
   "metadata": {},
   "outputs": [],
   "source": []
  },
  {
   "cell_type": "code",
   "execution_count": null,
   "metadata": {},
   "outputs": [],
   "source": []
  },
  {
   "cell_type": "code",
   "execution_count": null,
   "metadata": {},
   "outputs": [],
   "source": [
    "plt.figure(figsize=(12,8))\n",
    "plt.title('', fontsize=18)\n",
    "plt.xlabel('')\n",
    "plt.ylabel('')\n",
    "plt.plot(kind=barh)\n",
    "plt.tight_layout()\n",
    "plt.savefig('visuals/.jpg')"
   ]
  }
 ],
 "metadata": {
  "kernelspec": {
   "display_name": "Python 3",
   "language": "python",
   "name": "python3"
  },
  "language_info": {
   "codemirror_mode": {
    "name": "ipython",
    "version": 3
   },
   "file_extension": ".py",
   "mimetype": "text/x-python",
   "name": "python",
   "nbconvert_exporter": "python",
   "pygments_lexer": "ipython3",
   "version": "3.6.4"
  }
 },
 "nbformat": 4,
 "nbformat_minor": 2
}
